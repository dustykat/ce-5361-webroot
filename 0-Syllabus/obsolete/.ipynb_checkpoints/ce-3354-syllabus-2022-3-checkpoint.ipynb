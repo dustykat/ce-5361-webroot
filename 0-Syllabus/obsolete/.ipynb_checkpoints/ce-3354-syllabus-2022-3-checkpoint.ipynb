{
 "cells": [
  {
   "cell_type": "markdown",
   "metadata": {},
   "source": [
    "# CE 3354 Engineering Hydrology\n",
    "\n",
    "## Course Catalog Description: \n",
    "\n",
    "(3) Analysis and design methods related to the occurrence and distribution of surface and groundwater; precipitation, infiltration, runoff, and frequency analysis. \n",
    "\n",
    "## Prerequisites: \n",
    "CE 3305 or equivalent"
   ]
  },
  {
   "cell_type": "markdown",
   "metadata": {},
   "source": [
    "<!-- ## COVID-19 Important Guidelines:\n",
    "* If Texas Tech University campus operations are required to change because of health concerns related to the COVID-19 pandemic, it is possible that this course will move to a fully online delivery format.  Should that be necessary, students will be advised of technical and/or equipment requirements, including remote proctoring software.  \n",
    "\n",
    "* Policy on absences resulting from illness: We anticipate that some students may have extended absences.  To avoid students feeling compelled to attend in-person class periods when having symptoms or feeling unwell, a standard policy is provided that holds students harmless for illness-related absences (see Section A below).\n",
    "\n",
    "\n",
    "### A. Illness-Based Absence Policy (Face-to-Face Classes)\n",
    "If at any time during the semester you are ill, in the interest of your own health and safety as well as the health and safety of your instructors and classmates, you are encouraged not to attend face-to-face class meetings or events.  Please review the steps outlined below that you should follow to ensure your absence for illness will be excused.  These steps also apply to not participating in synchronous online class meetings if you feel too ill to do so and missing specified assignment due dates in asynchronous online classes because of illness.\n",
    "\n",
    "1. If you are ill and think the symptoms might be COVID-19-related:\n",
    "\n",
    "    1. Call Student Health Services at 806.743.2848 or your health care provider.  During after-hours and on weekends, contact TTU COVID-19 Helpline at TBD.\n",
    "    2. Self-report as soon as possible using the Dean of Students COVID-19 webpage. This website has specific directions about how to upload documentation from a medical provider and what will happen if your illness renders you unable to participate in classes for more than one week.\n",
    "    3. If your illness is determined to be COVID-19-related, all remaining documentation and communication will be handled through the Office of the Dean of Students, including notification of your instructors of the time you may be absent from and may return to classes.\n",
    "    4. If your illness is determined not to be COVID-19-related, please follow steps 2.a-d below.\n",
    "\n",
    "\n",
    "2. If you are ill and can attribute your symptoms to something other than COVID-19:\n",
    "\n",
    "    1. If your illness renders you unable to attend face-to-face classes, participate in synchronous online classes, or miss specified assignment due dates in asynchronous online classes, you are encouraged to contact either Student Health Services at 806.743.2848 or your health care provider.  Note that Student Health Services and your own and other health care providers may arrange virtual visits.\n",
    "    2. During the health provider visit, request a “return to school” note.\n",
    "    3. E-mail the instructor a picture of that note.\n",
    "    4. Return to class by the next class period after the date indicated on your note.\n",
    "\n",
    "Following the steps outlined above helps to keep your instructors informed about your absences and ensures your absence or missing an assignment due date because of illness will be marked excused.  You will still be responsible to complete within a week of returning to class any assignments, quizzes, or exams you miss because of illness.\n",
    "\n",
    "### B. Illness-Based Absence Policy (Telepresence/On-Line Classes)\n",
    "Same as above with respect potential to infect others; go to a health care provider if you are ill.  Telepresence courses are recorded and will be available on TTU MediaSite and/or YouTube (unlisted).  Exercises, Quizzes, and Examinations are all administered by a Learning Management System (Blackboard) and students need to allow enough time to complete and upload their work.  Due date adjustments/late submits on case-by-case basis; documentation required as in subsection **A** above. -->"
   ]
  },
  {
   "cell_type": "markdown",
   "metadata": {},
   "source": [
    "## Course Sections\n",
    "Lesson time, days, and location: \n",
    "\n",
    "1. Section 002; CRN 73373; 1100-1220 T-Th ; EE 00118\n",
    "\n",
    "## Course Instructor:\n",
    "\n",
    "Instructor: Theodore G. Cleveland, Ph.D., P.E., M. ASCE, F. EWRI\n",
    "\n",
    "Email: theodore.cleveland@ttu.edu  (put CE 3354 in subject line for email related to this class)\n",
    "\n",
    "Office location: CECE 203F; but prefer Telepresence (Zoom)\n",
    "\n",
    "Office hours: TBD (meetings will be by Zoom call)\n",
    "\n",
    "## Teaching Assistant:\n",
    "\n",
    "Teaching Assistant: none authorized \n",
    "\n",
    "Email : N/A\n",
    "\n",
    "Office location: N/A\n",
    "\n",
    "Office hours: N/A"
   ]
  },
  {
   "cell_type": "markdown",
   "metadata": {},
   "source": [
    "## Textbook(s): \n",
    "Gupta, R.S., 2017. Hydrology and Hydraulic Systems, Waveland Press, ISBN 10: 1-4786-3091-4; ISBN 13: 978-1-4786-3091-3, 888p. <br>\n",
    "[Waveland Press - purchase](https://www.waveland.com/browse.php?t=384)<br>\n",
    "[Amazon - purchase or rent](https://www.amazon.com/Hydrology-Hydraulic-Systems-Fourth-Gupta-dp-1478630914/dp/1478630914/ref=dp_ob_title_bk)<br>\n",
    "\n",
    "[Supplimental Readings](http://54.243.252.9/ce-3354-webroot/3-Readings/) are stored on the class server.  Many are linked below in the schedule; However if you browse, you will need to open the target files to see the topic."
   ]
  },
  {
   "cell_type": "markdown",
   "metadata": {},
   "source": [
    "## Course Objectives: \n",
    "Theory and application of hydrologic concepts; learn how to use predictive tools such as charts and computer programs,  and apply these tools to the analysis and design of collection and drainage systems.  Preparation of a professional report is a component of this course."
   ]
  },
  {
   "cell_type": "markdown",
   "metadata": {},
   "source": [
    "## Knowledge, Skills, Abilities (KSA) :\n",
    "During this course the student will\n",
    "1.  Read, synthesize, and communicate ideas presented in current and historical technicalliterature.\n",
    "2.  Delineate  watersheds  from  maps  and  determine  common  metrics  (area,  slope,  mainchannel length) using digital planimetry.\n",
    "3.  Perform hydrologic computations using JupyterLab, Excel, LibreOffice and other tools, as needed.\n",
    "4.  Perform hydrologic simulation using HEC-HMS.    \n",
    "5. Prepare a professional report of a hydrologic analysis of the design of a stormwater management system."
   ]
  },
  {
   "cell_type": "markdown",
   "metadata": {},
   "source": [
    "## ABET Student Outcomes\n",
    "* Engineering:\n",
    "    1. An ability to identify, formulate, and solve complex engineering problems by applying principles of engineering, science, and mathematics.\n",
    "    2. An ability to acquire and apply new knowledge as needed, using appropriate learning strategies. \n",
    " "
   ]
  },
  {
   "cell_type": "markdown",
   "metadata": {},
   "source": [
    "## Resources/Tools\n",
    "\n",
    "Computational tools equivalent to those used in ENGR 1330 are expected.  Professional software is used in the course; these are downloaded from the original sources (USGS and COE)\n",
    "\n",
    "### Hardware Requirements\n",
    "The college of engineering has specific laptop requirements for courses that are listed at https://www.depts.ttu.edu/coe/dean/engineeringitservices/buyingtherightcomputer.php\n",
    "\n",
    "A minimal AWS Lightsail Instance (use Windows Server 2000 template; lowest resource provision tier; AWS RDP client, or download and install own RDP client) is sufficient to run the course software if you are incapable of installation onto your own laptop.\n",
    "\n",
    "### Learning Management System\n",
    "Blackboard(BB) is used as the learning management system (LMS) for this class and all exercises are to be uploaded to BB.  Late submissions are accepted, but scores are be reduced by at least 50%. \n",
    "\n",
    "### Instructor Notes \n",
    "The instructor notes are located at [http://54.243.252.9/ce-3354-webroot/ce3354book/_build/html/intro.html](http://54.243.252.9/ce-3354-webroot/ce3354book/_build/html/intro.html)"
   ]
  },
  {
   "cell_type": "code",
   "execution_count": 11,
   "metadata": {},
   "outputs": [
    {
     "data": {
      "text/html": [
       "<style> table {margin-left: 0 !important;} </style>\n"
      ],
      "text/plain": [
       "<IPython.core.display.HTML object>"
      ]
     },
     "metadata": {},
     "output_type": "display_data"
    }
   ],
   "source": [
    "%%html\n",
    "<style> table {margin-left: 0 !important;} </style>"
   ]
  },
  {
   "cell_type": "markdown",
   "metadata": {},
   "source": [
    "## Course Schedule ##"
   ]
  },
  {
   "cell_type": "markdown",
   "metadata": {},
   "source": [
    "|date|topic|readings|homework|\n",
    "|:---|:---|:---|:---|\n",
    "|25Aug22|[Introduction](http://54.243.252.9/ce-3354-webroot/ce3354book/_build/html/lessons/lesson01/lesson01.html) <br> - Syllabus  <br> - Fundamental Concepts <br> - Water Budget |- Gupta pp. 1-52<br>- [What is Hydrology?](http://54.243.252.9/ce-3354-webroot/3-Readings/HydrologyDefinitions/hydrology-define.pdf)<br> - [Hydrology Definition](http://54.243.252.9/ce-3354-webroot/3-Readings/OlderHydrologyDescription/reading-definition-hydrology.pdf)<br> - [What is Hydrology? - Mays](http://54.243.252.9/ce-3354-webroot/3-Readings/Mays%20%20TOC%20and%20Chapters%207,%208,%209/MaysCh7.pdf)|<font color=\"magenta\">BB quiz: CE-3354-Hydrology-Terms-Q1</font>|\n",
    "|30Aug22|[Hydrologic Cycle](http://54.243.252.9/ce-3354-webroot/ce3354book/_build/html/lessons/lesson02/lesson02.html) <br> - Team Selection <br> - Water Budget Example <br>  |- Gupta pp. 52-59 <br> - [Water Budget - Wanilista](http://54.243.252.9/ce-3354-webroot/3-Readings/Wanilista-WaterBudget/wanilista-reading-water-budget.pdf) <br> - [Water Budget - McCuen](http://54.243.252.9/ce-3354-webroot/3-Readings/McCuen-WaterBudget/mccuen-reading-water-budget.pdf)|[ES1 Terminology and Global Water Budgets](http://54.243.252.9/ce-3354-webroot/2-Exercises/ES-1/es1.html)|\n",
    "|01Sep22|[Watersheds](http://54.243.252.9/ce-3354-webroot/ce3354book/_build/html/lessons/lesson03/lesson03.html) <br> - Watershed Delineation <br> - Watershed Metrics <br>  | - [Watersheds - McCuen](http://54.243.252.9/ce-3354-webroot/3-Readings/McCuen-Watersheds/McCuen-Watersheds.pdf)<br>- [How to Delineate a Watershed](http://54.243.252.9/ce-3354-webroot/3-Readings/NewHampshire-Watersheds/Topowatershed.pdf)<br>- [Numerical Planimetry](http://54.243.252.9/ce-3354-webroot/3-Readings/NumericalPlanimetry/)<br>- [How To Measure Path](http://54.243.252.9/ce-3354-webroot/3-Readings/HowToMeasurePath/HowToMeasurePath.pdf)<br> - [How to use Topographic Maps](http://54.243.252.9/ce-3354-webroot/3-Readings/UsingTopographicMaps/Pages%20from%20USAF-Survival-Manual-644.pdf)<br>- ||\n",
    "|06Sep22|<font color=\"green\">Design Project Computational Hydrology Workshop I  </font><br> - [Design Project Description](http://54.243.252.9/ce-3354-webroot/2-Exercises/PR-1/PR-1.html) <br> - Data Sources <br> - [Report Structure](http://54.243.252.9/ce-3354-webroot/1-Lectures-2017/Lecture10.pdf) <br> - Watershed Delineation| Gupta pp. 367-368|[ES-2 Water Budget Application](http://54.243.252.9/ce-3354-webroot/2-Exercises/ES-2/es2.html)|\n",
    "|08Sep22|[Precipitation Data Modeling](http://54.243.252.9/ce-3354-webroot/ce3354book/_build/html/lessons/lesson04/lesson04.html) <br> - Probability Estimation Modeling <br> -  Design Storms | Gupta pp. 46-58; 423-430; 454-461 (4th Ed.) <br> - [Probability Estimation Modeling - I](http://54.243.252.9/ce-3354-webroot/3-Readings/ProbabilityEstimationModeling/cive6361_week_006_A.pdf)<br> - [Probability Estimation Modeling - II](http://54.243.252.9/ce-3354-webroot/3-Readings/ProbabilityEstimationModeling/cive6361_week_006_B.pdf)<br>- [Design Rainfall](http://54.243.252.9/ce-3354-webroot/3-Readings/DesignRainfallEssay/DesignRainfall.pdf)<br>- [Rainfall Intensity for Design](http://54.243.252.9/ce-3354-webroot/3-Readings/TRB-2008-Paper/TRB_2008_IntensityDesign_Rev2.pdf)<br>- [Empirical Hyetographs](http://54.243.252.9/ce-3354-webroot/3-Readings/EmpiricalHyetographs/sir2004-5075.pdf)<br>- [DDF-Texas](http://54.243.252.9/ce-3354-webroot/3-Readings/USGS-Texas-DDF-Theory/wri98-4044.pdf) <br>- [Texas DDF Atlas](http://54.243.252.9/ce-3354-webroot/3-Readings/USGS-Texas-DDF-Atlas/sir2004-5041.pdf)|[ES3 Watershed Delineation and Metrics](http://54.243.252.9/ce-3354-webroot/2-Exercises/ES-3/es3.html)|\n",
    "|13Sep22|[Streamflow Data Modeling](http://54.243.252.9/ce-3354-webroot/ce3354book/_build/html/lessons/lesson05/lesson05.html) <br> - Streamflow Measurement <br> - Flood Frequency Analysis (B17C) <br> - Flow Duration Curves <br> - Regional Regression Equations |- Gupta pp. 227-288 <br> - [What is Runoff?](http://54.243.252.9/ce-3354-webroot/3-Readings/BetsonRunoff/Betson_JGR_V69_N8_1964.pdf) <br> - [Bulletin 17B (deprecated)]() <br> - [Bulletin 17C (current)](https://pubs.usgs.gov/tm/04/b05/tm4b5.pdf)<br> - [PeakFQ]()<br>- [Texas Regional Regression Equations](http://54.243.252.9/ce-3354-webroot/3-Readings/RegressionEquationMethod/Pages%20from%20txdot-hdm-2014.pdf)|[ES4 Web Soil Survey Tool](http://54.243.252.9/ce-3354-webroot/2-Exercises/ES-4/es4.html)|\n",
    "|15Sep22|[Runoff Models](http://54.243.252.9/ce-3354-webroot/ce3354book/_build/html/lessons/lesson06/lesson06.html) <br> - Rainfall-Runoff Process <br>  - Rational Equation (A simplistic model) |Gupta pp. 60-118; 294-302<br> - [Hydrologic Processes - Mays](http://54.243.252.9/ce-3354-webroot/3-Readings/Mays%20%20TOC%20and%20Chapters%207,%208,%209/MaysCh7.pdf)<br>- [Surface Runoff - Mays](http://54.243.252.9/ce-3354-webroot/3-Readings/Mays%20%20TOC%20and%20Chapters%207,%208,%209/MaysCh8.pdf)<br>- [Rational Method for Design](http://54.243.252.9/ce-3354-webroot/3-Readings/0-6070/0-6070.pdf)<br>- [Rate-Based C](http://54.243.252.9/ce-3354-webroot/3-Readings/RateBasedC/Rate-Based-C-Texas.pdf)<br>- [Volume-Based C](http://54.243.252.9/ce-3354-webroot/3-Readings/VolumetricCValues/Volumetric_C_Nirajan2012.pdf)<br>- [Return Period Adjusted C](http://54.243.252.9/ce-3354-webroot/3-Readings/ReturnPeriodAdjustmentC/C(T)_2013.pdf)<br>- [Time-Parameter Estimation for Texas](http://54.243.252.9/ce-3354-webroot/3-Readings/0-4696/0-4696.pdf)<br>- [Low-Slope Tc Experiments](http://54.243.252.9/ce-3354-webroot/3-Readings/LowSlopeTc/time-concentration-experiments.pdf)<br>- [Low-Slope Tc Estimation](http://54.243.252.9/ce-3354-webroot/3-Readings/LowSlopeTcEstimate/asce-jhe-low-slope.pdf) |[ES5 Rainfall/Runoff Data Preparation](http://54.243.252.9/ce-3354-webroot/2-Exercises/ES-5/es5.html)|\n",
    "|18Sep22|<font color=\"red\">Exam 1: Parts 1 and 2 </font>|Part 1 is a Blackboard On-Line Test|[<font color=\"red\">Part 2 Link Here</font>](http://54.243.252.9/ce-3354-webroot/4-Exams/EX1/EX1.html) or access from Blackboard|\n",
    "|20Sep22|[Evaporation Models](http://54.243.252.9/ce-3354-webroot/ce3354book/_build/html/lessons/lesson07/lesson07.html)  <br> - Blaney-Criddle <br> - Thornwaithe <br> - Turk <br> - HEC-HMS Implementation(s)|Gupta pp. 65-89|[ES6 Flood Frequency Analysis](http://54.243.252.9/ce-3354-webroot/2-Exercises/ES-6/es6.html)|\n",
    "|22Sep22|<font color=\"green\">Design Project Computational Hydrology Workshop II </font><br> - [Introduction to HEC-HMS](http://54.243.252.9/ce-3354-webroot/ce3354book/_build/html/lessons/lesson06.1/HMSintro.html) <br> - Installation <br> - Examples |Gupta pp. 790-795||\n",
    "|27Sep22|[Infiltration Models](http://54.243.252.9/ce-3354-webroot/ce3354book/_build/html/lessons/lesson08/lesson08.html) <br> - Horton (infiltration Excess) <br> - Dunne (saturation excess) <br> - Green-Ampt (soil physics) <br> - HEC-HMS Implementations|Gupta 93-110<br> - [Infiltration Notes](http://54.243.252.9/ce-3354-webroot/3-Readings/MyInfiltrationNotes/InfiltrationNotes.pdf)<br>- [Green-Ampt Notes](http://54.243.252.9/ce-3354-webroot/3-Readings/MyGreenAmptNotes/GA-Notes.pdf)<br>- [Infiltration PBK](http://54.243.252.9/ce-3354-webroot/3-Readings/Green-Ampt-PBK/Polubarinova-Kochina.pdf)<br>- [Green-Ampt in Texas](http://54.243.252.9/ce-3354-webroot/3-Readings/Green-Ampt-Texas/Karki_Amit_Thesis.pdf)||\n",
    "|29Sep22|[Shallow Depression and Canopy Storage Models](http://54.243.252.9/ce-3354-webroot/ce3354book/_build/html/lessons/lesson08.1/lesson081.html) <br> - Process Description(s) <br> - HEC-HMS Implementations|Gupta ppXX-XX|[ES7 Rainfall Data for Hardin Creek Project](http://54.243.252.9/ce-3354-webroot/2-Exercises/ES-7/es7.html)|\n",
    "|04Oct22|[Unit Hydrographs - I](http://54.243.252.9/ce-3354-webroot/ce3354book/_build/html/lessons/lesson09/lesson09.html) <br> - Background <br> - Convolution/Deconvolution <br> - UH Analysis |- Gupta pp. 294-329<br> - [Sherman Unit Hydrograph](http://54.243.252.9/ce-3354-webroot/3-Readings/ShermanUH/Sherman_ENR_1932.pdf)<br>- [Statistical-Mechanical Unit Hydrograph](http://54.243.252.9/ce-3354-webroot/3-Readings/LeinhardDUH/1964-StatMechDimUnitHydrograph.pdf)<br>- [Instantaneous Unit Hydrographs in Texas](http://54.243.252.9/ce-3354-webroot/3-Readings/cleveland2006-1/2006_0602_IUHEvalTexas.pdf)<br>- []()|[ES8 Tc Determination for a Watershed](http://54.243.252.9/ce-3354-webroot/2-Exercises/ES-8/es8.html)|\n",
    "|06Oct22|[Unit Hydrographs - II](http://54.243.252.9/ce-3354-webroot/ce3354book/_build/html/lessons/lesson10/lesson10.html) <br> - Gamma <br> - NRCS-DUH <br> - TR-55 <br> - UH Synthesis |- Gupta pp. 321-329 <br>- [Prediction of DUH](http://54.243.252.9/ce-3354-webroot/3-Readings/LeinhardPredDUH/1972-PredDimUnitHydrograph.pdf)<br>- [Unit Hydrographs from DEMs](http://54.243.252.9/ce-3354-webroot/3-Readings/cleveland2008-1/cleveland_2008_1.pdf)<br>- [Physical Basis for Gamma Dist.](http://54.243.252.9/ce-3354-webroot/3-Readings/LeinhardGamma/1967-PhysicalBasisGammaDistn.PDF)|[ES9 Tc for Hardin Creek Project](http://54.243.252.9/ce-3354-webroot/2-Exercises/ES-9/es9.html)|\n",
    "|08Oct22|<font color=\"red\">Exam 2: Parts 1 and 2 </font>|Part 1 is a Blackboard On-Line Test|[<font color=\"red\">Part 2 Link Here</font>](http://54.243.252.9/ce-3354-webroot/4-Exams/EX2/EX2.html) or access from Blackboard|\n",
    "|11Oct22|<font color=\"green\">Design Project Computational Hydrology Workshop II </font><br> - HEC-HMS Rainfall-Runoff <br>- Design Storm by Texas Hyetograph|||\n",
    "|13Oct22|[Hydrograph Routing - I](http://54.243.252.9/ce-3354-webroot/ce3354book/_build/html/lessons/lesson11/lesson11.html) <br> Hydraulic vs. Hydrologic Routing <br> - Lag Routing <br> - Level-Pool Routing <br> |Gupta pp. 491-505<br> -[Reservoir and Stream Routing - Mays](http://54.243.252.9/ce-3354-webroot/3-Readings/Mays%20%20TOC%20and%20Chapters%207,%208,%209/MaysCh9.pdf)|[ES10 Evapotranspiration for Hardin Creek Project](http://54.243.252.9/ce-3354-webroot/2-Exercises/ES-10/es10.html)|\n",
    "|18Oct22|[Hydrograph Routing - II](http://54.243.252.9/ce-3354-webroot/ce3354book/_build/html/lessons/lesson12/lesson12.html) <br> - Muskingum-Cunge <br> - topic |Gupta pp. 491-505<br> -[Reservoir and Stream Routing - Mays](http://54.243.252.9/ce-3354-webroot/3-Readings/Mays%20%20TOC%20and%20Chapters%207,%208,%209/MaysCh9.pdf)|[ES11 Unit Hydrograph Application](http://54.243.252.9/ce-3354-webroot/2-Exercises/ES-11/es11.html)|\n",
    "|20Oct22|[Reservoir Storage Routing](http://54.243.252.9/ce-3354-webroot/ce3354book/_build/html/lessons/lesson13/lesson13.html) <br> - Elevation-Area Tables <br> - Elevation-Discharge Tables |Gupta pp. 491-505|[ES12 Unit Hydrograph Analysis](http://54.243.252.9/ce-3354-webroot/2-Exercises/ES-12/es12.html)|\n",
    "|25Oct22|[Reservoir Outlet Works](http://54.243.252.9/ce-3354-webroot/ce3354book/_build/html/lessons/lesson14/lesson14.html) <br> - Orifices <br> - Weirs <br> - Conduits   |Gupta pp. 513-532|[ES13 Elevation-Area-Storage Tables](http://54.243.252.9/ce-3354-webroot/2-Exercises/ES-13/es13.html)|\n",
    "|27Oct22|<font color=\"green\">Design Project Computational Hydrology Workshop III</font> <br> - Lag/Muskingum Routing for Hardin Creek Reaches <br> - Level-Pool Routing for SCS Storage Reservoirs   |||\n",
    "|30Oct22|<font color=\"red\">Exam 3: Parts 1 and 2 </font>|Part 1 is a Blackboard On-Line Test|[<font color=\"red\">Part 2 Link Here</font>](http://54.243.252.9/ce-3354-webroot/4-Exams/EX3/EX3.html) or access from Blackboard|\n",
    "|01Nov22|[Groundwater Hydrology](http://54.243.252.9/ce-3354-webroot/ce3354book/_build/html/lessons/groundwater/groundwater1.html) |pp 127-133 <br>- [Groundwater - Viessman](http://54.243.252.9/ce-3354-webroot/3-Readings/Groundwater-Viessman/GroundwaterHydrology.pdf)<br>- [Groundwater - Ferris](http://54.243.252.9/ce-3354-webroot/3-Readings/Groundwater-Wisler&Brater/Groundwater-Wisler.pdf)<br>- [Basic Groundwater Hydrology - USGS](http://54.243.252.9/ce-3354-webroot/3-Readings/USGS-WSP2020-GroundwaterHydrology/usgs-wsp-2020.pdf)|[ES14 Elevation-Discharge Tables](http://54.243.252.9/ce-3354-webroot/2-Exercises/ES-14/es14.html)|\n",
    "|03Nov22|[Groundwater Hydrology](http://54.243.252.9/ce-3354-webroot/ce3354book/_build/html/lessons/groundwater/groundwater2.html) |Gupta pp. 133-155||\n",
    "|08Nov22|[Well Hydraulics - Steady Flow](http://54.243.252.9/ce-3354-webroot/ce3354book/_build/html/lessons/groundwater/groundwater3.html)<br> - Confined <br> - Unconfined <br> |Gupta pp. 167-176|[ES15 Muskingum-Cunge Routing Elements](http://54.243.252.9/ce-3354-webroot/2-Exercises/ES-15/es15.html)|\n",
    "|10Nov22|[Well Hydraulics - Steady Flow](http://54.243.252.9/ce-3354-webroot/ce3354book/_build/html/lessons/groundwater/groundwater3.html) <br> - Superposition <br> >multiple wells<br> >    boundaries |Gupta pp. 202-207||\n",
    "|15Nov22|[Well Hydraulics - Transient Flow](http://54.243.252.9/ce-3354-webroot/ce3354book/_build/html/lessons/groundwater/groundwater4.html) <br> - Confined <br> - Leaky |Gupta pp. 196-202||\n",
    "|17Nov22|[Well Hydraulics - Transient Flow](http://54.243.252.9/ce-3354-webroot/ce3354book/_build/html/lessons/groundwater/groundwater4.html) <br> - Superposition <br> - Convolution  |Gupta pp. 202-214 <br> - [Type-Curve Analysis using a Computer Spreadsheet](http://54.243.252.9/ce-3354-webroot/3-Readings/TypeCurve/type_curve_jgw_1996.pdf)|[ES16 Selected Groundwater Concepts](http://54.243.252.9/ce-3354-webroot/2-Exercises/ES-16/es16.html)|\n",
    "|20Nov22|<font color=\"red\">Exam 4: Parts 1 and 2 </font>|Part 1 is a Blackboard On-Line Test|[<font color=\"red\">Part 2 Link Here</font>](http://54.243.252.9/ce-3354-webroot/4-Exams/EX4/EX4.html) or access from Blackboard|\n",
    "|22Nov22|[Contaminant Transport (Introduction)](http://54.243.252.9/ce-3354-webroot/ce3354book/_build/html/lessons/groundwater/groundwater5.html) <br> - subtopic <br> - subtopic <br>- subtopic |ppXX-XX <br> - [Capture Zone Type Curves](http://54.243.252.9/ce-3354-webroot/3-Readings/CaptureZones/Capture.PDF)||\n",
    "|29Nov22|<font color=\"green\"> Design Project Computational Hydrology Workshop IV </font><br> - Complete Simulations <br> - Proofread Report <br> - Prepare Presentation |||\n",
    "|01Dec22|Project Presentations <br> - Team 1 <br> - Team 2 <br>- Team 3 <br> - Team 4||Project Report Due|\n",
    "|06Dec22|Project Presentations <br> - Team 5 <br> - Team 5 <br> - Team 7 <br>- Team 8 |||"
   ]
  },
  {
   "cell_type": "markdown",
   "metadata": {},
   "source": [
    "---\n",
    "## Course Assessment and Grading Criteria:\n",
    "There will be 20 homework assignments, four tests, and a final project report and presentation for this course.  \n",
    "<strong>Late</strong> assignments will be scored at 50% reduced value \n",
    "\n",
    "Grades will be based on the following components; weighting is approximate:\n",
    "\n",
    "|Assessment Instrument|Weight(%)|\n",
    "|---|---:|\n",
    "|Attendance|10|\n",
    "|Test-1|10|\n",
    "|Test-2|10|\n",
    "|Test-3|10|\n",
    "|Test-4|10|\n",
    "|Homework|30|\n",
    "|Final Project Report|10|\n",
    "|Final Project Presentation|10|\n",
    "|Overall total|100|\n",
    "\n",
    "Letter grades will be assigned using the following proportions:\n",
    "\n",
    "|Normalized Score Range|Letter Grade|\n",
    "|:-|---:|\n",
    "|≥ 90|A| \n",
    "|80-89|B|\n",
    "|70-79|C|\n",
    "|55-69|D|\n",
    "|< 55|F|\n",
    "\n",
    "<!-- Scores as Quantiles Ranges\n",
    "|81-100|A| \n",
    "|61-80|B|\n",
    "|41-60|C|\n",
    "|21-40|D|\n",
    "|0-20|F|\n",
    "-->\n"
   ]
  },
  {
   "cell_type": "markdown",
   "metadata": {},
   "source": [
    "## Classroom Policy:\n",
    "The following activities are not allowed in the classroom: Texting or talking on the cellphone or other electronic devices, and reading non-course related materials.\n",
    "### Telepresence (On-line) Courses\n",
    "Obviously electronic devices are vital; disrupting the conference is prohibited, please mute your microphone unless you have a question - consider typing your question into the chat window as well. Be aware of bandwidth issues and remember most lessons and laboratory sessions are recorded and posted on youtube.  Recording, editing, and rendering takes awhile, so expect 24-36 hour delay before video is available. "
   ]
  },
  {
   "cell_type": "markdown",
   "metadata": {},
   "source": [
    "---\n",
    "## ADA Statement: \n",
    "Any student who, because of a disability, may require special arrangements in order to meet the course requirements should contact the instructor as soon as possible to make necessary arrangements.  Students must present appropriate verification from Student Disability Services during the instructor's office hours.  Please note that instructors are not allowed to provide classroom accommodation to a student until appropriate verification from Student Disability Services has been provided.  For additional information, please contact Student Disability Services \n",
    "office in 335 West Hall or call 806.742.2405.\n",
    "\n",
    "## Academic Integrity Statement:\n",
    "Academic integrity is taking responsibility for one’s own class and/or course work, being individually accountable, and demonstrating intellectual honesty and ethical behavior.  Academic integrity is a personal choice to abide by the standards of intellectual honesty and responsibility.  Because education is a shared effort to achieve learning through the exchange of ideas, students, faculty, and staff have the collective responsibility to build mutual trust and respect.  Ethical behavior and independent thought are essential for the highest level of academic achievement, which then must be measured.  Academic achievement includes scholarship, teaching, and learning, all of which are shared endeavors.  Grades are a device used to quantify the successful accumulation of knowledge through learning.  Adhering to the standards of academic integrity ensures grades are earned honestly.  Academic integrity is the foundation upon which students, faculty, and staff build their educational and professional careers.  [Texas Tech University (“University”) Quality Enhancement Plan, Academic Integrity Task Force, 2010].\n",
    "\n",
    "## Religious Holy Day Statement: \n",
    "“Religious holy day” means a holy day observed by a religion whose places of worship are exempt from property taxation under Texas Tax Code §11.20.  A student who intends to observe a religious holy day should make that intention known to the instructor prior to the absence.  A student who is absent from classes for the observance of a religious holy day shall be allowed to take an examination or complete an assignment scheduled for that day within a reasonable time after the absence.  A student who is excused may not be penalized for the absence; however, the instructor may respond appropriately if the student fails to complete the assignment satisfactorily.\n",
    "\n",
    "## Ethical Conduct Policy:\n",
    "Cheating is prohibited, and the representation of the work of another person as your own will be grounds for receiving a failing grade in the course.\n",
    "\n",
    "**DISCRIMINATION, HARASSMENT, AND SEXUAL VIOLENCE STATEMENT:**\n",
    "Texas Tech University is committed to providing and strengthening an educational, working, and living environment where students, faculty, staff, and visitors are free from gender and/or sex discrimination of any kind. Sexual assault, discrimination, harassment, and other Title IX violations are not tolerated by the University. Report any incidents to the Office for Student Rights & Resolution, (806)-742-SAFE (7233) or file a report online at titleix.ttu.edu/students. Faculty and staff members at TTU are committed to connecting you to resources on campus. Some of these available resources are: TTU Student Counseling Center, 806- 742-3674, https://www.depts.ttu.edu/scc/(Provides confidential support on campus.) TTU 24-hour Crisis Helpline, 806-742-5555, (Assists students who are experiencing a mental health or interpersonal violence crisis. If you call the helpline, you will speak with a mental health counselor.) Voice of Hope Lubbock Rape Crisis Center, 806-763-7273, voiceofhopelubbock.org (24-hour hotline that provides support for survivors of sexual violence.) The Risk, Intervention, Safety and Education (RISE) Office, 806-742-2110,  https://www.depts.ttu.edu/rise/ (Provides a range of resources and support options focused on prevention education and student wellness.) Texas Tech Police Department, 806-742- 3931,http://www.depts.ttu.edu/ttpd/ (To report criminal activity that occurs on or near Texas Tech campus.)\n",
    "\n",
    "**CIVILITY IN THE CLASSROOM STATEMENT:**\n",
    "Texas Tech University is a community of faculty, students, and staff that enjoys an expectation of cooperation, professionalism, and civility during the conduct of all forms of university business, including the conduct of student–student and student–faculty interactions in and out of the classroom. Further, the classroom is a setting in which an exchange of ideas and creative thinking should be encouraged and where intellectual growth and development are fostered. Students who disrupt this classroom mission by rude, sarcastic, threatening, abusive or obscene language and/or behavior will be subject to appropriate sanctions according to university policy. Likewise, faculty members are expected to maintain the highest standards of professionalism in all interactions with all constituents of the university.\n",
    "To ensure that you are fully engaged in class discussions and account team meetings during class time, you are expected to do the following:\n",
    "- Maintain the same level of civility and professionalism that would be expected in a face-to-face classroom setting.\n",
    "- Attend all classes regularly.\n",
    "- Log into the video conference on time and remain logged in for the duration of the class period.\n",
    "- Activate your camera so that you are visible to the instructor and other students in the class. If you have concerns about leaving your camera on (such as childcare obligations, privacy issues, or a particular circumstance during a class period), please talk to the instructor.\n",
    "- Refrain from engaging in non-class related activities during class time that create a distraction for other students in the class and/or limit your ability to engage in the course.\n",
    "Failure to meet these expectations may result in the following consequences:\n",
    "1. Being counted as absent for the class meeting.\n",
    "2. Not receiving credit for class participation for that class period.\n",
    "3. Other consequences as stipulated in the syllabus, Texas Tech Code of Student Conduct, or other university policy.\n",
    "Repeated failure to meet expectations (e.g., attendance, participation in class, etc.), in addition to the above consequences, may result in the one or more of the following consequences:\n",
    "1. Referral to the appropriate Associate Dean.\n",
    "2. Academic penalty, ranging from a warning to failure of the course.\n",
    "(www.depts.ttu.edu/ethics/matadorchallenge/ethicalprinciples.php).\n",
    "\n",
    "<!--**LGBTQIA SUPPORT STATEMENT:**\n",
    "I identify as an ally to the lesbian, gay, bisexual, transgender, queer, intersex, and asexual (LGBTQIA) community, and I am available to listen and support you in an affirming manner. I can assist in connecting you with resources on campus to address problems you may face pertaining to sexual orientation and/or gender identity that could interfere with your success at Texas Tech. Please note that additional resources are available through the Office of LGBTQIA within the Center for Campus Life, Student Union Building Room 201, www.lgbtqia.ttu.edu, 806.742.5433.”\n",
    "\n",
    "Office of LGBTQIA, Student Union Building Room 201, www.lgbtqia.ttu.edu, 806.742.5433\n",
    "Within the Center for Campus Life, the Office serves the Texas Tech community through facilitation and leadership of programming and advocacy efforts. This work is aimed at strengthening the lesbian, gay, bisexual, transgender, queer, intersex, and asexual (LGBTQIA) community and sustaining an inclusive campus that welcomes people of all sexual orientations, gender identities, and gender expressions.-->\n"
   ]
  },
  {
   "cell_type": "code",
   "execution_count": null,
   "metadata": {},
   "outputs": [],
   "source": []
  }
 ],
 "metadata": {
  "kernelspec": {
   "display_name": "Python 3",
   "language": "python",
   "name": "python3"
  },
  "language_info": {
   "codemirror_mode": {
    "name": "ipython",
    "version": 3
   },
   "file_extension": ".py",
   "mimetype": "text/x-python",
   "name": "python",
   "nbconvert_exporter": "python",
   "pygments_lexer": "ipython3",
   "version": "3.8.10"
  }
 },
 "nbformat": 4,
 "nbformat_minor": 4
}
