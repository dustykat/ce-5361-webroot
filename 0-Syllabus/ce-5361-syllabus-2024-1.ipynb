{
 "cells": [
  {
   "cell_type": "markdown",
   "metadata": {},
   "source": [
    "# Syllabus\n",
    "\n",
    "## Course Name:\n",
    "CE 5361 Surface Water Hydrology\n",
    "\n",
    "## Course Catalog Description: \n",
    "\n",
    "(3) Advanced study of hydrologic cycle: hydrologic abstractions, surface-runoff mechanics, hydrographs, baseflow seperation, data analysis, reservoir and channel routing, and an introduction to rainfall-runoff modeling\n",
    "\n",
    "## Prerequisites: \n",
    "CE 3305 or equivalent"
   ]
  },
  {
   "cell_type": "markdown",
   "metadata": {},
   "source": [
    "<!-- ## COVID-19 Important Guidelines:\n",
    "* If Texas Tech University campus operations are required to change because of health concerns related to the COVID-19 pandemic, it is possible that this course will move to a fully online delivery format.  Should that be necessary, students will be advised of technical and/or equipment requirements, including remote proctoring software.  \n",
    "\n",
    "* Policy on absences resulting from illness: We anticipate that some students may have extended absences.  To avoid students feeling compelled to attend in-person class periods when having symptoms or feeling unwell, a standard policy is provided that holds students harmless for illness-related absences (see Section A below).\n",
    "\n",
    "\n",
    "### A. Illness-Based Absence Policy (Face-to-Face Classes)\n",
    "If at any time during the semester you are ill, in the interest of your own health and safety as well as the health and safety of your instructors and classmates, you are encouraged not to attend face-to-face class meetings or events.  Please review the steps outlined below that you should follow to ensure your absence for illness will be excused.  These steps also apply to not participating in synchronous online class meetings if you feel too ill to do so and missing specified assignment due dates in asynchronous online classes because of illness.\n",
    "\n",
    "1. If you are ill and think the symptoms might be COVID-19-related:\n",
    "\n",
    "    1. Call Student Health Services at 806.743.2848 or your health care provider.  During after-hours and on weekends, contact TTU COVID-19 Helpline at TBD.\n",
    "    2. Self-report as soon as possible using the Dean of Students COVID-19 webpage. This website has specific directions about how to upload documentation from a medical provider and what will happen if your illness renders you unable to participate in classes for more than one week.\n",
    "    3. If your illness is determined to be COVID-19-related, all remaining documentation and communication will be handled through the Office of the Dean of Students, including notification of your instructors of the time you may be absent from and may return to classes.\n",
    "    4. If your illness is determined not to be COVID-19-related, please follow steps 2.a-d below.\n",
    "\n",
    "\n",
    "2. If you are ill and can attribute your symptoms to something other than COVID-19:\n",
    "\n",
    "    1. If your illness renders you unable to attend face-to-face classes, participate in synchronous online classes, or miss specified assignment due dates in asynchronous online classes, you are encouraged to contact either Student Health Services at 806.743.2848 or your health care provider.  Note that Student Health Services and your own and other health care providers may arrange virtual visits.\n",
    "    2. During the health provider visit, request a “return to school” note.\n",
    "    3. E-mail the instructor a picture of that note.\n",
    "    4. Return to class by the next class period after the date indicated on your note.\n",
    "\n",
    "Following the steps outlined above helps to keep your instructors informed about your absences and ensures your absence or missing an assignment due date because of illness will be marked excused.  You will still be responsible to complete within a week of returning to class any assignments, quizzes, or exams you miss because of illness.\n",
    "\n",
    "### B. Illness-Based Absence Policy (Telepresence/On-Line Classes)\n",
    "Same as above with respect potential to infect others; go to a health care provider if you are ill.  Telepresence courses are recorded and will be available on TTU MediaSite and/or YouTube (unlisted).  Exercises, Quizzes, and Examinations are all administered by a Learning Management System (Blackboard) and students need to allow enough time to complete and upload their work.  Due date adjustments/late submits on case-by-case basis; documentation required as in subsection **A** above. -->"
   ]
  },
  {
   "cell_type": "markdown",
   "metadata": {},
   "source": [
    "## Course Sections\n",
    "Lesson time, days, and location: \n",
    "\n",
    "1. Section 001; CRN 66746; 1530-1650 T-Th ; IMSE 0117\n",
    "1. Section D01; CRN 66747; 1530-1650 T-Th ; Asyncronous on-line (medialink provided on BB)\n",
    "\n",
    "## Course Instructor:\n",
    "\n",
    "Instructor: Theodore G. Cleveland, Ph.D., P.E., M. ASCE, F. EWRI\n",
    "\n",
    "Email: theodore.cleveland@ttu.edu  (put CE 5361 in subject line for email related to this class)\n",
    "\n",
    "Office location: CECE 203F; but prefer Telepresence (Zoom)\n",
    "\n",
    "Office hours: TBD (meetings will be by Zoom call)\n",
    "\n",
    "## Teaching Assistant:\n",
    "\n",
    "Teaching Assistant: none authorized \n",
    "\n",
    "Email : N/A\n",
    "\n",
    "Office location: N/A\n",
    "\n",
    "Office hours: N/A"
   ]
  },
  {
   "cell_type": "markdown",
   "metadata": {},
   "source": [
    "## Textbook(s): \n",
    "1. [Hydrology: An Introduction: (Wilfried Brutsaert). ISBN 978-0521824798 ](http://54.243.252.9/ce-5361-webroot/3-Readings/00HydrologyAnIntroduction/1096-1.pdf) The book shows on the TTU Blackboard, the link is to a copy from the Ethopian National Library, Amazon has electronic copies cheaper than TTU Blackboard\n",
    "\n",
    ":::{note}\n",
    "The above book is on Blackboard because we are required to select a textbook\n",
    ":::\n",
    "\n",
    "2. [Chow, V.T., Maidment,D.M., and Mays, L.W. (1998) Applied Hydrology, McGraw Hill](http://54.243.252.9/ce-5361-webroot/3-Readings/01CMM1988/Applied%20Hydrology%20VT%20Chow%201988.pdf) The link is to an international copy from Taiwan.  Physical copies from Amazon would be cheapest if you wish one.\n",
    "\n",
    "3. [Kilgore, R.,Atayee, A. T., Curtis, D., Harris, J.,  Herrmann, G. R., Thompson D. B., 2023. Highway Hydrology:\n",
    "Evolving Methods, Tools, and Data. Publication No. FHWA-HIF-23-050. FHWA Hydraulic Engineering Circular No. 19 ](http://54.243.252.9/ce-5361-webroot/3-Readings/1HighwayHydrologyEmergingTools/highway-hydrology-hif23050.pdf)\n",
    "\n",
    "4. [Supplimental Readings](http://54.243.252.9/ce-5361-webroot/3-Readings/) are stored on the class server.  Many are linked in the notes; If you browse, you will need to open the target files to see the topic."
   ]
  },
  {
   "cell_type": "markdown",
   "metadata": {},
   "source": [
    "## Course Objectives: \n",
    "Theory and application of surface water hydrologic concepts; learn how to use predictive tools such as charts and computer programs,  and apply these tools to the analysis and design of collection and drainage systems.  "
   ]
  },
  {
   "cell_type": "markdown",
   "metadata": {},
   "source": [
    "## Knowledge, Skills, Abilities (KSA) :\n",
    "During this course the student will\n",
    "1. Read, synthesize, and communicate ideas presented in current and historical technicalliterature.\n",
    "2. Delineate  watersheds  from  maps using Homebrew and GIS approaches,  and  determine  common  metrics  (area,  slope,  mainchannel length) using digital planimetry, and software tools.\n",
    "3. Perform hydrologic computations using JupyterLab, Excel, LibreOffice and other tools, as needed.\n",
    "4. Perform hydrologic simulation using HEC-HMS (both lumped conventional) and distributed HEC-HMS.    \n",
    "5. Perform integrated hydrologic and hydraulic simulationic analysis of a stormwater management system using SWMM."
   ]
  },
  {
   "cell_type": "markdown",
   "metadata": {},
   "source": [
    "## ABET Student Outcomes\n",
    "* Engineering:\n",
    "    1. An ability to identify, formulate, and solve complex engineering problems by applying principles of engineering, science, and mathematics.\n",
    "    2. An ability to acquire and apply new knowledge as needed, using appropriate learning strategies. \n",
    " "
   ]
  },
  {
   "cell_type": "markdown",
   "metadata": {},
   "source": [
    "## Resources/Tools\n",
    "\n",
    "Computational tools equivalent to those used in ENGR 1330 are expected.  Professional software is used in the course; these are downloaded from the original sources (USGS and COE)\n",
    "\n",
    "### Hardware Requirements\n",
    "The college of engineering has specific laptop requirements for courses that are listed at https://www.depts.ttu.edu/coe/dean/engineeringitservices/buyingtherightcomputer.php\n",
    "\n",
    "A minimal AWS Lightsail Instance (use Windows Server 2000 template; lowest resource provision tier; AWS RDP client, or download and install own RDP client) is sufficient to run the course software if you are incapable of installation onto your own laptop.\n",
    "\n",
    "### Learning Management System\n",
    "Blackboard(BB) is used as the learning management system (LMS) for this class and all exercises are to be uploaded to BB.  Late submissions are accepted, but scores are be reduced by at least 50%. \n",
    "\n",
    "### Instructor Notes \n",
    "The instructor notes are located at [http://54.243.252.9/ce-3354-webroot/ce3354book/_build/html/intro.html](http://54.243.252.9/ce-3354-webroot/ce3354book/_build/html/intro.html)"
   ]
  },
  {
   "cell_type": "code",
   "execution_count": 1,
   "metadata": {},
   "outputs": [
    {
     "name": "stdout",
     "output_type": "stream",
     "text": [
      "/home/sensei/ce-5361-webroot.bak/0-Syllabus\n"
     ]
    }
   ],
   "source": [
    "! pwd\n"
   ]
  },
  {
   "cell_type": "markdown",
   "metadata": {},
   "source": [
    "## Course Schedule ##"
   ]
  },
  {
   "cell_type": "markdown",
   "metadata": {},
   "source": [
    "|date|topic|readings|homework|\n",
    "|:---|:---|:---|:---|\n",
    "|11Jan24|([Introduction](http://54.243.252.9/ce-5361-webroot/) <br> - Course Resources  <br> - Introductory Concepts |- [What is Hydrology?]()<br> - [Hydrology Definition]()<br> - [What is Hydrology(Mays)?]()||\n",
    "|16Jan24|[Hydrologic Cycle](http://54.243.252.9/ce-5361-webroot/) <br> - Hydrologic Cycle <br> - Water Budgets <br>  |- [Water Budget - Wanilista]() <br> - [Water Budget - McCuen]()||\n",
    "|18Jan24|[Watersheds]() <br> - Watershed Delineation <br> - Watershed Metrics <br>  | - [Watersheds - McCuen]()<br>- [How to Delineate a Watershed]()<br>- [Numerical Planimetry]()<br>- [How To Measure Path]()<br> - [How to use Topographic Maps](http://54.243.252.9/ce-5361-webroot/3-Readings/UsingTopographicMaps/Pages%20from%20USAF-Survival-Manual-644.pdf)<br>- ||\n",
    "|23Jan24|Computational Hydrology (GIS)  <br> - Installing qGIS <br> - Data Sources <br> - Watershed Delineation| ||\n",
    "|25Jan24|[Precipitation]() <br> - Types <br> -  Point Precipitation <br> - Areal Precipitation|- [Probability Estimation Modeling - I](http://54.243.252.9/ce-3354-webroot/3-Readings/ProbabilityEstimationModeling/cive6361_week_006_A.pdf)<br> - [Probability Estimation Modeling - II](http://54.243.252.9/ce-3354-webroot/3-Readings/ProbabilityEstimationModeling/cive6361_week_006_B.pdf)<br>- [Design Rainfall](http://54.243.252.9/ce-3354-webroot/3-Readings/DesignRainfallEssay/DesignRainfall.pdf)<br>- [Rainfall Intensity for Design](http://54.243.252.9/ce-3354-webroot/3-Readings/TRB-2008-Paper/TRB_2008_IntensityDesign_Rev2.pdf)<br>- [Empirical Hyetographs](http://54.243.252.9/ce-3354-webroot/3-Readings/EmpiricalHyetographs/sir2004-5075.pdf)<br>- [DDF-Texas](http://54.243.252.9/ce-3354-webroot/3-Readings/USGS-Texas-DDF-Theory/wri98-4044.pdf) <br>- [Texas DDF Atlas](http://54.243.252.9/ce-3354-webroot/3-Readings/USGS-Texas-DDF-Atlas/sir2004-5041.pdf)||\n",
    "|30Jan24|[Abstractions](http://54.243.252.9/ce-3354-webroot/ce3354book/_build/html/lessons/lesson05/lesson05.html) <br> - Infiltration<br> - Evaporation <br> - Interception  | - [What is Runoff?](http://54.243.252.9/ce-3354-webroot/3-Readings/BetsonRunoff/Betson_JGR_V69_N8_1964.pdf) <br> - [Bulletin 17B (deprecated)]() <br> - [Bulletin 17C (current)](https://pubs.usgs.gov/tm/04/b05/tm4b5.pdf)<br> - [PeakFQ]()<br>- [Texas Regional Regression Equations](http://54.243.252.9/ce-3354-webroot/3-Readings/RegressionEquationMethod/Pages%20from%20txdot-hdm-2014.pdf)||\n",
    "|01Feb24|[Streamflow](http://54.243.252.9/ce-3354-webroot/ce3354book/_build/html/lessons/lesson05/lesson05.html) <br> - Streamflow Measurement <br> - Flood Frequency Analysis (B17C) <br> - Flow Duration Curves <br> - Regional Regression Equations | - [What is Runoff?](http://54.243.252.9/ce-3354-webroot/3-Readings/BetsonRunoff/Betson_JGR_V69_N8_1964.pdf) <br> - [Bulletin 17B (deprecated)]() <br> - [Bulletin 17C (current)](https://pubs.usgs.gov/tm/04/b05/tm4b5.pdf)<br> - [PeakFQ]()<br>- [Texas Regional Regression Equations](http://54.243.252.9/ce-3354-webroot/3-Readings/RegressionEquationMethod/Pages%20from%20txdot-hdm-2014.pdf)||\n",
    "|06Feb24|[Runoff Mechanisms](http://54.243.252.9/ce-3354-webroot/ce3354book/_build/html/lessons/lesson06/lesson06.html) <br> - Rainfall-Runoff Process <br>  - Rational Equation (A simplistic model) | - [Hydrologic Processes - Mays](http://54.243.252.9/ce-3354-webroot/3-Readings/Mays%20%20TOC%20and%20Chapters%207,%208,%209/MaysCh7.pdf)<br>- [Surface Runoff - Mays](http://54.243.252.9/ce-3354-webroot/3-Readings/Mays%20%20TOC%20and%20Chapters%207,%208,%209/MaysCh8.pdf)<br>- [Rational Method for Design](http://54.243.252.9/ce-3354-webroot/3-Readings/0-6070/0-6070.pdf)<br>- [Rate-Based C](http://54.243.252.9/ce-3354-webroot/3-Readings/RateBasedC/Rate-Based-C-Texas.pdf)<br>- [Volume-Based C](http://54.243.252.9/ce-3354-webroot/3-Readings/VolumetricCValues/Volumetric_C_Nirajan2012.pdf)<br>- [Return Period Adjusted C](http://54.243.252.9/ce-3354-webroot/3-Readings/ReturnPeriodAdjustmentC/C(T)_2013.pdf)<br>- [Time-Parameter Estimation for Texas](http://54.243.252.9/ce-3354-webroot/3-Readings/0-4696/0-4696.pdf)<br>- [Low-Slope Tc Experiments](http://54.243.252.9/ce-3354-webroot/3-Readings/LowSlopeTc/time-concentration-experiments.pdf)<br>- [Low-Slope Tc Estimation](http://54.243.252.9/ce-3354-webroot/3-Readings/LowSlopeTcEstimate/asce-jhe-low-slope.pdf) ||\n",
    "|06Feb24|[Evaporation Models](http://54.243.252.9/ce-3354-webroot/ce3354book/_build/html/lessons/lesson07/lesson07.html)  <br> - Blaney-Criddle <br> - Thornwaithe <br> - Turk <br> - HEC-HMS Implementation(s)|||\n",
    "|08Jan24|Computational Hydrology (HMS) </font><br> - [Introduction to HEC-HMS](http://54.243.252.9/ce-3354-webroot/ce3354book/_build/html/lessons/lesson06.1/HMSintro.html) <br> - Installation <br> - GeoHMS (or other public domain grid-scale tools)<br> - Examples |||\n",
    "|13Feb24|<font color=\"red\">Exam 1</font>|||\n",
    "|15Feb24|[Infiltration Models](http://54.243.252.9/ce-3354-webroot/ce3354book/_build/html/lessons/lesson08/lesson08.html) <br> - Horton (infiltration Excess) <br> - Dunne (saturation excess) <br> - Green-Ampt (soil physics) <br> - HEC-HMS Implementations|Gupta 93-110<br> - [Infiltration Notes](http://54.243.252.9/ce-3354-webroot/3-Readings/MyInfiltrationNotes/InfiltrationNotes.pdf)<br>- [Green-Ampt Notes](http://54.243.252.9/ce-3354-webroot/3-Readings/MyGreenAmptNotes/GA-Notes.pdf)<br>- [Infiltration PBK](http://54.243.252.9/ce-3354-webroot/3-Readings/Green-Ampt-PBK/Polubarinova-Kochina.pdf)<br>- [Green-Ampt in Texas](http://54.243.252.9/ce-3354-webroot/3-Readings/Green-Ampt-Texas/Karki_Amit_Thesis.pdf)||\n",
    "|20Feb24|[Shallow Depression and Canopy Storage Models](http://54.243.252.9/ce-3354-webroot/ce3354book/_build/html/lessons/lesson08.1/lesson081.html) <br> - Process Description(s) <br> - HEC-HMS Implementations|Gupta ppXX-XX||\n",
    "|22Feb24|[Unit Hydrographs - I](http://54.243.252.9/ce-3354-webroot/ce3354book/_build/html/lessons/lesson09/lesson09.html) <br> - Background <br> - Convolution/Deconvolution <br> - UH Analysis |- [Sherman Unit Hydrograph](http://54.243.252.9/ce-3354-webroot/3-Readings/ShermanUH/Sherman_ENR_1932.pdf)<br>- [Statistical-Mechanical Unit Hydrograph](http://54.243.252.9/ce-3354-webroot/3-Readings/LeinhardDUH/1964-StatMechDimUnitHydrograph.pdf)<br>- [Instantaneous Unit Hydrographs in Texas](http://54.243.252.9/ce-3354-webroot/3-Readings/cleveland2006-1/2006_0602_IUHEvalTexas.pdf)<br>- []()|[ES8 Tc Determination for a Watershed](http://54.243.252.9/ce-3354-webroot/2-Exercises/ES-8/es8.html)|\n",
    "|27Feb24|[Unit Hydrographs - II](http://54.243.252.9/ce-3354-webroot/ce3354book/_build/html/lessons/lesson10/lesson10.html) <br> - Gamma <br> - NRCS-DUH <br> - TR-55 <br> - UH Synthesis |- [Prediction of DUH](http://54.243.252.9/ce-3354-webroot/3-Readings/LeinhardPredDUH/1972-PredDimUnitHydrograph.pdf)<br>- [Unit Hydrographs from DEMs](http://54.243.252.9/ce-3354-webroot/3-Readings/cleveland2008-1/cleveland_2008_1.pdf)<br>- [Physical Basis for Gamma Dist.](http://54.243.252.9/ce-3354-webroot/3-Readings/LeinhardGamma/1967-PhysicalBasisGammaDistn.PDF)||\n",
    "|29Feb24||||\n",
    "|05Mar24|<font color=\"green\">Design Project Computational Hydrology Workshop II </font><br> - HEC-HMS Rainfall-Runoff <br>- Design Storm by Texas Hyetograph|||\n",
    "|07Mar24|[Hydrograph Routing - I](http://54.243.252.9/ce-3354-webroot/ce3354book/_build/html/lessons/lesson11/lesson11.html) <br> Hydraulic vs. Hydrologic Routing <br> - Lag Routing <br> - Level-Pool Routing <br> | -[Reservoir and Stream Routing - Mays](http://54.243.252.9/ce-3354-webroot/3-Readings/Mays%20%20TOC%20and%20Chapters%207,%208,%209/MaysCh9.pdf)||\n",
    "|19Mar24|[Hydrograph Routing - II](http://54.243.252.9/ce-3354-webroot/ce3354book/_build/html/lessons/lesson12/lesson12.html) <br> - Muskingum-Cunge <br> - topic | -[Reservoir and Stream Routing - Mays](http://54.243.252.9/ce-3354-webroot/3-Readings/Mays%20%20TOC%20and%20Chapters%207,%208,%209/MaysCh9.pdf)||\n",
    "|21Mar24|[Reservoir Storage Routing](http://54.243.252.9/ce-3354-webroot/ce3354book/_build/html/lessons/lesson13/lesson13.html) <br> - Elevation-Area Tables <br> - Elevation-Discharge Tables |||\n",
    "|26Mar24|[Reservoir Outlet Works](http://54.243.252.9/ce-3354-webroot/ce3354book/_build/html/lessons/lesson14/lesson14.html) <br> - Orifices <br> - Weirs <br> - Conduits   |||\n",
    "|28Mar24|<font color=\"green\">Design Project Computational Hydrology Workshop III</font> <br> - Lag/Muskingum Routing for Hardin Creek Reaches <br> - Level-Pool Routing for SCS Storage Reservoirs   |||\n",
    "|02Apr24|<font color=\"red\">Exam 2  </font>|||\n",
    "|04Apr24|<br> - subtopic <br> - subtopic <br>- subtopic |ppXX-XX||\n",
    "|09Apr24|<br> - subtopic <br> - subtopic <br>- subtopic |ppXX-XX||\n",
    "|11Apr24|<br> - subtopic <br> - subtopic <br>- subtopic |ppXX-XX||\n",
    "|16Apr24|<br> - subtopic <br> - subtopic <br>- subtopic |ppXX-XX||\n",
    "|18Apr24|<br> - subtopic <br> - subtopic <br>- subtopic |ppXX-XX||\n",
    "|23Apr24|<br> - subtopic <br> - subtopic <br>- subtopic |ppXX-XX||\n",
    "|25Apr24|<br> - subtopic <br> - subtopic <br>- subtopic |ppXX-XX||\n",
    "|30Apr24|<br> - subtopic <br> - subtopic <br>- subtopic |ppXX-XX||\n",
    "|29Nov22|<br> - subtopic <br> - subtopic <br>- subtopic |ppXX-XX||\n",
    "|06May24|<font color=\"red\">Exam 3 </font>|||"
   ]
  },
  {
   "cell_type": "markdown",
   "metadata": {},
   "source": [
    "---\n",
    "## Course Assessment and Grading Criteria:\n",
    "There will be homework assignments, three tests.  \n",
    "<strong>Late</strong> assignments will be scored at 50% reduced value \n",
    "\n",
    "Grades will be based on the following components; weighting is approximate:\n",
    "\n",
    "|Assessment Instrument|Weight(%)|\n",
    "|---|---:|\n",
    "|Attendance|10|\n",
    "|Test-1|25|\n",
    "|Test-2|25|\n",
    "|Test-3|25|\n",
    "|Homework|15|\n",
    "|Overall total|100|\n",
    "\n",
    "Letter grades will be assigned using the following quantiles proportions:\n",
    "\n",
    "|Normalized Score Range|Letter Grade|\n",
    "|:-|---:|\n",
    "|86-100|A| \n",
    "|71-85|B|\n",
    "|51-70|C|\n",
    "|21-50|D|\n",
    "|0-20|F|\n",
    "\n",
    "\n",
    "\n",
    "<!-- |Normalized Score Range|Letter Grade|\n",
    "|:-|---:|\n",
    "|≥ 90|A| \n",
    "|80-89|B|\n",
    "|70-79|C|\n",
    "|55-69|D|\n",
    "|< 55|F| -->\n",
    "\n",
    "<!-- Scores as Quantiles Ranges\n",
    "|81-100|A| \n",
    "|61-80|B|\n",
    "|41-60|C|\n",
    "|21-40|D|\n",
    "|0-20|F|\n",
    "-->\n"
   ]
  },
  {
   "cell_type": "markdown",
   "metadata": {},
   "source": [
    "## Classroom Policy:\n",
    "The following activities are not allowed in the classroom: Texting or talking on the cellphone or other electronic devices, and reading non-course related materials.\n",
    "\n",
    "<!--\n",
    "### Telepresence (On-line) Courses\n",
    "Obviously electronic devices are vital; disrupting the conference is prohibited, please mute your microphone unless you have a question - consider typing your question into the chat window as well. Be aware of bandwidth issues and remember most lessons and laboratory sessions are recorded and posted on youtube.  Recording, editing, and rendering takes awhile, so expect 24-36 hour delay before video is available. \n",
    "-->"
   ]
  },
  {
   "cell_type": "markdown",
   "metadata": {},
   "source": [
    "## Safety and Wellness Statement:\n",
    "\n",
    "The Texas Tech University (TTU) and Edward E. Whitacre Jr. College of Engineering are committed to the safety and wellness of our students by providing various services and resources. \n",
    "Make sure you register with [Tech Alert](https://appserv.itts.ttu.edu/emergencyalert) to get emergency notifications by phone call, text, or email. You are encouraged to review the [Emergency Action Plans (EAPs)](https://www.depts.ttu.edu/adminfinance/safety/emergency-management/action-plans/?gclid=EAIaIQobChMI_66xhsrp-AIVVGpvBB2SdwZiEAAYAiAAEgIYd_D_BwE) and watch the videos of [Know What To Do In Emergency Events](https://www.youtube.com/watch?v=4pTtmPSL4-I) and [Surviving an Active Shooter Event Training](https://www.depts.ttu.edu/ttpd/active_shooter.php) to be prepared for those emergency situations. Additionally, due to the nature of laboratory or design courses, it is mandatory for you to follow the [university safety policies](https://www.depts.ttu.edu/ehs/academicsafety/labsafetydocs/LabSafetyManual.pdf) and any additional safety training and protocols required by the course instructor(s). \n",
    "For your wellbeing, various services are available at [Student Counseling Center](https://www.depts.ttu.edu/scc/) and [Student Health Services](https://www.depts.ttu.edu/studenthealth/). The Student Wellness Center provides convenient walk-in services M-F from 8 AM to 5 PM. Furthermore, the Texas Tech Crisis HelpLine (806-742-5555) provides 24/7/365 assistance for students experiencing a crisis or distress. \n",
    "\n",
    "<!--![](PhoneNumbers.png)-->\n",
    "<BR><BR>\n",
    "\n",
    "<div style=\"text-align: center;\">\n",
    "    <strong>Emergency/Crisis Phone Number(s)</strong>\n",
    "   </div>\n",
    "   \n",
    "|Entity Name|Phone Number|\n",
    "|---|---|\n",
    "|TTU Police (UPD) Emergency|911 |\n",
    "|TTU Police (UPD) Non-Emergency|806.742.3931|\n",
    "|TTU Emergency Maintenance|806.742.4OPS (4677)|\n",
    "|TTU EHS (M-F, 8 am – 5 pm)|806.742.3876|\n",
    "|SafeRide|806.742.RIDE (7433)|\n",
    "|TTU Crisis HelpLine|806.742.5555|\n",
    "|Student Wellness Center <br> (From Urgent Care to a Full-Service Pharmacy on site)|806.742.2848|\n",
    "    \n",
    "## Safety Training Requirement \n",
    "As part of our commitment to maintaining a safe learning environment, students are required to complete safety training before participating in any lab work or practical exercises. The safety training matrix and online safety training module are available from the Texas Tech Department of Environmental Health and Safety. Additional safety training may be required by the course instructor(s).\n",
    "\n",
    "### Laboratory Safety Training\n",
    "\n",
    "- You MUST complete the mandatory safety training before performing any experiment in the lab\n",
    "- The Mandatory training for CE 5361 includes: \n",
    "   - **NONE**\n"
   ]
  },
  {
   "cell_type": "markdown",
   "metadata": {},
   "source": [
    "## ADA Statement (OP 34.22): \n",
    "Any student who, because of a disability, may require special arrangements in order to meet\n",
    "the course requirements should contact the instructor as soon as possible to make any\n",
    "necessary arrangements. Students should present appropriate verification from Student\n",
    "Disability Services during the instructor's office hours. Please note: instructors are not allowed\n",
    "to provide classroom accommodations to a student until appropriate verification from Student\n",
    "Disability Services has been provided. For additional information, please contact Student\n",
    "Disability Services in Weeks Hall or call 806-742-2405.\n",
    "\n",
    "Any student who, because of a disability, may require special arrangements in order to meet the course requirements should contact the instructor as soon as possible to make necessary arrangements.  Students must present appropriate verification from Student Disability Services during the instructor's office hours.  Please note that instructors are not allowed to provide classroom accommodation to a student until appropriate verification from Student Disability Services has been provided.  For additional information, please contact Student Disability Services \n",
    "office in 335 West Hall or call 806.742.2405.\n",
    "\n",
    "## Academic Integrity Statement (OP 34.12):\n",
    "Academic integrity is taking responsibility for one’s own class and/or course work, being individually accountable, and demonstrating intellectual honesty and ethical behavior.  Academic integrity is a personal choice to abide by the standards of intellectual honesty and responsibility.  Because education is a shared effort to achieve learning through the exchange of ideas, students, faculty, and staff have the collective responsibility to build mutual trust and respect.  Ethical behavior and independent thought are essential for the highest level of academic achievement, which then must be measured.  Academic achievement includes scholarship, teaching, and learning, all of which are shared endeavors.  Grades are a device used to quantify the successful accumulation of knowledge through learning.  Adhering to the standards of academic integrity ensures grades are earned honestly.  Academic integrity is the foundation upon which students, faculty, and staff build their educational and professional careers.  [Texas Tech University (“University”) Quality Enhancement Plan, Academic Integrity Task Force, 2010](https://www.depts.ttu.edu/tlpdc/Resources/NewFacultyResources/Student_Handbook_Academic_Integrity_Procedures.pdf).\n",
    "\n",
    "## Religious Holy Day Statement (OP 34.19): \n",
    "\n",
    "1. \"Religious holy day\" means a holy day observed by a religion whose places of worship are exempt from property taxation under Texas Tax Code §11.20.\n",
    "2. A student who intends to observe a religious holy day should make that intention known in writing to the instructor prior to the absence. A student who is absent from classes for the observance of a religious holy day shall be allowed to take an examination or complete an assignment scheduled for that day within a reasonable time after the absence.\n",
    "3. A student who is excused under section 2 may not be penalized for the absence; however, the instructor may respond appropriately if the student fails to complete the assignment satisfactorily\n",
    "\n",
    "## Ethical Conduct Policy:\n",
    "Cheating is prohibited, and the representation of the work of another person as your own will be grounds for receiving a failing grade in the course.  \n",
    "- Use of [Large Language Generative Models](https://www.depts.ttu.edu/tlpdc/AIUSeAllowedwithDisclosureUpdated.pdf) is acceptable provided the acknowledgement discussed in the link is included. \n",
    "- [Suggestion for citing use of Language Generative Models](https://ttu.blackboard.com/bbcswebdav/institution/Recommended%20Syllabus%20Statements/AI%20Use%20Allowed%20with%20Disclosure%20and%20Citation.pdf)\n",
    "\n",
    "## Additional Recommended Statements\n",
    "1. [Discrimination, Harassment, and Sexual Violence Statement](https://www.depts.ttu.edu/tlpdc/DiscriminationHarrasmentSexualViolenceStatement.pdf)\n",
    "2. [Civility in the Classroom Statement](https://www.depts.ttu.edu/tlpdc/CivilityInTheClassroomStatement.pdf)\n",
    "3. [Plagarism Statement](https://ttu.blackboard.com/bbcswebdav/institution/Recommended%20Syllabus%20Statements/Plagiarism.pdf)\n",
    "3. [Student Support Statement](https://www.depts.ttu.edu/tlpdc/StudentSupportStatement.pdf)\n",
    "4. [Statement About Food Insecurity](https://www.depts.ttu.edu/tlpdc/FoodInsecurityStatement.pdf)\n",
    "   "
   ]
  },
  {
   "cell_type": "code",
   "execution_count": null,
   "metadata": {},
   "outputs": [],
   "source": []
  }
 ],
 "metadata": {
  "kernelspec": {
   "display_name": "Python 3",
   "language": "python",
   "name": "python3"
  },
  "language_info": {
   "codemirror_mode": {
    "name": "ipython",
    "version": 3
   },
   "file_extension": ".py",
   "mimetype": "text/x-python",
   "name": "python",
   "nbconvert_exporter": "python",
   "pygments_lexer": "ipython3",
   "version": "3.8.10"
  }
 },
 "nbformat": 4,
 "nbformat_minor": 4
}
