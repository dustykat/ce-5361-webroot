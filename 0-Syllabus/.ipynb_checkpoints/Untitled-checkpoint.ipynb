{
 "cells": [
  {
   "cell_type": "markdown",
   "metadata": {},
   "source": [
    "Introduction to Surface Water Hydrology\n",
    "\n",
    "1. Lesson 1: Course Overview and Objectives\n",
    "2. Lesson 2: Fundamentals of Hydrology\n",
    "3. Lesson 3: Hydrological Cycle and Budgets\n",
    "4. Lesson 4: Watershed Characteristics and Classification\n",
    "5. Lesson 5: Measurement and Data Sources\n",
    "6. Lesson 6: Rainfall Distribution and Analysis\n",
    "7. Lesson 7: Spatial and Temporal Variability\n",
    "8. Lesson 8: Infiltration Processes\n",
    "9. Lesson 9: Horton's Infiltration Model\n",
    "10. Lesson 10: SCS-CN Method for Runoff Estimation\n",
    "11. Lesson 11: Streamflow Measurement and Analysis\n",
    "12. Lesson 12: River Morphology and Channel Dynamics\n",
    "13. Lesson 13: River Flow Routing\n",
    "14. Lesson 14: Introduction to Hydrologic Models\n",
    "15. Lesson 15: Rainfall-Runoff Models (e.g., HEC-HMS)\n",
    "16. Lesson 16: Statistical and Stochastic Hydrology\n",
    "17. Lesson 17: Flood Frequency Analysis\n",
    "18. Lesson 18: Floodplain Mapping and Management\n",
    "19. Lesson 19: Flood Risk Assessment\n",
    "20. Lesson 20: Integrated Water Resources Management (IWRM)\n",
    "21. Lesson 21: Watershed Planning and Management\n",
    "22. Lesson 22: Sustainable River Basin Governance\n",
    "23. Lesson 23: Pollutant Transport in Rivers\n",
    "24. Lesson 24: Water Quality Modeling\n",
    "25. Lesson 25: Water Quality Management and Regulations\n",
    "26. Lesson 26: Course Recap and Future Trends in Surface Water Hydrology"
   ]
  },
  {
   "cell_type": "code",
   "execution_count": null,
   "metadata": {},
   "outputs": [],
   "source": []
  }
 ],
 "metadata": {
  "kernelspec": {
   "display_name": "Python 3",
   "language": "python",
   "name": "python3"
  },
  "language_info": {
   "codemirror_mode": {
    "name": "ipython",
    "version": 3
   },
   "file_extension": ".py",
   "mimetype": "text/x-python",
   "name": "python",
   "nbconvert_exporter": "python",
   "pygments_lexer": "ipython3",
   "version": "3.8.10"
  }
 },
 "nbformat": 4,
 "nbformat_minor": 4
}
