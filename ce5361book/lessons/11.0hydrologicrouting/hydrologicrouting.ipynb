{
 "cells": [
  {
   "cell_type": "markdown",
   "metadata": {},
   "source": [
    "# 11. Hydrologic Routing\n",
    "\n",
    "Routing simulates movement of a discharge signal (flood wave) through reaches\n",
    "- Accounts for storage in the reach and flow resistance.\n",
    "- Allows modeling of a basin comprised of interconnected sub-basins\n",
    "- Hydraulic routing – uses continuity and momentum (St. Venant Equations) \n",
    "- Hydrologic routing – uses continuity equation\n",
    "\n",
    "[insert some images]\n",
    "\n",
    "##  Routing-Hydrologic and Hydraulic\n",
    "\n",
    "Problem:\n",
    "- you have a hydrograph at one location (I) \n",
    "- you have reach characteristics (S = f(I,O))\n",
    "\n",
    "Need:\n",
    "- a hydrograph at different location (O)\n",
    "\n",
    "This is a “routing” situation. The “reach” can be a stream, river, reservoir or some similar feature\n",
    "\n",
    "![](routingsketch.png)"
   ]
  },
  {
   "cell_type": "markdown",
   "metadata": {},
   "source": [
    "![](barheights.png)"
   ]
  },
  {
   "cell_type": "markdown",
   "metadata": {},
   "source": [
    "The bar heights (volumes in storage, entering, and leaving the hydrologic reach) are quantified in a routing table - like a bank account that relates revenue, expenses, and account balance.\n",
    "\n",
    "## Hydrologic Routing\n",
    "\n",
    "Hydrologic routing techniques use the equation of continuity and some linear or curvilinear relation between storage and discharge within the river.\n",
    "\n",
    "Methods include:\n",
    "- Lag Routing (no attenuation). Useful to get connectivity correct\n",
    "- Modified Puls (level pool routing). Useful for reservoirs\n",
    "- Muskingum-Cunge (almost a hydraulic model). Useful to approximate stream/river behavior without true \"hydraulics\" considerations"
   ]
  },
  {
   "cell_type": "markdown",
   "metadata": {},
   "source": [
    "### Level Pool Routing\n",
    "\n",
    "Technique to approximate the outflow hydrograph passing through a reservoir with the pool (water surface) always level.\n",
    "- Uses a reach (reservoir) mass balance equation \n",
    "\n",
    "$$ Q_{in} − Q_{out} = \\frac{\\Delta S}{\\Delta t}$$\n",
    " \n",
    "- and a storage-outflow relationship.\n",
    "\n",
    "$$ Q_{out} = f(S)$$"
   ]
  },
  {
   "cell_type": "markdown",
   "metadata": {},
   "source": [
    "Variable names are typically changed:\n",
    "\n",
    "$Q_{in} => I_t$ and $Q_{out} => O_t$\n",
    "\n",
    "So the reach mass balance is\n",
    "\n",
    "$$ \\bar I − \\bar O = \\frac{\\Delta S}{\\Delta t}$$\n",
    "\n",
    "The time averaged values are taken at the beginning and end of the time interval, and the first-order difference quotient is used to approximate the rate of change in storage.\n",
    "\n",
    "The reach mass balance is then\n",
    "\n",
    "$$\\frac{I_t - I_{t-\\Delta t}}{2} - \\frac{O_t - O_{t-\\Delta t}}{2} = \\frac{S_t - S_{t-\\Delta t}}{\\Delta t}  $$"
   ]
  },
  {
   "cell_type": "markdown",
   "metadata": {},
   "source": [
    "![](levelpool1.png)"
   ]
  },
  {
   "cell_type": "markdown",
   "metadata": {},
   "source": [
    "Then some of that algebra stuff ....\n",
    "\n",
    "![](levelpool2.png)"
   ]
  },
  {
   "cell_type": "markdown",
   "metadata": {},
   "source": [
    "More algebra stuff ....\n",
    "\n",
    "![](levelpool3.png)"
   ]
  },
  {
   "cell_type": "markdown",
   "metadata": {},
   "source": [
    "Some more algebra still and recognize need to deal with two unknowns ...\n",
    "\n",
    "![](levelpoolF.png)\n",
    "\n",
    "The storage-outflow function leverages hydraulics where possible. For example flow through holes (orifice flow), over spillways and weirs, and simplified culvert flow situations.\n",
    "\n",
    "![](storageoutflow.png)\n",
    "\n",
    "![](weirflow.png)\n",
    "\n",
    "![](holyflow.png)"
   ]
  },
  {
   "cell_type": "markdown",
   "metadata": {},
   "source": [
    "Use outlet-works hydraulics, and depth-area-storage to build a storage-outflow function\n",
    "\n",
    "\n",
    "$$O = f(S)$$\n",
    "\n",
    "Once we have that function, then build an auxiliary function (tabulation) called the storage-indication curve (function)\n",
    "\n",
    "\n",
    "$$ O = g(\\frac{2S}{\\Delta t} +O) $$\n",
    "\n",
    "here $g$ is some function."
   ]
  },
  {
   "cell_type": "markdown",
   "metadata": {},
   "source": [
    "Once have the storage-indication curve then can use the reach mass balance to estimate the numerical value of :\n",
    "\n",
    "$$\\frac{2S_t}{\\Delta t} +O_t$$\n",
    "\n",
    "Then use the storage-indication curve to find the value of outflow, subtract that from the result above, and now have both the end-of-interval outflow and storage."
   ]
  },
  {
   "cell_type": "markdown",
   "metadata": {},
   "source": [
    "Example – Similar to CMM 8.2.1 pg 247-252; but\n",
    "- Show how the storage-indication curve derived using hydraulics\n",
    "- Illustrate use of spreadsheet programming needed to make the actual computations\n",
    "\n",
    "![](detentionbasin.png)\n",
    "\n",
    "Tasks:\n",
    "- Build a depth-storage table \n",
    "- Build a depth-outflow table\n",
    "  - From 0 -5 feet deep use Manning’s equation in a circular conduit\n",
    "  - From 5+ to 12 feet deep use Orifice equation (neglecting frictional losses)\n",
    "- Save a depth-storage-outflow table for use in storage-indication curve\n",
    "- Build the routing table (apply the reach mass balance)\n",
    "\n",
    "For depth-outflow here is a [Manning's calculator.](http://54.243.252.9/ce-3354-webroot/ce3354book/lessons/lesson11/CircularChannelMannings-US.xls)\n",
    "\n",
    "![](mannings.png)\n",
    "\n",
    "Here is an [orifice calculator.](http://54.243.252.9/ce-3354-webroot/ce3354book/lessons/lesson11/OrificeDichargeCalculatorUSCustomary.xlsx)\n",
    "\n",
    "![](orifice.png)\n"
   ]
  },
  {
   "cell_type": "markdown",
   "metadata": {},
   "source": [
    "Use these and basin geometry to build depth-storage outflow table.\n",
    "\n",
    "![](depth-storage-outflow.png)\n",
    "\n",
    "Copy the depth-storage-outflow to the routing table (we are going to build) – we need it as a tabulation so we can use INDEX and MATCH to get values from the table for interpolation (Eq. at bottom CMM pg 249)\n",
    "\n",
    "![](interpolation.png)"
   ]
  },
  {
   "cell_type": "markdown",
   "metadata": {},
   "source": [
    "![](routingtable1.png)\n",
    "\n",
    "![](routingtable2.png)\n",
    "\n",
    "![](routingtable3.png)\n",
    "\n",
    "![](routingtable4.png)\n",
    "\n",
    "![](routingtable5.png)"
   ]
  },
  {
   "cell_type": "markdown",
   "metadata": {},
   "source": [
    "The full spreadsheet, with the interpolation function as an Excel 94 macro sheet (you could code in place, will have a few more columns) is on server as [Routing Example.](http://54.243.252.9/ce-3354-webroot/ce3354book/lessons/lesson11/RoutingExample.xls)\n",
    "\n",
    "- Such computations are a lot easier to perform in HEC-HMS because it handles (1) building the routing table and (2) selecting a decent time step\n",
    "- Can also use level pool routing for a stream reach (next meeting)."
   ]
  },
  {
   "cell_type": "markdown",
   "metadata": {},
   "source": [
    "## Reservoir Concepts\n",
    "- Reservoir\n",
    "  - A pond, lake, or basin, either natural or artificial, for the storage, regulation, and control of water.\n",
    "- Regulated reservoir\n",
    "  - Outflow controlled by moveable gates and valves. \n",
    "  - Head, and valve settings determine outflow.\n",
    "- Unregulated reservoir.\n",
    "  - Outflow controlled by fixed weirs and orifices.\n",
    "  - Head and constructed weir height determine outflow."
   ]
  },
  {
   "cell_type": "markdown",
   "metadata": {},
   "source": [
    "## Reservoir Storage\n",
    "\n",
    "Storage Representations≈\n",
    "- Storage vs. Discharge\n",
    "- Storage vs. Elevation\n",
    "- Surface Area vs. Elevation\n",
    "\n",
    "![](ReservoirConcepts.png)\n",
    "\n",
    "Discharge Representations \n",
    "- Spillways, Weirs\n",
    "- Orifices, Sluice gates\n",
    "- Pumps\n",
    "- Dam Breach\n",
    "\n"
   ]
  },
  {
   "cell_type": "markdown",
   "metadata": {},
   "source": [
    "## HEC-HMS Constructs\n",
    "\n",
    "![](hms-reservoir-element.png)\n",
    "\n",
    "![](hec-res1.png)\n",
    "![](hec-res2.png)\n",
    "![](hec-res3.png)\n",
    "![](hec-res4.png)\n",
    "![](hec-res5.png)\n",
    "![](hec-res6.png)\n",
    "![](hec-res7.png)\n",
    "![](hec-res8.png)\n",
    "![](hec-res9.png)"
   ]
  },
  {
   "cell_type": "markdown",
   "metadata": {},
   "source": [
    "## Routing-channel and reservoir\n",
    "\n",
    "Reservoir routing\n",
    "- Account for storage in a reservoir\n",
    "- Unique storage-discharge relationship\n",
    "\n",
    "Channel routing\n",
    "- Account for storage in channel as well as travel time \n",
    "- Storage-discharge relation in channel is non-unique\n",
    "- Can treat channel as a series of reservoirs to mitigate looped effect."
   ]
  },
  {
   "cell_type": "markdown",
   "metadata": {},
   "source": [
    "## References\n",
    "\n",
    "1. [Cleveland, T. G. (2017) *Surface Water Hydrology Notes (Hydrograph Routing) to accompany CE-3354*, Department of Civil, Environmental, and Construction Engineering, Whitacre College of Engineering.](http://54.243.252.9/ce-3354-webroot/1-Lectures-2017/Lecture17.pdf)\n",
    "\n",
    "## HEC-HMS Files\n",
    "\n",
    "1. [MyReservoirModel.zip (zip file of en entire HMS project)](http://54.243.252.9/ce-3354-webroot/ce3354book/lessons/lesson11/MyReservoirModel.zip)"
   ]
  },
  {
   "cell_type": "code",
   "execution_count": null,
   "metadata": {},
   "outputs": [],
   "source": []
  }
 ],
 "metadata": {
  "kernelspec": {
   "display_name": "Python 3",
   "language": "python",
   "name": "python3"
  },
  "language_info": {
   "codemirror_mode": {
    "name": "ipython",
    "version": 3
   },
   "file_extension": ".py",
   "mimetype": "text/x-python",
   "name": "python",
   "nbconvert_exporter": "python",
   "pygments_lexer": "ipython3",
   "version": "3.8.10"
  }
 },
 "nbformat": 4,
 "nbformat_minor": 4
}
