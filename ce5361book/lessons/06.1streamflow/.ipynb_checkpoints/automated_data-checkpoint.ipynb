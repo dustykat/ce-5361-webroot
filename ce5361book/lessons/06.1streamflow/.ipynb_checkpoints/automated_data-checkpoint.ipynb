{
 "cells": [
  {
   "cell_type": "markdown",
   "metadata": {},
   "source": [
    "# Automated Data Retreival\n",
    "\n",
    "The semi-automatic retrieval of data is valuable for documenting and reconstructing work related to hydrology.  What follows is scripting by a colleague that can be used for future efforts.\n",
    "\n",
    ":::{note}\n",
    "I have modified his original work to render on my web server - main changes are to suppress interactive behavior, and to split the code up a bit.  Otherwise it is Moise's original Thesis work unchanged!\n",
    ":::"
   ]
  },
  {
   "cell_type": "markdown",
   "metadata": {},
   "source": [
    "## A Hydrological Data Analysis and Visualization Toolkit\n",
    "\n",
    "- *Author*: Moise Baraka, Ph.D. Student in CECE Water Resources, Texas Tech University\n",
    "- *Date*: 02/21/2024\n",
    "- *Supervised by* Theodore Cleveland, Ph.D. CECE Water Resources, Associate Professor, Texas Tech University\n",
    "- *class of* spring 2024 in Surface Water Hydrology\n",
    "\n",
    "- Description:\n",
    "*This toolkit provides a collection of functions for retrieving, processing, analyzing, and visualizing hydrological data from the USGS web server. It includes modules for retrieving rating curve data, fitting it, computing statistical measures, generating histograms, and plotting various hydrological data attributes. The program allows users to input station codes to retrieve specific data and provides visualizations for any station monitored by the USGS program.*\n",
    "---\n",
    "\n",
    "### STREAMFLOW DATA RETRIEVAL\n",
    "\n",
    "- **Step 1: Input Collection**\n",
    "\n",
    "The script prompts the user to input the USGS station ID, start date, and end date.\n",
    "\n",
    "- **Step 2: Directory Selection**\n",
    "\n",
    "The user is prompted to input the directory where the data will be saved. If no directory is provided, it defaults to a predefined directory, which must have been defined in the script.\n",
    "\n",
    "- **Step 3: URL Construction**\n",
    "\n",
    "The script constructs a URL using the provided station ID, start date, and end date. This URL is used to retrieve the data from the USGS website.\n",
    "\n",
    "- **Step 4: Data Retrieval**\n",
    "\n",
    "The script downloads the data from the constructed URL. During the download process, it displays a progress bar or percentage showing the download progress.\n",
    "\n",
    "- **Step 5: Data Saving**\n",
    "\n",
    "The downloaded data is saved to the specified directory with a filename indicating the station code and data type."
   ]
  },
  {
   "cell_type": "markdown",
   "metadata": {},
   "source": [
    ":::{note}\n",
    "Here we load required modules\n",
    ":::"
   ]
  },
  {
   "cell_type": "code",
   "execution_count": 9,
   "metadata": {},
   "outputs": [],
   "source": [
    "import re\n",
    "import urllib.request\n",
    "import tqdm\n",
    "import time\n",
    "import os"
   ]
  },
  {
   "cell_type": "markdown",
   "metadata": {},
   "source": [
    ":::{note}\n",
    "Date parser function.  \n",
    ":::"
   ]
  },
  {
   "cell_type": "code",
   "execution_count": 10,
   "metadata": {},
   "outputs": [],
   "source": [
    "#------------------------------------------------------------------------\n",
    "def get_date_input(prompt):\n",
    "    while True:\n",
    "        date_input = input(prompt)\n",
    "        # Validate date format\n",
    "        if re.match(r'^\\d{4}-\\d{2}-\\d{2}$', date_input):\n",
    "            return date_input\n",
    "        else:\n",
    "            print(\"Invalid date format. Please use yyyy-mm-dd format.\")"
   ]
  },
  {
   "cell_type": "markdown",
   "metadata": {},
   "source": [
    ":::{note}\n",
    "Directory selector function\n",
    ":::"
   ]
  },
  {
   "cell_type": "code",
   "execution_count": 11,
   "metadata": {},
   "outputs": [],
   "source": [
    "#------------------------------------------------------------------------\n",
    "def get_save_directory_input(default_directory):\n",
    "    while True:\n",
    "        save_directory = input(f\"Enter the directory to save the data (press Enter to use default directory {default_directory}): \")\n",
    "        if not save_directory:\n",
    "            return default_directory\n",
    "        # Validate directory exists\n",
    "        elif os.path.isdir(save_directory):\n",
    "            return save_directory\n",
    "        else:\n",
    "            print(\"Directory does not exist. Please enter a valid directory.\")"
   ]
  },
  {
   "cell_type": "markdown",
   "metadata": {},
   "source": [
    ":::{note}\n",
    "Here we build the URL to generate the request to USGS server(s)\n",
    ":::"
   ]
  },
  {
   "cell_type": "code",
   "execution_count": 12,
   "metadata": {},
   "outputs": [],
   "source": [
    "#------------------------------------------------------------------------\n",
    "def build_url1(station_code, start_date, end_date):\n",
    "    base_url = 'https://nwis.waterdata.usgs.gov/nwis/dv?referred_module=sw&search_site_no='\n",
    "    query_params = '&search_site_no_match_type=exact&site_tp_cd=OC&site_tp_cd=OC-CO&site_tp_cd=ES&site_tp_cd=' \\\n",
    "                   'LK&site_tp_cd=ST&site_tp_cd=ST-CA&site_tp_cd=ST-DCH&site_tp_cd=ST-TS&index_pmcode_00060=1' \\\n",
    "                   '&group_key=NONE&sitefile_output_format=html_table&column_name=agency_cd&column_name=site_no' \\\n",
    "                   '&column_name=station_nm&range_selection=date_range&begin_date=' + start_date + '&end_date=' + end_date + \\\n",
    "                   '&format=rdb&date_format=YYYY-MM-DD&rdb_compression=value&list_of_search_criteria=search_site_no%2Csite_tp_cd%2Crealtime_parameter_selection'\n",
    "\n",
    "    return base_url + station_code + query_params"
   ]
  },
  {
   "cell_type": "code",
   "execution_count": null,
   "metadata": {},
   "outputs": [],
   "source": []
  },
  {
   "cell_type": "markdown",
   "metadata": {},
   "source": [
    ":::{note}\n",
    "Now the retreival step.  Some output is suppressed for JupyterBook\n",
    ":::"
   ]
  },
  {
   "cell_type": "code",
   "execution_count": 13,
   "metadata": {},
   "outputs": [],
   "source": [
    "#------------------------------------------------------------------------\n",
    "# Retrieve and save data from a URL, and return the filename\n",
    "def retrieve_and_save_data(url, filename):\n",
    "    print(\"\\nDownloading data from:\", url , '\\n')\n",
    "    response = urllib.request.urlopen(url)\n",
    "    total_size = int(response.headers.get('content-length', 0))\n",
    "    downloaded = 0\n",
    "    chunk_size = 1024\n",
    "    start_time = time.time()  # Record start time\n",
    "    with open(filename, 'wb') as file:\n",
    "        while True:\n",
    "            chunk = response.read(chunk_size)\n",
    "            if not chunk:\n",
    "                break\n",
    "            file.write(chunk)\n",
    "            downloaded += len(chunk)\n",
    "            if total_size > 0:\n",
    "                progress = downloaded / total_size * 100\n",
    "            else:\n",
    "                # Assume 1.2 seconds download time if total_size is zero\n",
    "                elapsed_time = time.time() - start_time\n",
    "                progress = min(100, elapsed_time / 1.2 * 100)\n",
    "#            print(f\"Estimated downloading progress: {progress:.1f}%\\r\", end='') \n",
    "    print(\"\\nData saved to:\", filename)\n",
    "    return filename"
   ]
  },
  {
   "cell_type": "markdown",
   "metadata": {},
   "source": [
    ":::{note}\n",
    "Here is the batch request (deactivate for interactive)\n",
    ":::"
   ]
  },
  {
   "cell_type": "code",
   "execution_count": 14,
   "metadata": {},
   "outputs": [],
   "source": [
    "station_code = '07297910'\n",
    "start_date = '1936-01-01'\n",
    "end_date = '2024-02-01'\n",
    "save_directory = './' # suppress and actiovate above for interactive"
   ]
  },
  {
   "cell_type": "markdown",
   "metadata": {},
   "source": [
    ":::{note}\n",
    "Here is the interactive part (activate for interactive)\n",
    ":::"
   ]
  },
  {
   "cell_type": "markdown",
   "metadata": {},
   "source": [
    "```\n",
    "#--------------------------------------------------------------------------\n",
    "#                          Define the inputs\n",
    "#--------------------------------------------------------------------------\n",
    "print(\" ------------------------------------------\",\n",
    "        \"\\n Please provide the following information:\",\n",
    "        \"\\n ------------------------------------------\")\n",
    "\n",
    "\n",
    "# activate code below and suppress above 3 lines for interactive\n",
    "#station_code = input('- USGS station ID: ')\n",
    "#start_date = get_date_input('- Start Date (yyyy-mm-dd): ')\n",
    "#end_date = get_date_input('- End Date (yyyy-mm-dd): ')\n",
    "\n",
    "\n",
    "\n",
    "#--------- !!! Define the directory where the data will be saved !!! -----------\n",
    "default_directory = r\"C:\\Users\\mbaraka\\OneDrive - Texas Tech University\\Thesis file\"  # To be defined!\n",
    "\n",
    "save_directory = get_save_directory_input(default_directory)\n",
    "```"
   ]
  },
  {
   "cell_type": "markdown",
   "metadata": {},
   "source": [
    ":::{note}\n",
    "Here get the file from the remote\n",
    ":::"
   ]
  },
  {
   "cell_type": "code",
   "execution_count": 15,
   "metadata": {},
   "outputs": [
    {
     "name": "stdout",
     "output_type": "stream",
     "text": [
      "\n",
      "Downloading data from: https://nwis.waterdata.usgs.gov/nwis/dv?referred_module=sw&search_site_no=07297910&search_site_no_match_type=exact&site_tp_cd=OC&site_tp_cd=OC-CO&site_tp_cd=ES&site_tp_cd=LK&site_tp_cd=ST&site_tp_cd=ST-CA&site_tp_cd=ST-DCH&site_tp_cd=ST-TS&index_pmcode_00060=1&group_key=NONE&sitefile_output_format=html_table&column_name=agency_cd&column_name=site_no&column_name=station_nm&range_selection=date_range&begin_date=1936-01-01&end_date=2024-02-01&format=rdb&date_format=YYYY-MM-DD&rdb_compression=value&list_of_search_criteria=search_site_no%2Csite_tp_cd%2Crealtime_parameter_selection \n",
      "\n",
      "\n",
      "Data saved to: ./USGS_Data_for_07297910.txt\n"
     ]
    }
   ],
   "source": [
    "#--------------------------------------------------------------------------\n",
    "#        Define the base URLs for data retrieval from Website 1\n",
    "#--------------------------------------------------------------------------\n",
    "url1 = build_url1(station_code, start_date, end_date)\n",
    "\n",
    "# Retrieve and save data from Website 1\n",
    "filename1 = retrieve_and_save_data(url1, os.path.join(save_directory, f'USGS_Data_for_{station_code}.txt'))"
   ]
  },
  {
   "cell_type": "markdown",
   "metadata": {},
   "source": [
    "## STATISTICS, HISTOGRAM AND FLOW DURATION CURVE\n",
    "\n",
    "- **Data Processing:**\n",
    "\n",
    "To begin with, the script processes text data saved previously, creating a DataFrame. It extracts relevant information such as agency code, site number, datetime, flow rate, and flag.\n",
    "\n",
    "- **Statistical Analysis:**\n",
    "  \n",
    "The script performs statistical analysis on the flow rate data, calculating various metrics like median, mean, standard deviation, variance, minimum, maximum, quartiles, and interquartile range. It identifies and counts outliers based on the interquartile range method.\n",
    "\n",
    "- **Plotting:**\n",
    "\n",
    "The script plots two types of graphs:\n",
    " 1. Flow Frequency Histogram with KDE (Kernel Density Estimation):\n",
    "\n",
    "Plots the distribution of flow rates against frequency. Uses Kernel Density Estimation (KDE) for smooth estimation of the probability density function.\n",
    "\n",
    "$$ P(x) = \\frac{1}{n h} \\sum_{i=1}^{n} K\\left(\\frac{x-x_i}{h}\\right) $$\n",
    "\n",
    "where $P(x)$ is the density estimate at point $x$, $n$ is the number of data points, $h$ is the bandwidth, $x_i$ are the data points, and $K$ is the kernel function.\n",
    "    \n",
    " 2. Flow Duration Curve (FDC) with Weibull formula and legend:\n",
    "\n",
    "Plots the flow rate against the probability of exceedance or equality. Computes the cumulative probability using the Gringorten method, a generalized version of the Weibull formula, defined as follows:\n",
    "$$ P(X \\geq x) = \\left(1 - \\left(\\frac{i-0.4}{n+0.2}\\right)\\right) \\times 100 $$\n",
    "\n",
    "where $P(X \\geq x)$ is the cumulative probability of exceeding or equaling $x$, $i$ is the rank of the data point, and $n$ is the total number of data points.\n",
    "\n",
    "\n",
    "*Note: Both plots are customized with appropriate labels, titles, gridlines, and legends.*\n",
    "\n",
    "- **Outputs:**\n",
    "  \n",
    "The script generates CSV files containing processed data and statistical analysis results. It also saves PNG images of the flow frequency histogram and flow duration curve.\n",
    "\n",
    "- **Libraries Used:**\n",
    "  \n",
    "    1. pandas: For data manipulation and analysis.\n",
    "    2. numpy: For mathematical operations.\n",
    "    3. matplotlib.pyplot: For plotting graphs.\n",
    "    4. seaborn: For enhanced data visualization.\n",
    "    5. io: For handling file I/O operations."
   ]
  },
  {
   "cell_type": "markdown",
   "metadata": {},
   "source": [
    ":::{note}\n",
    "Load the modules (libraries)\n",
    ":::"
   ]
  },
  {
   "cell_type": "code",
   "execution_count": 16,
   "metadata": {},
   "outputs": [],
   "source": [
    "import pandas as pd\n",
    "import numpy as np\n",
    "import matplotlib.pyplot as plt\n",
    "import seaborn as sns\n",
    "import io"
   ]
  },
  {
   "cell_type": "markdown",
   "metadata": {},
   "source": [
    ":::{note}\n",
    "Function to process the download data and build a pandas dataframe.\n",
    ":::"
   ]
  },
  {
   "cell_type": "code",
   "execution_count": 17,
   "metadata": {},
   "outputs": [],
   "source": [
    "#------------------------------------------------------------------------\n",
    "# Process data from a text file and return a cleaned DataFrame for Website 1\n",
    "def process_website1_data(filename, station_code):\n",
    "    data = []\n",
    "    with open(filename, 'r') as file:\n",
    "        for line in file:\n",
    "            if line.startswith(\"USGS\"):\n",
    "                parts = line.split(\"\\t\")\n",
    "                agency_cd, site_no, datetime, flow_rate, flag = parts[:5]\n",
    "                data.append([agency_cd, site_no, datetime, flow_rate, flag])\n",
    "\n",
    "    df = pd.DataFrame(data, columns=['agency_cd', 'site_no', 'datetime', 'flow_rate', 'flag'])\n",
    "    df['datetime'] = pd.to_datetime(df['datetime'], errors='coerce')\n",
    "    df['flow_rate'] = pd.to_numeric(df['flow_rate'], errors='coerce')\n",
    "    df.set_index('datetime', inplace=True)\n",
    "    \n",
    "    # Filter and keep rows where 'flag' is not equal to \"P\"\n",
    "    df = df[df['flag'] != 'P\\n']\n",
    "    \n",
    "    df.dropna(subset=['flow_rate'], inplace=True)\n",
    "\n",
    "    csv_filename1 = os.path.join(save_directory, f'{station_code}_flow_data.csv')\n",
    "    df.to_csv(csv_filename1)\n",
    "    \n",
    "    return df"
   ]
  },
  {
   "cell_type": "markdown",
   "metadata": {},
   "source": [
    ":::{note}\n",
    "Function to analyze the pandas dataframe, report relevant statistics, and save the results to a CSV file\n",
    ":::"
   ]
  },
  {
   "cell_type": "code",
   "execution_count": 18,
   "metadata": {},
   "outputs": [],
   "source": [
    "#------------------------------------------------------------------------\n",
    "def analyze_data(df):\n",
    "    \"\"\"\n",
    "    Performs statistical analysis on the flow rate data and saves the results to a CSV file.\n",
    "\n",
    "    Parameters:\n",
    "    df (DataFrame): DataFrame containing flow rate data.\n",
    "    \"\"\"\n",
    "    sample_size = len(df)\n",
    "    median = df['flow_rate'].median()\n",
    "    mean = df['flow_rate'].mean()\n",
    "    std = df['flow_rate'].std()\n",
    "    variance = df['flow_rate'].var()\n",
    "    minimum = df['flow_rate'].min()\n",
    "    maximum = df['flow_rate'].max()\n",
    "    first_quartile = df['flow_rate'].quantile(0.25)\n",
    "    third_quartile = df['flow_rate'].quantile(0.75)\n",
    "    interquartile_range = third_quartile - first_quartile\n",
    "    \n",
    "    # Calculate number of outliers\n",
    "    outliers = df[(df['flow_rate'] < first_quartile - 1.5 * interquartile_range) | (df['flow_rate'] > third_quartile + 1.5 * interquartile_range)]\n",
    "    num_outliers = len(outliers)\n",
    "\n",
    "    # Display statistics\n",
    "    print(\"--------- Statistics: ----------\\n\")\n",
    "    print(f\"-  Sample Size: {sample_size}\")\n",
    "    print(f\"-  Median: {median:.2f}\")\n",
    "    print(f\"-  Mean: {mean:.2f}\")\n",
    "    print(f\"-  Standard Deviation: {std:.2f}\")\n",
    "    print(f\"-  Variance: {variance:.2f}\")\n",
    "    print(f\"-  Minimum: {minimum:.2f}\")\n",
    "    print(f\"-  Maximum: {maximum:.2f}\")\n",
    "    print(f\"-  First Quartile: {first_quartile:.2f}\")\n",
    "    print(f\"-  Third Quartile: {third_quartile:.2f}\")\n",
    "    print(f\"-  Interquartile Range: {interquartile_range:.2f}\")\n",
    "    print(f\"-  Number of Outliers: {num_outliers}\")\n",
    "    print()\n",
    "    \n",
    "    # Create DataFrame for statistics\n",
    "    statistics_df = pd.DataFrame({\n",
    "        'Statistic': ['Sample Size', 'Median', 'Mean', 'Standard Deviation', 'Variance', 'Minimum', 'Maximum', 'First Quartile', 'Third Quartile', 'Interquartile Range', 'Number of Outliers'],\n",
    "        'Value': [sample_size, median, mean, std, variance, minimum, maximum, first_quartile, third_quartile, interquartile_range, num_outliers]\n",
    "    })\n",
    "\n",
    "    # Save statistics to CSV file\n",
    "    statistics_filename = os.path.join(save_directory, f'{station_code}_statistics.csv')\n",
    "    statistics_df.to_csv(statistics_filename, index=False)"
   ]
  },
  {
   "cell_type": "markdown",
   "metadata": {},
   "source": [
    ":::{note}\n",
    "Function to plot a flow frequency diagram from the dataframe.\n",
    ":::"
   ]
  },
  {
   "cell_type": "code",
   "execution_count": 19,
   "metadata": {},
   "outputs": [],
   "source": [
    "#------------------------------------------------------------------------\n",
    "def plot_flow_frequency_histogram(df):\n",
    "    \"\"\"\n",
    "    Plots the flow frequency histogram with a fitted KDE based on the flow rates in the DataFrame.\n",
    "\n",
    "    Parameters:\n",
    "    df (DataFrame): DataFrame containing flow rate data.\n",
    "    \"\"\"\n",
    "    plt.figure(figsize=(9, 6))\n",
    "    ax = sns.histplot(df['flow_rate'], bins=80, kde=True, edgecolor='black')\n",
    "    kde_color = 'red'\n",
    "    kde_alpha = 0.5\n",
    "    ax.get_lines()[0].set_color(kde_color)\n",
    "    ax.get_lines()[0].set_alpha(kde_alpha)\n",
    "    ax.set_title('Flow Frequency Histogram', fontsize=16)\n",
    "    ax.set_xlabel('Flow Rate (cfs)', fontsize=14)\n",
    "    ax.set_ylabel('Frequency', fontsize=14)\n",
    "    ax.grid(True, which='both', linestyle='--', linewidth=0.5)\n",
    "    plt.xticks(fontsize=12)\n",
    "    plt.yticks(fontsize=12)\n",
    "    plt.tight_layout()  # Ensure tight layout to prevent cropping of labels\n",
    "    plt.savefig(os.path.join(save_directory, f'{station_code}_flow_frequency_histogram.png'))\n",
    "    plt.show()"
   ]
  },
  {
   "cell_type": "markdown",
   "metadata": {},
   "source": [
    ":::{note}\n",
    "Function to plot a flow duration curve from the dataframe.\n",
    ":::"
   ]
  },
  {
   "cell_type": "code",
   "execution_count": 20,
   "metadata": {},
   "outputs": [],
   "source": [
    "#------------------------------------------------------------------------\n",
    "def plot_flow_duration_curve(df):\n",
    "    \"\"\"\n",
    "    Plots the flow duration curve (FDC).\n",
    "\n",
    "    Parameters:\n",
    "    df (DataFrame): DataFrame containing flow rate data.\n",
    "    \"\"\"\n",
    "    # Sort the flow rates in descending order\n",
    "    df_sorted = df.sort_values('flow_rate', ascending=False)\n",
    "\n",
    "    # Compute the cumulative probability\n",
    "    # The generalized form proposed by Gringorten (1963) a = 0.4\n",
    "    df_sorted['cumulative_probability'] = ((np.arange(len(df_sorted))+0.6) / (len(df_sorted)+1.2)) * 100\n",
    "\n",
    "    # Plot the flow duration curve\n",
    "    fig, ax = plt.subplots(figsize=(9, 6))\n",
    "    ax.semilogy(df_sorted['cumulative_probability'], df_sorted['flow_rate'])\n",
    "    ax.set_title('Flow Duration Curve', fontsize=18)\n",
    "    ax.set_xlabel('Probability of exceedance or equality (\\%)', fontsize=16)\n",
    "    ax.set_ylabel('Flow Rate ($ft^3/s$)', fontsize=16)\n",
    "    ax.grid(which='both')\n",
    "\n",
    "    # Add legend with the Weibull formula\n",
    "    equation = r'$P(X \\geq x) = \\left(1 - \\left(\\frac{i-0.4}{n+0.2}\\right)\\right) \\times 100$'\n",
    "    #ax.legend(['Flow Duration Curve', f'Weibull Fit: {equation}'], bbox_to_anchor=(0.35, .95), loc='upper left', fontsize=16)\n",
    "\n",
    "    # Add text box with the Weibull formula\n",
    "    ax.text(0.25, 0.8, f'Weilbull formula: {equation}', transform=ax.transAxes, fontsize=16, verticalalignment='top', bbox=dict(facecolor='white', alpha=1))\n",
    "\n",
    "    plt.tight_layout()  # Ensure tight layout to prevent cropping of labels\n",
    "    \n",
    "    plt.savefig(os.path.join(save_directory, f'{station_code}_fdc.png'))\n",
    "    plt.show()"
   ]
  },
  {
   "cell_type": "markdown",
   "metadata": {},
   "source": [
    ":::{note}\n",
    "Pocess the download data, build a pandas dataframe; then plot the flood frequency histogram, report summary statistics, and plot the flow duration curve.\n",
    ":::"
   ]
  },
  {
   "cell_type": "code",
   "execution_count": 21,
   "metadata": {},
   "outputs": [
    {
     "name": "stdout",
     "output_type": "stream",
     "text": [
      "Data from Website 1:\n",
      "           agency_cd   site_no  flow_rate flag\n",
      "datetime                                      \n",
      "1967-10-01      USGS  07297910        0.1    A\n",
      "1967-10-02      USGS  07297910        0.1    A\n",
      "1967-10-03      USGS  07297910        0.1    A\n",
      "1967-10-04      USGS  07297910        0.1    A\n",
      "1967-10-05      USGS  07297910        0.1    A\n"
     ]
    },
    {
     "data": {
      "image/png": "[encoded data removed]",
      "text/plain": [
       "<Figure size 648x432 with 1 Axes>"
      ]
     },
     "metadata": {
      "needs_background": "light"
     },
     "output_type": "display_data"
    },
    {
     "name": "stdout",
     "output_type": "stream",
     "text": [
      "--------- Statistics: ----------\n",
      "\n",
      "-  Sample Size: 20578\n",
      "-  Median: 3.80\n",
      "-  Mean: 26.72\n",
      "-  Standard Deviation: 257.99\n",
      "-  Variance: 66560.94\n",
      "-  Minimum: 0.00\n",
      "-  Maximum: 22700.00\n",
      "-  First Quartile: 0.80\n",
      "-  Third Quartile: 11.00\n",
      "-  Interquartile Range: 10.20\n",
      "-  Number of Outliers: 2038\n",
      "\n"
     ]
    },
    {
     "data": {
      "image/png": "[encoded data removed]",
      "text/plain": [
       "<Figure size 648x432 with 1 Axes>"
      ]
     },
     "metadata": {
      "needs_background": "light"
     },
     "output_type": "display_data"
    }
   ],
   "source": [
    "#--------------------------------------------------------------------------\n",
    "#      Preprocess the Retrieved Data and Display the Head Part of it \n",
    "#--------------------------------------------------------------------------\n",
    "df1 = process_website1_data(filename1, station_code)\n",
    "\n",
    "# Display the first few rows of data from Website 1\n",
    "print(\"Data from Website 1:\")\n",
    "print(df1.head())\n",
    "\n",
    "#--------------------------------------------------------------------------\n",
    "#                                 Plotting \n",
    "#--------------------------------------------------------------------------\n",
    "# Plot the flow frequency histogram with a fitted KDE\n",
    "plot_flow_frequency_histogram(df1)\n",
    "\n",
    "# Statistical analysis\n",
    "analyze_data(df1)\n",
    "\n",
    "# Flow duration curve\n",
    "plot_flow_duration_curve(df1)"
   ]
  },
  {
   "cell_type": "code",
   "execution_count": null,
   "metadata": {},
   "outputs": [],
   "source": []
  }
 ],
 "metadata": {
  "kernelspec": {
   "display_name": "Python 3",
   "language": "python",
   "name": "python3"
  },
  "language_info": {
   "codemirror_mode": {
    "name": "ipython",
    "version": 3
   },
   "file_extension": ".py",
   "mimetype": "text/x-python",
   "name": "python",
   "nbconvert_exporter": "python",
   "pygments_lexer": "ipython3",
   "version": "3.8.10"
  }
 },
 "nbformat": 4,
 "nbformat_minor": 4
}
