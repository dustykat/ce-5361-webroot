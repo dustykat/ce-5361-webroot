{
 "cells": [
  {
   "cell_type": "markdown",
   "metadata": {},
   "source": [
    "# Delineation (using GIS)\n",
    "\n",
    "Here we use QGIS as the tool to delineate a watershed.\n",
    "\n",
    ":::{note}\n",
    "The example follows the YouTube video [Watershed Delineation in QGIS (Quickest & Easiest Tutorial)](https://www.youtube.com/watch?v=2fvy9xtAHc4).  If you find this too difficult you may wish to consider a career in [Cosmetology](https://www.boardofcosmetology.net/).\n",
    ":::\n",
    "\n",
    "The fundamental workflow is:\n",
    "1. Download DEM file (from National Elevation Dataset or something similar).  Then open the file (as RASTER).\n",
    "2. Select or accept the CRS (Coordinate reference system)\n",
    "3. Designate area of interest.\n",
    "4. Pit filling algorithm.\n",
    "5. Identify pour point(s).\n",
    "6. Delineate using flow-acculumation algorithms.\n",
    "\n",
    "## Where to get data?\n",
    "For basemaps, OSM (Open Street Maps) is probably sufficient for most uses.\n",
    "\n",
    "For DEMs:\n",
    "1. SRTM (NASA server) has 30-meter resolution, world-wide.  Higher resolution for some areas. \n",
    "2. Higher resolution (1-meter) from [USGS](https://apps.nationalmap.gov/downloader/)\n",
    "3.\n",
    "\n",
    "## Videos\n",
    "1. [How To Quickly Download OSM Data in QGIS OSM Downloader Pluggin](https://www.youtube.com/watch?v=XKKpPeSQ9UU)\n",
    "2. [How to create contours using DEM in QGIS || Generate contours from DEM](https://www.youtube.com/watch?v=cvqodzxuTdg)\n",
    "3. [QGISHydro Webinar 4: Stream & Catchment Delineation](https://www.youtube.com/watch?v=2Ub0c7Ss-T4)\n",
    "4. [Use QGIS to Delineate the Catchment of Discharge Measurement Coordinates](https://www.youtube.com/watch?v=5XmPnKCMZHg)"
   ]
  },
  {
   "cell_type": "code",
   "execution_count": 1,
   "metadata": {},
   "outputs": [
    {
     "data": {
      "text/plain": [
       "27.748873851023216"
      ]
     },
     "execution_count": 1,
     "metadata": {},
     "output_type": "execute_result"
    }
   ],
   "source": [
    "770**0.5"
   ]
  },
  {
   "cell_type": "code",
   "execution_count": null,
   "metadata": {},
   "outputs": [],
   "source": []
  }
 ],
 "metadata": {
  "kernelspec": {
   "display_name": "Python 3",
   "language": "python",
   "name": "python3"
  },
  "language_info": {
   "codemirror_mode": {
    "name": "ipython",
    "version": 3
   },
   "file_extension": ".py",
   "mimetype": "text/x-python",
   "name": "python",
   "nbconvert_exporter": "python",
   "pygments_lexer": "ipython3",
   "version": "3.8.10"
  }
 },
 "nbformat": 4,
 "nbformat_minor": 4
}
