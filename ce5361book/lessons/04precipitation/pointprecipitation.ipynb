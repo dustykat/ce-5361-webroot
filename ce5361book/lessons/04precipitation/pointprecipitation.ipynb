{
 "cells": [
  {
   "cell_type": "markdown",
   "metadata": {},
   "source": [
    "# Precipitation Modeling"
   ]
  },
  {
   "cell_type": "markdown",
   "metadata": {},
   "source": [
    "- Risk Based Design Concepts\n",
    "- Probability Estimation Modeling\n",
    "- Design Storms\n",
    "- Historical Observations"
   ]
  },
  {
   "cell_type": "markdown",
   "metadata": {},
   "source": [
    "## Risk-Based Design Concepts\n",
    "\n",
    "Risk-based design concepts involve incorporating considerations of potential risks and uncertainties into the design process to create more resilient and effective drainage systems. This approach recognizes that uncertainties, such as extreme weather events or changes in land use, can impact the performance of a design. \n",
    "\n",
    "Key aspects include:\n",
    "\n",
    "**Risk Assessment**<br>\n",
    "Engineers conduct a thorough risk assessment to identify potential hazards and vulnerabilities associated with drainage systems. This includes considering factors such as heavy rainfall, urbanization, climate change, and topographical characteristics.\n",
    "\n",
    "**Probabilistic Design**<br>\n",
    "In contrast to deterministic design approaches, risk-based design incorporates probabilistic methods. Engineers analyze the probability of different events occurring and design the drainage system to manage the associated risks. This might involve considering the likelihood of certain rainfall intensities or the probability of exceeding design capacities.\n",
    "\n",
    "**Performance-Based Criteria**<br>\n",
    "Design criteria are based on the desired performance of the system under various risk scenarios. This ensures that the system can adequately handle different levels of stress and remain functional even in extreme conditions.\n",
    "\n",
    "**Adaptability and Resilience**<br>\n",
    "Systems are designed to be adaptable and resilient to changing conditions. This includes the ability to accommodate increased runoff due to urban development, changing precipitation patterns, or other unforeseen factors. Flexible designs can better withstand uncertainties.\n",
    "\n",
    "**Multi-Hazard Approach**<br>\n",
    "Risk-based design considers multiple hazards that could impact drainage systems. For example, it might address both flood risk and the potential for erosion or sedimentation. This comprehensive approach helps create more robust and versatile drainage solutions.\n",
    "\n",
    "**Cost-Benefit Analysis**<br>\n",
    "Engineers perform cost-benefit analyses to evaluate the economic implications of different design options. This involves weighing the costs of construction and maintenance against the potential damages and losses that could occur in the event of system failure.\n",
    "\n",
    "**Public Safety and Environmental Impact**<br>\n",
    "Risk-based design prioritizes public safety and minimizes the environmental impact of drainage systems. This involves considering the consequences of system failure and designing solutions that protect communities and ecosystems."
   ]
  },
  {
   "cell_type": "markdown",
   "metadata": {},
   "source": [
    "### Probability Estimation Modeling\n",
    "\n",
    "Probability estimation modeling refers to the use of probability distributions to model or explain behavior in observed data. Once a distribution is selected, then the concept of risk (probability) can be explored for events (rainfalls, discharges, concentrations, etc.) of varying magnitudes. Generally two important “extremes” are important in engineering; relatively uncommon events (floods, plant explosions, etc.) and very common events (routine discharges, etc.). The concepts of analysis are the same, but the distribution models are very different. In fact, there is very little literature on the examination of very common events, yet this area is crucial in environmental engineering, and to a lesser extent in typical civil engineering applications."
   ]
  },
  {
   "cell_type": "markdown",
   "metadata": {},
   "source": [
    "#### Frequency Analysis\n",
    "\n",
    "Frequency analysis is a type of probability estimation model that typically attempts to relate the behavior of some variable over some recurring time intervals. The time interval is assumed to be large enough so that the concept of “frequency” makes sense. If the time intervals are short, we are often dealing with a time-series that is handled using different tools. Underlying the idea of “long enough” is the concept of independence, that is the values of the variable are statistically independent, otherwise the variables are said to be serial (or auto) correlated."
   ]
  },
  {
   "cell_type": "markdown",
   "metadata": {},
   "source": [
    "**Concept of T-year event**<br>\n",
    "Extreme values (annual maximum or annual minimum) on some periodic time basis (usually one year) vary in magnitude (value) in an apparently random fashion. The T-year event concept is a way of expressing the probability of observing an event of some specified magnitude or smaller (larger) in one sampling period (one year). The formal definition is: The T-year event is an event of magnitude (value) over a long time-averaging period, whose average arrival time between events of such magnitude is T-years.\n",
    "\n",
    "This definition is not very useful because it is often **misinterpreted** as an event of such magnitude occurring ON THE AVERAGE every T years. The operational definition (one that makes more sense) is that a T-year event is an event magnitude whose probability of occurrence in a single sampling interval is $\\frac{1}{T}$ (FEMA sometimes calls this the ($\\frac{1}{T}$) chance event, and this is the correct way to state the probability). The concept can be extended to other sampling intervals, but almost never is in the regulatory world.\n",
    "\n",
    "The concept assumes that the extreme values observed in sequential events are independent (serial correlation is nearly zero). Obviously if the sampling interval is short (daily) we expect strong serial correlation and the T-day event is an absurd statement. Typically we also assume that the process is stationary over the number of sampling intervals of record. This assumption is usually not realistic in a philosophical sense (it implies nothing changes with time), but in practice it is not bad because hydrologic processes are natural integrators and tend to smooth out\n",
    "minor changes. Over time, or where dramatic changes occur, we do expect changes in the statistics, and these can be detected by various hypothesis tests on censored data. Also, most textbooks, underemphasize the causal relationship between rainfall and runoff. A lot of the frequency methods are developed to explain behavior of extreme flows and implicitly assume that the extreme flow is caused by the extreme precipitation event. There is often little evidence (except in friggin' hurricanes) of such cause because precipitation is a distributed (spatially and temporally) variable as compared to discharge at a single location on a watershed."
   ]
  },
  {
   "cell_type": "markdown",
   "metadata": {},
   "source": [
    "**Notation**<br>\n",
    "Typically something like:\n",
    "$P[ x > X ] = y$\n",
    "\n",
    "Most probability notations are similar to the above statement. We read them as “The probability that the random variable $x$ will assume a value greater than $X$ is equal to y”\n",
    "\n",
    "The part of the expression “ x > X ” is the “event” so when you read probability texts they talk about universes and events but use above notation. It can look confusing at first, but with some familiarity you get used to the notation."
   ]
  },
  {
   "cell_type": "markdown",
   "metadata": {},
   "source": [
    "**Risk/Loss**<br>\n",
    "The probability in a single sampling interval is useful in its own sense, but we are often interested in the probability of occurrence (failure?) over many sampling periods. If the individual sampling interval events are IID (independent, identically distributed) then we satisfy the requirements of a Bernoulli process.\n",
    "\n",
    "**Bernoulli process**<br>\n",
    "As a simple example, assume the probability that we will observe a cumulative daily rainfall depth equal to or greater than that of TS Allison is 0.10 (Ten percent).\n",
    "\n",
    "What is the chance we would observe one or more TS Allison’s in a three-year sequence?\n",
    "\n",
    "For such a small problem we can enumerate all possible outcomes.\n",
    "There are eight configurations we need to consider:\n",
    "\n",
    "\n",
    "||Year1| Year2| Year3| Probability|\n",
    "|---|---|---|---|---|\n",
    "|1| No TSA| No TSA| No TSA| (.9)(.9)(.9)=0.729|\n",
    "|2| No TSA| No TSA| TSA |(.9)(.9)(.1)=0.081|\n",
    "|3| No TSA| TSA |No TSA |(.9)(.1)(.9)=0.081|\n",
    "|4| TSA| No TSA |No TSA |(.1)(.9)(.9)=0.081|\n",
    "|5| No TSA| TSA |TSA |(.9)(.1)(.1)=0.009|\n",
    "|6| TSA |TSA |No TSA |(.1)(.1)(.9)=0.009|\n",
    "|7| TSA |No TSA |TSA |(.1)(.9)(.1)=0.009|\n",
    "|8| TSA |TSA |TSA |(.1)(.1)(.1)=0.001|\n",
    "\n",
    "So if we are concerned with one storm in the next three years the probability of that outcome is 0.243 (outcomes 2,3,4; probabilities of mutually exclusive events add).\n",
    "\n",
    "The probability of three “good” years is 0.729. The probability of the “good” outcomes decreases as the sampling intervals are increased. So over the next 10 years, the chance of NO STORM is $0.9^{10} = 0.348$.\n",
    "Over the next 20 years, the chance of NO STORM is $0.9^{20} = 0.121$. Over the next 50 years, the chance of NO STORM is $0.9^{50} = 0.005$ (almost assured of a storm in the next 50 years). To pick the chances of $k$ storms in $n$ sampling intervals we use the binomial distribution.<br>\n",
    "\n",
    "$P[k-\\text{events},n-\\text{samples},p_T]=\\frac{n!}{(n-k)!k!}p^k_T(1-p_T)^{n-k}$\n",
    "\n",
    "This distribution enumerates all outcomes assuming unordered sampling without replacement.\n",
    "\n",
    "There are several other common kinds of counting:\n",
    "1. ordered with replacement (order matters), samples are replaced\n",
    "2. unordered with replacement\n",
    "3. ordered without replacement\n",
    "\n",
    "Once we have probabilities we can evaluate risk. Insurance companies use these principles to determine your premiums.\n"
   ]
  },
  {
   "cell_type": "markdown",
   "metadata": {},
   "source": [
    "1. [Probability Estimation Modeling - I](http://54.243.252.9/ce-3354-webroot/3-Readings/ProbabilityEstimationModeling/cive6361_week_006_A.pdf)\n",
    "2. [Probability Estimation Modeling - II](http://54.243.252.9/ce-3354-webroot/3-Readings/ProbabilityEstimationModeling/cive6361_week_006_B.pdf)\n",
    "3. [Design Rainfall](http://54.243.252.9/ce-3354-webroot/3-Readings/DesignRainfallEssay/DesignRainfall.pdf)\n",
    "6. [DDF-Texas](http://54.243.252.9/ce-3354-webroot/3-Readings/USGS-Texas-DDF-Theory/wri98-4044.pdf) \n",
    "7. [Texas DDF Atlas](http://54.243.252.9/ce-3354-webroot/3-Readings/USGS-Texas-DDF-Atlas/sir2004-5041.pdf)\n",
    "8. [Texas DDF Atlas on-line](http://54.243.252.9/toolbox/hydrology/TexasDDFAtlas/TexasDDFAtlas.html)\n",
    "9. [NOAA PFDS](https://hdsc.nws.noaa.gov/hdsc/pfds/)"
   ]
  },
  {
   "cell_type": "markdown",
   "metadata": {},
   "source": []
  },
  {
   "cell_type": "markdown",
   "metadata": {},
   "source": [
    "# Design Storms\n",
    "\n",
    "A design storm is a theoretical or hypothetical weather event used by engineers, urban planners, and hydrologists as a standard to simulate and predict the potential impact of extreme weather conditions on a particular area. It is employed in the design and planning of various structures and systems to ensure they can withstand or manage the expected stresses caused by intense rainfall or other weather-related factors.\n",
    "\n",
    "The characteristics of a design storm typically include:\n",
    "\n",
    "- Intensity: The rate of rainfall or snowfall during the storm, often measured in inches per hour or millimeters per hour.\n",
    "- Duration: The period over which the intense rainfall or weather event persists, often measured in hours.\n",
    "- Frequency: Often associated with a particular return period (e.g., 10-year storm, 50-year storm, 100-year storm), representing the average time interval between occurrences of storms of similar magnitude.\n",
    "\n",
    "For instance, a 100-year design storm doesn't mean it occurs once every century; rather, it indicates that there's a 1% chance of this intensity of storm happening in any given year.\n",
    "\n",
    "Design storms are used in various engineering and urban planning scenarios, such as:\n",
    "\n",
    "- Hydraulic Design: Designing stormwater drainage systems, sewers, culverts, and other structures to handle anticipated water flow during extreme weather events.\n",
    "- Floodplain Management: Assessing the potential impact of flooding and creating regulations for construction in flood-prone areas.\n",
    "- Infrastructure Design: Designing bridges, dams, and other structures to withstand the forces exerted by extreme weather conditions.\n",
    "\n",
    "These storms are not exact events that have occurred in the past; rather, they're created based on statistical analyses of historical weather data to provide a standard for planning and design purposes. They assist in creating structures and systems that can manage the potential stress of extreme weather events, ensuring safety and functionality within the built environment.\n",
    "\n",
    "Design storms are statistical models of such temporal behavior and are used in hydrologic models when hydrographs need to be generated"
   ]
  },
  {
   "cell_type": "markdown",
   "metadata": {},
   "source": [
    "## Rainfall Distributions\n",
    "\n",
    "- Rainfall distributions represent temporal patterns of a storm.\n",
    "- A rainfall distribution is also called a hyetograph.\n",
    "- Rainfall distributions are used when we need to estimate an entire hydrograph."
   ]
  },
  {
   "cell_type": "markdown",
   "metadata": {},
   "source": [
    ":::{admonition} Discrete Data Analysis\n",
    "\n",
    "The Figure below is a representation of some continuous process.  To extract values by measurements only occurs at discrete points in time. These samples are reconstructed in a variety of ways to restore the original representation.\n",
    "\n",
    "<figure align=\"center\">\n",
    "<!--<img src=\"./data_repr.png\" width=\"400\" > -->\n",
    "<img src=\"http://54.243.252.9/ce-3354-webroot/ce3354book/lessons/lesson04/data_repr.png\" width=\"400\"> <figcaption>Figure XX. Data representations </figcaption>\n",
    "</figure>\n",
    "\n",
    "Real data are always some kind of discrete sample\n",
    "\n",
    "- The “pulse” type is typical – and is called incremental data.\n",
    "- For instance, incremental rainfall would be the catch over some time interval ($\\Delta t$ in the figure)\n",
    "- An alternative way to represent the data is with a cumulative representation (which is the running sum of the incremental data)\n",
    "\n",
    "Figure XX below depicts the relationship between incremental and cumulative representations. Each “block” represents the amount of rainfall for the time interval\n",
    "- The collection of blocks is called “incremental” rainfall (red)\n",
    "- The running sum of the blocks is the cumulative distribution (blue)\n",
    "\n",
    "A particular blocck is indicated with a height of about one, and time duration also one.  If for instance the block represents a depth the implication is that after one hour (from time 4 to 5 in the drawing) the depth added to some location is one unit. \n",
    "\n",
    "<figure align=\"center\">\n",
    "<!--<img src=\"./incr-cum-repr.png\" width=\"400\" > -->\n",
    "<img src=\"http://54.243.252.9/ce-3354-webroot/ce3354book/lessons/lesson04/incr-cum-repr.png\" width=\"400\"> <figcaption>Figure XX. Data representations </figcaption>\n",
    "</figure>\n",
    "\n",
    "If these are watershed inches, then the drawing sugests that from hour zero to one, zero inches of precipitation occur, from hour one to two, about 1/4 inch; from hour 2 to 3, about 0.4 inch; from hour 3 to 4, about 0.7 inch; and hour 4 to 5; 1 inch; and so on.  If we tabulated the information we would have\n",
    "\n",
    "|Time| Incremental Depth (Red)| Accumulated Depth (Blue)|\n",
    "|---:|---:|---:|\n",
    "|0|0.00|0.00|\n",
    "|1|0.25|0.00|\n",
    "|2|0.40|0.25|\n",
    "|3|0.70|0.65|\n",
    "|4|1.00|1.35|\n",
    "|5|0.50|2.35|\n",
    "\n",
    "Accumulating (running sum) the incremental is called “aggregation” (or just plain numerical integration); Differencing the cumulative is called “disaggregation.” For practical application its often handy to zero pad the leading and trailing edges so don’t have to worry too about forward/backward differencing issues.  \n",
    "\n",
    "**Computational Thinking (ENGR-1330) - Accumulation**\n",
    "\n",
    "Consider the need to accumulate data such as:\n",
    "\n",
    "|Time (hours)| Incremental Depth (inches)| Accumulated Depth (inches)|\n",
    "|---:|---:|---:|\n",
    "|0|0.121||\n",
    "|1|0.121||\n",
    "|2|0.132||\n",
    "|3|0.154||\n",
    "|4|0.165||\n",
    "|5|0.187||\n",
    "|6|0.198||\n",
    "|7|0.242||\n",
    "|8|0.297||\n",
    "|9|0.374||\n",
    "|10|0.594||\n",
    "|11|4.708||\n",
    "|12|1.199||\n",
    "|13|0.528||\n",
    "|14|0.374||\n",
    "|15|0.286||\n",
    "|16|0.253||\n",
    "|17|0.209||\n",
    "|18|0.176||\n",
    "|19|0.154||\n",
    "|20|0.132||\n",
    "|21|0.132||\n",
    "|22|0.132||\n",
    "|23|0.132||\n",
    "|24|0.000||\n",
    "\n",
    "Our goal is to complete the last column, in this case its relatively straight forward because the time spacing is uniform.  The approach is to perform numerical integration using rectangular panels looking backward in time.\n",
    "\n",
    "$$acc_{i}=inc_{i-1}+acc_{i-1}$$\n",
    "\n",
    ":::"
   ]
  },
  {
   "cell_type": "code",
   "execution_count": 1,
   "metadata": {},
   "outputs": [
    {
     "data": {
      "image/png": "[encoded data removed]",
      "text/plain": [
       "<Figure size 720x360 with 1 Axes>"
      ]
     },
     "metadata": {
      "needs_background": "light"
     },
     "output_type": "display_data"
    }
   ],
   "source": [
    "\n",
    "time=[0,1,2,3,4,5,6,7,8,9,10,11,12,13,14,15,16,17,18,19,20,21,22,23,24]\n",
    "increment=[0.121,0.121,0.132,0.154,0.165,0.187,0.198,0.242,0.297,0.374,0.594,4.708,1.199,0.528,0.374,0.286,0.253,0.209,0.176,0.154,0.132,0.132,0.132,0.132,0]\n",
    "accumulate=[0 for i in range(len(time))]\n",
    "\n",
    "for i in range(1,len(time)):\n",
    "    accumulate[i] = accumulate[i-1]+increment[i-1]\n",
    "\n",
    "\n",
    "import matplotlib.pyplot as plt # the python plotting library\n",
    "plottitle ='Precipitation for Somewhere USA ' \n",
    "mydata = plt.figure(figsize = (10,5)) # build a square drawing canvass from figure class\n",
    "plt.plot(time, increment, c='red',drawstyle='steps') # step plot\n",
    "plt.plot(time, accumulate, c='blue',drawstyle='steps') # step plot\n",
    "plt.xlabel('Time (hours)')\n",
    "plt.ylabel('Depth (inches)')\n",
    "plt.legend(['Incremental Depth','Accumulated Depth'])\n",
    "plt.title(plottitle)\n",
    "plt.show()\n",
    "\n"
   ]
  },
  {
   "cell_type": "markdown",
   "metadata": {},
   "source": [
    "Distributions are created from historical storms and analyzed to generate statistical models of rainfall – these models are called design storms. Design storm distributions are typically represented as dimensionless hyetographs\n",
    "\n",
    "Some examples include:\n",
    "\n",
    "- NRCS Type Storms (24 hour, 6 hour) \n",
    "- Empirical Texas Hyetographs (TxHYETO-2015)\n"
   ]
  },
  {
   "cell_type": "markdown",
   "metadata": {},
   "source": [
    "## NRCS (SCS) Rainfall Type Curves\n",
    "\n",
    "SCS(1973) analyzed DDF curves to develop dimensionless rainfall temporal patterns called type curves for four different regions in the US. SCS type curves are in the form of percentage mass (cumulative) curves based on 24-hr rainfall of the desired frequency. Intended for use with the SCS Curve Number runoff generation model!\n",
    "\n",
    "Location selects the type curve\n",
    "\n",
    "![](scsLocation.png)\n",
    "\n",
    "The 24-hour precipitation depth of desired frequency is specified (NOAA Atlas 14), then the SCS type curve is rescaled (multiplied by the known number) to get the time distribution. \n",
    "\n",
    "![](TCforRescale.png)\n",
    "\n",
    "A tabular representation is\n",
    "\n",
    "![](TCtabular.png)\n",
    "\n",
    "A simple script to dimensionalize is listed below (along with the plotting script)"
   ]
  },
  {
   "cell_type": "code",
   "execution_count": 21,
   "metadata": {},
   "outputs": [
    {
     "data": {
      "image/png": "[encoded data removed]",
      "text/plain": [
       "<Figure size 720x360 with 1 Axes>"
      ]
     },
     "metadata": {
      "needs_background": "light"
     },
     "output_type": "display_data"
    }
   ],
   "source": [
    "# SCS Type Curves\n",
    "\n",
    "hour = [0,2,4,6,7,8,8.5,9,9.5,9.75,10,10.5,11,11.5,11.75,12,12.5,13.0,13.6,14,16,20,24]\n",
    "type1 = [0,0.035,0.076,0.125,0.156,0.194,0.219,0.254,0.303,0.362,0.515,0.583,0.624,0.654,0.669,0.682,0.706,0.727,0.748,0.767,0.83,0.926,1]\n",
    "type1A = [0,0.05,0.116,0.206,0.268,0.425,0.48,0.52,0.55,0.564,0.577,0.601,0.624,0.645,0.655,0.664,0.683,0.701,0.719,0.736,0.8,0.906,1]\n",
    "type2 = [0,0.022,0.048,0.08,0.098,0.12,0.133,0.147,0.163,0.172,0.181,0.204,0.235,0.283,0.357,0.663,0.735,0.772,0.799,0.82,0.88,0.952,1]\n",
    "type3 = [0,0.02,0.043,0.072,0.089,0.115,0.13,0.148,0.167,0.178,0.189,0.216,0.25,0.298,0.339,0.5,0.702,0.751,0.785,0.811,0.886,0.957,1]\n",
    "\n",
    "t24  =[]\n",
    "for i in range(len(hour)):\n",
    "    t24.append(hour[i]/24.0)\n",
    "\n",
    "# dimensionalize\n",
    "\n",
    "Ptotal = 10.0\n",
    "T1D =[0 for i in range(len(hour))]\n",
    "T1AD =[0 for i in range(len(hour))]\n",
    "T2D =[0 for i in range(len(hour))]\n",
    "T3D =[0 for i in range(len(hour))]\n",
    "for i in range(len(hour)):\n",
    "    T1D[i]=Ptotal*type1[i]\n",
    "    T1AD[i]=Ptotal*type1A[i]\n",
    "    T2D[i]=Ptotal*type2[i]\n",
    "    T3D[i]=Ptotal*type3[i]\n",
    "#plot\n",
    "\n",
    "import matplotlib.pyplot as plt # the python plotting library\n",
    "plottitle ='SCS Rainfall Type Curves for Total Depth =' + str(Ptotal) +' inches'\n",
    "mydata = plt.figure(figsize = (10,5)) # build a square drawing canvass from figure class\n",
    "plt.plot(hour, T1D, c='blue') # step plot\n",
    "plt.plot(hour, T1AD, c='cyan') # step plot\n",
    "plt.plot(hour, T2D, c='orange') # step plot\n",
    "plt.plot(hour, T3D, c='red') # step plot\n",
    "#plt.plot(time, accumulate, c='blue',drawstyle='steps') # step plot\n",
    "plt.xlabel('Time (hours)')\n",
    "plt.ylabel('Depth (inches)')\n",
    "plt.legend(['Type 1','Type 1A','Type 2','Type 3'])\n",
    "plt.title(plottitle)\n",
    "plt.show()\n"
   ]
  },
  {
   "cell_type": "markdown",
   "metadata": {},
   "source": [
    "A variant for 6-hour durations is\n",
    "\n",
    "![](SCS6hr.png)\n",
    "\n",
    "Using the type curves is straightforward\n",
    "\n",
    "1. Use NOAA Atlas 14, TP-40, or other defendable source to set total depth, P for the 24 hour storm (or 6 hour storm)\n",
    "2. Pick appropriate SCS type curve (location).\n",
    "3. Multiply (rescale) the type curve with P to get the design mass curve.\n",
    "\n",
    "If you need incremental values, differencing the rescaled mass curve can be used to develop the design hyetograph."
   ]
  },
  {
   "cell_type": "markdown",
   "metadata": {},
   "source": [
    "## Texas Empirical Hyetograph-Based Design Storms\n",
    "\n",
    "Alternative to SCS Type Curves for use in Texas are the [Texas Empirical Hyetographs](http://54.243.252.9/ce-3354-webroot/3-Readings/EmpiricalHyetographs/sir2004-5075.pdf)\n",
    "- Based on Texas data.\n",
    "- Reflects “front loading” observed in many real storms.\n",
    "- Rescales both time and depth.\n",
    "\n",
    "![](texashyetograph.png)\n",
    "\n",
    "The authors suggest use of the 50th percentile curve (median storm).  \n",
    "\n",
    "::{note}\n",
    "The 90th percentile is appropriate for high consequence of failure targets (hospitals, sewage treatment plants, water treatment plants, nuclear power plants, thermal power plants, airports,...)\n",
    ":::\n",
    "\n",
    "- Multiply the time axis by the storm duration.\n",
    "- Multiply the depth axis by the storm depth.\n",
    "- Result is a design storm for given duration and AEP."
   ]
  },
  {
   "cell_type": "markdown",
   "metadata": {},
   "source": [
    "## Historical Observations\n",
    "\n",
    "The design storms are created from statistical models of observations. \n",
    "\n",
    "Incorporating observed precipitation data offers a faithful representation of actual weather patterns and variability, capturing nuances that statistical design storm models may overlook. By using observed data, engineers can better assess real-world risks, enhancing the reliability and precision of infrastructure designs and flood mitigation strategies. Additionally, observed precipitation data provide valuable insights into localized climatic trends and extreme weather events, enabling proactive adaptation measures to address changing environmental conditions effectively.\n",
    "\n",
    "At times, there might be motivation to study the source observations - so how to obtain data is important.  There are likely multiple sources of data - here we will examine just a few.\n",
    "\n",
    "### NCDC\n",
    "\n",
    "This is the easiest, and may suffice in many situations.  The National Climatic Data Center maintains historical records of climate related data - in some locations over a century of data exist.  Using our study area, and current online tools one can find gages near the study site. \n",
    "\n",
    "[https://www.ncei.noaa.gov/maps/daily/](https://www.ncei.noaa.gov/maps/daily/) will navigate to the NCDC server where daily data are available.  The landing page will look something like:\n",
    "\n",
    "![](ncdc-landing-page.png)"
   ]
  },
  {
   "cell_type": "markdown",
   "metadata": {},
   "source": [
    "I have already located our study site - so I'll just zoom in.  In the figure our area is the small yeller rectangles in West Texas.  Zoomed into a useful scale:\n",
    "\n",
    "![](ncdc-zoom-area.png)\n"
   ]
  },
  {
   "cell_type": "markdown",
   "metadata": {},
   "source": [
    "We will select gages by drawing a polygon around them - the one gage close to the study site would be awesome, but it has a really short record, so we will get nearby gages and use some algorithm to map the records to the study site.  To draw the polygon, use the tool on the layers panel, then choose polygon and draw the outline.\n",
    "\n",
    "![](ncdc-polygon-area.png)"
   ]
  },
  {
   "cell_type": "markdown",
   "metadata": {},
   "source": [
    "Now we can examine the gages - notice the Caprock Canyon SP gage only has a 3 year record, so alone kind of useless. But the other two extend the historical range considerably.  Next we can add these to the cart for delivery.  \n",
    "\n",
    ":::{note}\n",
    "The delivery requires added information which will be demonstrated in class, plus we will grab some additional gages for trying to estimate depth over our study area using some averaging techniques. \n",
    "- [Missing Rainfall Data Replacement Techniques](http://54.243.252.9/ce-5361-webroot/3-Readings/MissingRainfallData/MissingRainfallData.pdf)\n",
    "- [Normal Ratio Method](http://54.243.252.9/ce-5361-webroot/3-Readings/NormalRatioMethod/mwr-080-08-0129.pdf)\n",
    ":::"
   ]
  },
  {
   "cell_type": "code",
   "execution_count": null,
   "metadata": {},
   "outputs": [],
   "source": []
  }
 ],
 "metadata": {
  "kernelspec": {
   "display_name": "Python 3",
   "language": "python",
   "name": "python3"
  },
  "language_info": {
   "codemirror_mode": {
    "name": "ipython",
    "version": 3
   },
   "file_extension": ".py",
   "mimetype": "text/x-python",
   "name": "python",
   "nbconvert_exporter": "python",
   "pygments_lexer": "ipython3",
   "version": "3.8.10"
  }
 },
 "nbformat": 4,
 "nbformat_minor": 4
}
