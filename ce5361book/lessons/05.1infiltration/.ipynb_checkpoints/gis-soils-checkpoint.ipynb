{
 "cells": [
  {
   "cell_type": "markdown",
   "metadata": {},
   "source": [
    "# GIS Soils Properties\n",
    "\n",
    "From the discussion regarding infiltration, it should be apparent that soil properties are important.  There \n"
   ]
  },
  {
   "cell_type": "markdown",
   "metadata": {},
   "source": [
    "## Paper-Based Maps\n",
    "\n",
    "Well just kidding, the old soils maps (of my generation) are archived at [USDA Soil Surveys](https://archive.org/details/usda-soil-surveys)\n",
    "\n",
    "Our study watershed is in Briscoe Co. Texas\n",
    "\n",
    "Here is the soils map [Briscoe Co. Tx Soils Maps (with text)](http://54.243.252.9/ce-5361-webroot/ce5361book/lessons/05.1infiltration/briscoeTX1977.pdf)\n",
    "\n",
    "Our study location is Map sheet 51 in the document.\n",
    "\n",
    "The main mapped soils are QBG,BeB, and BeC.  In the same document are tables that reference these codes back to soil descriptions.\n",
    "\n",
    "From the tables we obtain various estimates as:\n",
    "\n",
    "|Soil|$K_{sat}$ (in/hr)|$n$ (from AWC value)|\n",
    "|---|---|---|\n",
    "|QBG|2.0-6.0|0.10-0.20|\n",
    "|BeB|0.6-2.0|0.14-0.17|\n",
    "|BeC|0.6-2.0|0.14-0.17|\n",
    "\n",
    "As you will see in the in-class demonstration; the process to find these values is a bit slow - one can imagine the difficulties over larger areas, however it does provide meaningful values to parameterize one of the various infiltration models"
   ]
  },
  {
   "cell_type": "code",
   "execution_count": null,
   "metadata": {},
   "outputs": [],
   "source": []
  }
 ],
 "metadata": {
  "kernelspec": {
   "display_name": "Python 3",
   "language": "python",
   "name": "python3"
  },
  "language_info": {
   "codemirror_mode": {
    "name": "ipython",
    "version": 3
   },
   "file_extension": ".py",
   "mimetype": "text/x-python",
   "name": "python",
   "nbconvert_exporter": "python",
   "pygments_lexer": "ipython3",
   "version": "3.8.10"
  }
 },
 "nbformat": 4,
 "nbformat_minor": 4
}
