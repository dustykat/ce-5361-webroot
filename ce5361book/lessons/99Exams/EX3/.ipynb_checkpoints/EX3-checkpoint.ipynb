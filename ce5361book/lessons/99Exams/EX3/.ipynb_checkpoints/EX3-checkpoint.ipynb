{
 "cells": [
  {
   "cell_type": "markdown",
   "metadata": {},
   "source": [
    "# <font color=darkblue> Exam 3 </font>\n",
    "\n",
    "**LAST NAME, FIRST NAME**\n",
    "\n",
    "**R00000000**\n",
    "\n",
    "___\n",
    "\n",
    "## Purpose : \n",
    "Demonstrate ability to apply hydrologic and problem solving principles to simulate watershed response using HEC-HMS.\n"
   ]
  },
  {
   "cell_type": "markdown",
   "metadata": {},
   "source": [
    "---\n",
    "\n",
    "### Problem 1 - HEC-HMS Single Sub-Basin Simulation\n",
    "\n",
    "Build a HEC HMS rainfall-runoff model for a single sub-basin watershed with the properties below. \n",
    "\n",
    "|Item|Value|Units|\n",
    "|:---|---:|---:|\n",
    "|Drainage Area |0.218 |Square Miles|\n",
    "|Composite CN |67|Dimensionless| \n",
    "|Basin Lag |17.4|Minutes|\n",
    "|Rainfall Rate (Hour 0 – Hour 24)| 0.375|Inches per hour|\n",
    "|Rainfall Rate (Hour 25 – Hour 48)| 0.0|Inches per hour|\n",
    "\n",
    "\n",
    "Figure 1 below is a HEC-HMS model configuration that should give you an idea of what to build in HEC-HMS. \n",
    "\n",
    "![](figure1.png)\n",
    "\n",
    "The HEC-HMS model should simulate a 48 hour period of interest. Use the output of your model to complete the table below:\n",
    "\n",
    "|Item|Value|Units|\n",
    "|:---|---:|---:|\n",
    "|Peak Discharge Rate |???|Cubic Feet per Second|\n",
    "|Time of Peak Discharge|???|Elapsed Hours or Simulation Clock Time from HMS| \n",
    "|Total Runoff|???|Watershed Inches|\n",
    "|Total Precipitation Depth|???|Inches|\n",
    "|Excess Precipitation Depth|???|Inches|"
   ]
  },
  {
   "cell_type": "code",
   "execution_count": 2,
   "metadata": {},
   "outputs": [],
   "source": [
    "# screen capture of your HEC-HMS solution here"
   ]
  },
  {
   "cell_type": "markdown",
   "metadata": {},
   "source": [
    "Sketch the output hydrograph from HEC-HMS for your subbasin below\n",
    "\n",
    "![](figure2.png)\n",
    "\n",
    "---\n",
    "\n",
    "### Problem 2 HEC-HMS Single Sub-Basin to a Reservoir\n",
    "\n",
    "Add a detention basin (reservoir) at the outlet of the small watershed that has the properties listed below.\n",
    "\n",
    "|Storage (Acre-Feet)| Discharge (cfs)|\n",
    "|---:|---:|\n",
    "|0.0| 0.00| \n",
    "|0.5| 1.50|\n",
    "|1.0| 2.25|\n",
    "|1.5| 2.75|\n",
    "|2.0| 3.26| \n",
    "|2.5| 7.00| \n",
    "|3.0| 18.00| \n",
    "|3.5| 30.00| \n",
    "|4.0| 90.00|\n",
    "\n",
    "The HEC-HMS configuration should look similar to Figure 3 below:\n",
    "\n",
    "![](figure3.png)\n",
    " "
   ]
  },
  {
   "cell_type": "code",
   "execution_count": 1,
   "metadata": {},
   "outputs": [],
   "source": [
    "# screen capture of your HEC-HMS solution here"
   ]
  },
  {
   "cell_type": "markdown",
   "metadata": {},
   "source": [
    "Sketch the output hydrograph from HEC-HMS from the detention pond (outflow from the pond after the sub-basin hydrograph is routed through the detention pond).\n",
    "\n",
    "![](figure4.png)\n",
    "\n"
   ]
  }
 ],
 "metadata": {
  "kernelspec": {
   "display_name": "Python 3",
   "language": "python",
   "name": "python3"
  },
  "language_info": {
   "codemirror_mode": {
    "name": "ipython",
    "version": 3
   },
   "file_extension": ".py",
   "mimetype": "text/x-python",
   "name": "python",
   "nbconvert_exporter": "python",
   "pygments_lexer": "ipython3",
   "version": "3.8.10"
  }
 },
 "nbformat": 4,
 "nbformat_minor": 4
}
