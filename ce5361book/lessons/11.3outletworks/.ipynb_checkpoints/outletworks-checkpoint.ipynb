{
 "cells": [
  {
   "cell_type": "markdown",
   "metadata": {},
   "source": [
    "# 11.3 Outlet Control(s)\n",
    "\n",
    "Go through presentation below:\n",
    "\n",
    "1. [Cleveland, T. G. (2017) *Surface Water Hydrology Notes (Reservoir-Outlet Works) to accompany CE-3354*, Department of Civil, Environmental, and Construction Engineering, Whitacre College of Engineering.](http://54.243.252.9/ce-3354-webroot/1-Lectures-2017/Lecture20.pdf)\n",
    "\n",
    "## References\n",
    "\n",
    "cite pages of textbook\n",
    "\n",
    "links to other readings \n",
    "\n",
    "## Spreadsheets\n",
    "\n",
    "1. [Circular Channel-Mannings](http://54.243.252.9/ce-3354-webroot/ce3354book/lessons/lesson14/CircularChannelMannings-US.xls)\n",
    "2. [Elevation-Discharge Table](http://54.243.252.9/ce-3354-webroot/ce3354book/lessons/lesson14/Elevation-Discharge-Table.xlsx)\n",
    "3. [OgeeWhizSpillwayEquation](http://54.243.252.9/ce-3354-webroot/ce3354book/lessons/lesson14/OgeeSpillwayEquation.xlsx)\n",
    "4. [OrificeDischargeCalculatorUSCustomary](http://54.243.252.9/ce-3354-webroot/ce3354book/lessons/lesson14/OrificeDichargeCalculatorUSCustomary.xlsx)\n"
   ]
  },
  {
   "cell_type": "markdown",
   "metadata": {},
   "source": []
  },
  {
   "cell_type": "markdown",
   "metadata": {},
   "source": []
  }
 ],
 "metadata": {
  "kernelspec": {
   "display_name": "Python 3",
   "language": "python",
   "name": "python3"
  },
  "language_info": {
   "codemirror_mode": {
    "name": "ipython",
    "version": 3
   },
   "file_extension": ".py",
   "mimetype": "text/x-python",
   "name": "python",
   "nbconvert_exporter": "python",
   "pygments_lexer": "ipython3",
   "version": "3.8.10"
  }
 },
 "nbformat": 4,
 "nbformat_minor": 4
}
