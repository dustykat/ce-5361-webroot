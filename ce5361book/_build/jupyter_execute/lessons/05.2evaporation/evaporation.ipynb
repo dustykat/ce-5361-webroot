{
 "cells": [
  {
   "cell_type": "markdown",
   "metadata": {},
   "source": [
    "# 5.2 Evaporatranspiration\n",
    "\n",
    "Review of evaporation processes and common models in \n",
    "\n",
    "[Cleveland, T. G. (2020) *Surface Water Hydrology Notes (Evaporation) to accompany CE-3354*, Department of Civil, Environmental, and Construction Engineering, Whitacre College of Engineering.](http://54.243.252.9/ce-3354-webroot/1-Lectures-2020/lesson06/Lesson06.pdf)\n",
    "\n",
    "## HEC-HMS ET Models\n",
    "\n",
    "A fully provisioned Windows Implementation of HEC-HMS is located at:\n",
    "\n",
    "- server_name: **kittyinthewindow.ddns.net**\n",
    "- user_name: **texas-skew**\n",
    "- passwd: **peakfq73$hare**\n",
    "\n",
    "Users must access using Remote Desktop Protocol (Built into Windows, Apple Store has a free Mac application).\n",
    "\n",
    "Use the Hardin Creek Project to explore evaporation models.\n",
    "\n",
    "Evapotranspiration is the second of the three components of a **meteorologic** model.\n",
    "It is the combination of evaporation from the ground surface and transpiration by\n",
    "vegetation. \n",
    "> If a continuous simulation loss rate method is used and no\n",
    "evapotranspiration is specified in the meteorologic model, then zero\n",
    "evapotranspiration is used in the subbasins. However, evapotranspiration is often\n",
    "responsible for returning 50 or even 60\\% of precipitation back to the atmosphere. In\n",
    "general there should be a selected evapotranspiration method for continuous\n",
    "simulation. In all cases, the meteorologic model is computing the potential\n",
    "evapotranspiration and subbasins will calculate actual evapotranspiration based on\n",
    "soil water limitations.\n",
    "\n"
   ]
  },
  {
   "cell_type": "markdown",
   "metadata": {},
   "source": [
    "Changes to Hardin Creek for ET exploration.\n",
    "\n",
    "- Change loss method to deficit-constant\n",
    "- Choose ET method in Meterological Model Manager\n",
    "\n",
    "Demonstrate effect"
   ]
  },
  {
   "cell_type": "markdown",
   "metadata": {},
   "source": [
    "## References\n",
    "\n",
    "1. Gupta pp 65-92.\n",
    "2. [Cleveland, T. G. (2020) *Surface Water Hydrology Notes (Evaporation) to accompany CE-3354*, Department of Civil, Environmental, and Construction Engineering, Whitacre College of Engineering.](http://54.243.252.9/ce-3354-webroot/1-Lectures-2020/lesson06/Lesson06.pdf)\n",
    "3. [Blaney-Criddle Spreadsheet (Excel)](http://54.243.252.9/ce-3354-webroot/1-Lectures-2020/lesson06/BlaneyCriddle.xlsx) Right-Click \"Save As...\"\n",
    "4. [Thornwaithe Spreadsheet (Excel)](http://54.243.252.9/ce-3354-webroot/1-Lectures-2020/lesson06/Thornwaithe.xls) Right-Click \"Save As...\""
   ]
  },
  {
   "cell_type": "code",
   "execution_count": null,
   "metadata": {},
   "outputs": [],
   "source": []
  }
 ],
 "metadata": {
  "kernelspec": {
   "display_name": "Python 3",
   "language": "python",
   "name": "python3"
  },
  "language_info": {
   "codemirror_mode": {
    "name": "ipython",
    "version": 3
   },
   "file_extension": ".py",
   "mimetype": "text/x-python",
   "name": "python",
   "nbconvert_exporter": "python",
   "pygments_lexer": "ipython3",
   "version": "3.8.10"
  }
 },
 "nbformat": 4,
 "nbformat_minor": 4
}