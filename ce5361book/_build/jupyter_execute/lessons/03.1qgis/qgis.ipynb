{
 "cells": [
  {
   "cell_type": "markdown",
   "metadata": {},
   "source": [
    "# 3.1 QGIS \n"
   ]
  },
  {
   "cell_type": "markdown",
   "metadata": {},
   "source": [
    ":::{admonition} Course Website\n",
    "[link to webster](http://54.243.252.9/ce-5361-webroot/)\n",
    ":::\n",
    "\n",
    "Introduction to QGIS for hydrologic modeling."
   ]
  },
  {
   "cell_type": "markdown",
   "metadata": {},
   "source": [
    "<hr>\n",
    "\n",
    "## Readings\n",
    "\n",
    "1. [Brutsaert, W., 2005, Hydrology: An Introduction. Cambridge University Press](https://www.amazon.com/Hydrology-Introduction-Wilfried-Brutsaert/dp/0521824796/ref=sr_1_1?crid=26239UVBUDNRC&keywords=hydrology+an+introduction+brusehart&qid=1697843874&sprefix=hydrology+an+introduction+brusehart%2Caps%2C84&sr=8-1)\n",
    "2. [Chow, V.T., Maidment, D.R., Mays, L.W., 1988, Applied Hydrology.  New York, McGraw-Hill. ](http://54.243.252.9/ce-5361-webroot/3-Readings/CMM1988/Applied%20Hydrology%20VT%20Chow%201988.pdf) \n",
    "1. [Watersheds - McCuen](http://54.243.252.9/ce-3354-webroot/3-Readings/McCuen-Watersheds/McCuen-Watersheds.pdf)\n",
    "2. [How to Delineate a Watershed](http://54.243.252.9/ce-3354-webroot/3-Readings/NewHampshire-Watersheds/Topowatershed.pdf)\n",
    "3. [How To Measure Path](http://54.243.252.9/ce-3354-webroot/3-Readings/HowToMeasurePath/HowToMeasurePath.pdf)\n",
    "6. [Numerical Planimetry](http://54.243.252.9/ce-3354-webroot/3-Readings/NumericalPlanimetry/)\n",
    "4. [How to Interpret Topographic Maps](http://54.243.252.9/ce-3354-webroot/3-Readings/UsingTopographicMaps/Pages%20from%20USAF-Survival-Manual-644.pdf)\n",
    "5. [Cleveland, T. G. (2020) *Surface Water Hydrology Notes (Watersheds) to accompany CE-5361*, Department of Civil, Environmental, and Construction Engineering, Whitacre College of Engineering.](http://54.243.252.9/ce-3354-webroot/1-Lectures-2020/lesson04/Lesson04.pdf)\n",
    "6. [Cleveland, T. G. (2017) *Engineering Hydrology Notes (Hydrologic Data; Watershed Delineation) to accompany CE-3354*, Department of Civil, Environmental, and Construction Engineering, Whitacre College of Engineering.](http://54.243.252.9/ce-3354-webroot/1-Lectures-2017/Lecture03.pdf)\n",
    "7. [Cleveland, T. G. (2017) *Engineering Hydrology Notes (Watershed Metrics) to accompany CE-3354*, Department of Civil, Environmental, and Construction Engineering, Whitacre College of Engineering.](http://54.243.252.9/ce-3354-webroot/1-Lectures-2017/Lecture04.pdf)\n",
    "8. [Florida Delineation Training Watershed (png)](http://54.243.252.9/ce-3354-webroot/1-Lectures-2017/Florida-Training-Watershed.png) Right-Click \"Save As...\"\n",
    "9. [Texas Delineation Training Watershed (png)](http://54.243.252.9/ce-3354-webroot/1-Lectures-2017/Texas-Training-Watershed.png) Right-Click \"Save As...\"\n",
    "\n",
    "<hr>"
   ]
  },
  {
   "cell_type": "markdown",
   "metadata": {},
   "source": [
    "## Videos\n",
    "\n",
    "1. [What is a Watershed? (YouTube)](https://www.youtube.com/watch?v=QOrVotzBNto)\n",
    "2. [What is a Watershed?-Illustrated (YouTube)](https://www.youtube.com/watch?v=w58XwzVcBFM)\n",
    "3. [Why Watersheds Matter (YouTube)](https://www.youtube.com/watch?v=Om-eJBt9WvQ)\n",
    "4. [Watershed Delineation Example (YouTube)](https://www.youtube.com/watch?v=ajF0DsuuY4k)\n",
    "5. [Manual Watershed Delineation (USGS)](https://www.youtube.com/watch?v=RxO2814piio)\n",
    "6. [Watershed Delineation using ArcGIS (YouTube)](https://www.youtube.com/watch?v=v3Ajg6W8Rj8)\n",
    "7. [Watershed Delineation using qGIS (YouTube)](https://www.youtube.com/watch?v=2fvy9xtAHc4)\n",
    "8. [How to Delineate a Watershed in qGIS (YouTube)](https://www.youtube.com/watch?v=CE7zZCkFbg4)\n",
    "9. [Watershed Delineation and Metrics](https://www.youtube.com/watch?v=qzKS8n8RrdE)\n",
    "10. [Measuring Area](https://www.youtube.com/watch?v=pDFystIDxn0)\n",
    "11. [Manual Delineation](https://www.youtube.com/watch?v=cZBKrc6_B-E)"
   ]
  },
  {
   "cell_type": "markdown",
   "metadata": {},
   "source": [
    "## Outline\n",
    "\n",
    "- What is QGIS?\n",
    "- Why use QGIS instead of ESRI products?\n",
    "- Important Watershed Metrics"
   ]
  },
  {
   "cell_type": "markdown",
   "metadata": {},
   "source": [
    "## What is QGIS?\n",
    "\n",
    "QGIS, or Quantum GIS, is an open-source geographic information system (GIS) software that allows users to view, edit, and analyze geospatial data. Here's an overview of its history, recent state, and common uses:\n",
    "\n",
    ">QGIS was first released in 2002 by Gary Sherman as an open-source alternative to proprietary GIS software.\n",
    "Over the years, it has evolved through contributions from a global community of developers, becoming a powerful and user-friendly GIS tool.\n",
    ">\n",
    "> As of January 2022, QGIS was still being actively developed, with regular updates and releases.  The software has a large user community that contributes to its improvement and the development of plugins to extend its functionality.  Features are continually added and enhanced, making it a competitive option in the GIS software landscape.\n",
    "\n",
    "### Typical Uses:\n",
    "\n",
    "- Data Visualization: QGIS allows users to create maps and visualize geospatial data in various formats, such as shapefiles, GeoJSON, and more.\n",
    "\n",
    "- Data Editing: Users can edit and digitize spatial data directly within the software, making it useful for tasks like updating maps or correcting geographical information.\n",
    "\n",
    "- Spatial Analysis: QGIS provides a wide range of tools for spatial analysis, including proximity analysis, overlay analysis, and statistical analysis, aiding in decision-making processes.\n",
    "\n",
    "- Map Design: The software includes tools for designing aesthetically pleasing maps with customizable symbology, labels, and layouts.\n",
    "\n",
    "- Integration: QGIS supports the integration of various data sources, including GPS data, remote sensing data, and data from online services.\n",
    "\n",
    "- Plugins and Extensions: The availability of plugins and extensions allows users to customize and extend the functionality of QGIS based on their specific needs.\n",
    "\n",
    "- Open Source: Being open source, QGIS is free to use, and its source code is accessible to developers, encouraging collaboration and continuous improvement.\n",
    "\n",
    "Learn more at the [official QGIS website](https://qgis.org/en/site/).\n",
    "\n",
    ":::{note} \n",
    "Here are useful QGIC GitHub links:\n",
    "- [The website itself](https://github.com/qgis/QGIS-Website)\n",
    "- [Documentation](https://github.com/qgis/QGIS-Documentation)\n",
    "- [Download(s)](https://github.com/qgis/QGIS)\n",
    "Your best bet is probably to work through the [official QGIS website](https://qgis.org/en/site/).\n",
    ":::"
   ]
  },
  {
   "cell_type": "markdown",
   "metadata": {},
   "source": [
    "## Why QGIS instead of ESRI products? \n",
    "\n",
    "\n",
    "You may have already used the University-ble\\$\\$ed ESRI GIS products in GIST 3300/5300 Geographic Information Systems, or other [GIS-based courses at TTU](https://www.depts.ttu.edu/geosciences/geog/research/gist.php), and wonder why I choose QGIS.  The two main reasons are:\n",
    "1. QGIS is Open Source (I am a cheap).\n",
    "2. It will run in some form without much fuss on a PC, MAC (both intel, and Apple silicon), and in Linux (on intel/amd and arm silicon). \n",
    "\n",
    "If you already have ESRI-based GIS tools use them, no good reason to install a second GIS.\n",
    "\n",
    "\n",
    ":::{note} Several other factors may influence someone to choose QGIS over other similar GIS (Geographic Information System) tools. Here are some reasons why individuals and organizations might prefer QGIS:\n",
    "\n",
    "- Open Source and Free: QGIS is open-source software, meaning it is free to use and distribute. This can be a significant advantage for users or organizations with budget constraints, as it provides powerful GIS capabilities without the need for a substantial financial investment.\n",
    "\n",
    "- Active Community Support: QGIS has a vibrant and active user community. This community contributes to the development of the software, creates plugins, and provides support through forums and documentation. The availability of community support can be valuable for users seeking assistance or looking to extend QGIS's functionality.\n",
    "\n",
    "- Cross-Platform Compatibility: QGIS is designed to run on multiple operating systems, including Windows, macOS, and Linux. This cross-platform compatibility makes it accessible to users with different operating system preferences.\n",
    "\n",
    "- User-Friendly Interface: QGIS is known for its user-friendly interface, making it accessible to both beginners and experienced GIS professionals. The software employs an intuitive layout and design, facilitating ease of use for those new to GIS.\n",
    "\n",
    "- Extensive Functionality: QGIS offers a broad range of tools and features for data visualization, editing, and analysis. Its functionality is comparable to many proprietary GIS tools, and it continues to evolve with regular updates and new releases.\n",
    "\n",
    "- Plugin System: QGIS has a robust plugin system that allows users to enhance and extend the software's capabilities. Users can install plugins to add specific functionalities tailored to their needs, making QGIS adaptable to a wide range of applications.\n",
    "\n",
    "- Interoperability: QGIS supports various data formats and standards, ensuring compatibility with data from different sources. This interoperability makes it easier to integrate QGIS into existing workflows and work with diverse geospatial datasets.\n",
    "\n",
    "- Customization: Users can customize QGIS to suit their specific requirements. This includes customizing symbology, creating tailored layouts, and utilizing plugins to add specialized tools, making QGIS adaptable to a variety of use cases.\n",
    "\n",
    "Ultimately, the choice between GIS tools depends on the specific needs, preferences, and constraints of the user or organization. QGIS's open-source nature, community support, and extensive functionality make it a compelling choice for many GIS users.\n",
    "\n",
    ":::"
   ]
  },
  {
   "cell_type": "markdown",
   "metadata": {},
   "source": [
    "## Installation\n",
    "\n",
    "Windows and Mac, choose the appropriate installer and do what the picture menus show you.\n",
    "\n",
    "### Windows\n",
    "\n",
    "![](windows-install.png)\n",
    "\n",
    "### Macintosh\n",
    "\n",
    "![](mac-install.png)\n",
    "\n",
    "For this course we will assume either a Windows or Mac install, some Linux notes are below but beyond scope.  Naturally we cannot use on-campus machines to demonstrate, hence my laptop!"
   ]
  },
  {
   "cell_type": "markdown",
   "metadata": {},
   "source": [
    ":::{note} **Linux** is more complicated, especially if trying to install on a non-amd chipset.  \n",
    "Here is how I installed onto a Raspberry Pi. First get the correct instructions:![](linux-flavors.png)\n",
    "Then modify the gis.sources file as needed: ![](linux-install.png)\n",
    "\n",
    "**Verify the Install**\n",
    "This is a tricky part; just opening the software is a good start.\n",
    "Here is the process on my computer:\n",
    "- Find the software (my install defaulted it to \"Education\" which is not a bad choice.) ![](find-qgis.png)\n",
    "- Launch and wait for initial interface screen ![](start-qgis.png)\n",
    "\n",
    "**Work through tutorials**\n",
    "Now to see if the install is complete enough work through the [On-Line training manual](https://docs.qgis.org/3.28/en/docs/training_manual/).  If you can get to Module 6 without much fuss; you probably have a working installation. On my machine, a representative map from the example data (served by qgis website) is: ![](qgis-map.png)\n",
    ":::"
   ]
  },
  {
   "cell_type": "markdown",
   "metadata": {},
   "source": [
    "### Getting Data\n",
    "\n",
    "This is a bit tricky if this is first time (like me); there are lots of data available.\n",
    "\n",
    "We mostly will want:\n",
    "\n",
    "1. Base maps (Open Street Maps is a good starting point)\n",
    "2. Elevation models (DEMs) (Several sources. NASA, USGS, TNRIS, similar sources - it takes some online reading to figure out how to access)\n",
    "  - USGS Earth explorer …. https://earthexplorer.usgs.gov/\n",
    "  - Open Topography….https://portal.opentopography.org/raster?opentopoID=OTSRTM.082015.4326.1\n",
    "  - Google earth engine ……. https://earthengine.google.com/platform\n",
    "  - From Drone imagery — AgiSoft Processing.\n",
    "  - You can also generate yours with kml /kmz data collected from Google Earth Pro.\n",
    "3. Level Sets (Contours) - you can make from elevation maps, in some locales they are already done - but are vector features so other than picture making not super useful\n",
    "4. Point Clouds - These come from LIDAR scans and similar sources.  Main trick is to figure out units (usually in MetaData) and figure out coordinates.\n",
    "\n",
    "There are a lot of other things available, but baby steps for now."
   ]
  },
  {
   "cell_type": "markdown",
   "metadata": {},
   "source": [
    "### SRTM"
   ]
  },
  {
   "cell_type": "markdown",
   "metadata": {},
   "source": [
    "### Measuring Length(s) \n",
    "\n",
    "Similar to area, you can count cells along a path and multiply the count by the length of a cell side, or the cell diagonal (depends on how many diagonal moves you need to make) to obtain a length.  Or use software (Acrobat Pro, AutoCAD, Engauge, ArcGIS, QGIS, .... ) to make the measurements."
   ]
  },
  {
   "cell_type": "markdown",
   "metadata": {},
   "source": [
    "### Estimating Slope(s)\n",
    "\n",
    "Slope estimates require two components\n",
    "1. A path with a length ($S$)\n",
    "2. The change in elevation along the path ($\\Delta z$)\n",
    "\n",
    "The dimensionless slope is simply the ratio of the two $\\frac{\\Delta z}{S}$.  Percent slope is the dimensionless slope multiplied by 100.\n",
    "Sometimes slope is expressed in units of $\\frac{ft}{mi}$ or $\\frac{m}{km}$, while meaningful these will have to be converted into dimensionless or \\%-slope for most hydrologic computations."
   ]
  },
  {
   "cell_type": "markdown",
   "metadata": {},
   "source": [
    "### Estimating Soil Properties\n",
    "\n",
    "Subjective when using paper maps, but reasonable values can be inferred from soil maps - either paper-based or electronic [Web Soil Survey](https://websoilsurvey.sc.egov.usda.gov/App/HomePage.htm)\n"
   ]
  },
  {
   "cell_type": "markdown",
   "metadata": {},
   "source": [
    "### Estimating \\%-Impervious\n",
    "\n",
    "This is subjective, but one reasonable approach is using Google Earth\n",
    "1. Find the area of interest\n",
    "2. Select a viewing height (needs to be same for all areas if you are going to have to scroll)\n",
    "3. Put a grid on the screen (physical grid on see‐thru plastic, or use a china marker and draw on the screen)\n",
    "4. Count concrete vs not concrete – relative ratio is a useable estimate of the \\% impervious\n",
    "\n",
    ":::{note}\n",
    "This would be a good task to hand off to a machine learner model.  Take the area of interest, capture an image, have the ML model count pixels that are NOT CONCRETE (brown, green, .....)\n",
    ":::"
   ]
  },
  {
   "cell_type": "raw",
   "metadata": {},
   "source": [
    "## USGS StreamStats\n",
    "\n",
    "In many states one could also use an on-line tool called [StreamStats](https://streamstats.usgs.gov/ss/)\n",
    "\n",
    "For example a culvert on Snake Creek in Oklahoma can be examined and will produce the delineation below\n",
    "\n",
    "\n",
    "\n",
    "In class we will explore this tool a little bit, however it does not have Texas loaded into its database yet,"
   ]
  },
  {
   "cell_type": "markdown",
   "metadata": {},
   "source": [
    "## Self-Study Tasks:\n",
    "\n",
    "- Explain the significance of a delineated watershed in the context of a study area.\n",
    "- Discuss how watershed boundaries could impact hydrological processes and management."
   ]
  },
  {
   "cell_type": "code",
   "execution_count": null,
   "metadata": {},
   "outputs": [],
   "source": []
  }
 ],
 "metadata": {
  "kernelspec": {
   "display_name": "Python 3",
   "language": "python",
   "name": "python3"
  },
  "language_info": {
   "codemirror_mode": {
    "name": "ipython",
    "version": 3
   },
   "file_extension": ".py",
   "mimetype": "text/x-python",
   "name": "python",
   "nbconvert_exporter": "python",
   "pygments_lexer": "ipython3",
   "version": "3.8.10"
  }
 },
 "nbformat": 4,
 "nbformat_minor": 4
}