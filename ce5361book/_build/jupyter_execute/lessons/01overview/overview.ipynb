{
 "cells": [
  {
   "cell_type": "markdown",
   "metadata": {},
   "source": [
    "# 1. Introduction"
   ]
  },
  {
   "cell_type": "markdown",
   "metadata": {},
   "source": [
    ":::{admonition} Course Website\n",
    "[link to webster](http://54.243.252.9/ce-5361-webroot/)\n",
    ":::\n",
    "\n",
    "This section displays the typical layout of the instructor notes.\n",
    "\n",
    ":::{note}\n",
    "The chapters are arranged with a landing page that contains readings, videos, and the outline.  This landing page is followed by chapter specific content. Exercises (if any) are at the end of the notes. \n",
    ":::\n"
   ]
  },
  {
   "cell_type": "markdown",
   "metadata": {},
   "source": [
    "## Readings\n",
    "\n",
    "Hydrology and Hydrologic Systems\n",
    "\n",
    "1. [Chow, V.T., Maidment, D.R., Mays, L.W., 1988, Applied Hydrology:  New York, McGraw-Hill. **pp. 1-12** ](https://3.137.111.182/ce-3354-webbook/3-Readings/CMM1988/Applied%20Hydrology%20VT%20Chow%201988.pdf) \n",
    "\n",
    "2. Brutsaert,  W.  2005.  Hydrology  :   An  Introduction  (8th  printing),  Cambridge  University Press. NewYork.\n",
    "\n",
    "3. [Dooge, J.C.I. 1973. Linear Theory of Hydrologic Systems. ARS Technical Bulletin No. 1468.US Department of Agriculture, Washington, D.C. **pp. 1-40**](https://3.137.111.182/ce-3354-webbook/3-Readings/LS1973/linear-systems-hydrology-dooge.pdf) \n",
    "\n",
    "4. [Richard H. McCuen, Peggy A. Johnson, Robert M. Ragan, 2002. Highway Hydrology; Hydraulic  Design  Series  Number  2,  Second  Edition.  Federal  Highway  Administration,  National Highway Institute, 4600 North Fairfax Drive, Suite 800, Arlington, Virginia 22203. **pp. 1-1 to 1-9**](https://3.137.111.182/ce-3354-webbook/3-Readings/FHWAHighwayHydrology/FHWA-NHI-02-001.pdf) \n",
    "\n",
    "---\n",
    "\n",
    "Hydrology \"Definitions\"\n",
    "\n",
    "5. [Excerpts from various sources](https://3.137.111.182/ce-3354-webbook/3-Readings/HydrologyDefinitions/hydrology-define.pdf)\n",
    "\n",
    "6. [Wisler, C.O, and Brater, E.F. 1949. \"Hydrology\" John Wiley and Sons, New York **pp. 1-14**](https://3.137.111.182/ce-3354-webbook/3-Readings/OlderHydrologyDescription/reading-definition-hydrology.pdf) \n",
    "\n",
    "---\n",
    "\n",
    "Water Budget\n",
    "\n",
    "7. [McCuen XXXX. Hydrologic Analysis and Design ... **pp. 2-12** ](https://3.137.111.182/ce-3354-webbook/3-Readings/McCuen-WaterBudget/mccuen-reading-water-budget.pdf)\n",
    "\n",
    "--- \n",
    "\n",
    "Groundwater\n",
    "\n",
    "8. [Heath, R.C., 1983. Basic ground-waterhydrology: U.S. Geological Survey Water-SupplyPaper 2220, **pp. 1-5**](https://3.137.111.182/ce-3354-webbook/3-Readings/USGS-WSP2020-GroundwaterHydrology/usgs-wsp-2020.pdf) \n",
    "\n",
    "9. [Viessman,W., Knapp, J.W., Lewis, G. L., and Harbaugh, T.E. 1977. \"Groundwater Hydrology – Chapter 8\" in *Introduction to Hydrology* 2ed. IEP Publishers, New York, **pp. 291-342**](https://3.137.111.182/ce-3354-webbook/3-Readings/Groundwater-Viessman/GroundwaterHydrology.pdf) \n",
    "\n",
    "10. [Wisler, C.O, and Brater, E.F. 1949. \"Hydrology\" John Wiley and Sons, New York **pp. 198-272**](https://3.137.111.182/ce-3354-webbook/3-Readings/Groundwater-Wisler&Brater/Groundwater-Wisler.pdf) \n"
   ]
  },
  {
   "cell_type": "markdown",
   "metadata": {},
   "source": [
    "## Videos"
   ]
  },
  {
   "cell_type": "markdown",
   "metadata": {},
   "source": [
    "## Outline\n",
    "\n",
    "1. Course Resources\n",
    "2. Review of Hydrology Concepts"
   ]
  },
  {
   "cell_type": "markdown",
   "metadata": {},
   "source": [
    "## Course Resources\n",
    "- [Syllabus](http://54.243.252.9/ce-3354-webroot/0-Syllabus/)\n",
    "\n",
    "- Software \n",
    "\n",
    "- Tour of Blackboard:\n"
   ]
  },
  {
   "cell_type": "markdown",
   "metadata": {},
   "source": [
    "---\n",
    "## Introductory Hydrologic Concepts\n",
    "\n",
    "### What is hydrology?\n",
    "- Study of the occurrence, circulation, storage, and distribution of surface and groundwater on the Earth.\n",
    "- Engineering hydrology is the quantification of amounts of water at various locations (spatially) as a function of time (temporally) for surface water applications.\n",
    "\n",
    "### What is a watershed (catchment)?\n",
    "Here are a couple of definitions of watersheds.\n",
    "\n",
    "- Topographic area that collects and discharges surface streamflow through one outlet or mouth (pour point)\n",
    "- The area on the surface of the Earth that drains to a specific location\n",
    "- In groundwater a similar concept is called a groundwater basin – only the boundaries can move depending on relative rates of recharge and discharge \n",
    "\n",
    "The topographic definition omits that there could be subsurface sewer systems that can cross topographic boundaries.   It’s a big deal in urban areas.\n",
    "\n",
    "### What is a hydrologic system?\n",
    "A hydrologic system is just a collection of parts that interact.   \n",
    " \n",
    "- A hydrologic system is simply the collection of connected components that form the <strong>hydrologic cycle</strong>\n",
    "- These components can be grouped into subsystems, treated separately, and the results combined according to interactions between the subsystems (CMM pg 5) \n",
    "\n",
    "Like in fluid mechanics, the system has boundaries (the control volume) and fluxes into/out of the boundaries.   \n",
    "The entire planet is usually considered a closed system (hydrologically) and only the energy fluxes cross the boundary.   \n",
    "At more practical scales (parking lot) the mass fluxes matter a lot.  \n",
    "\n",
    "### What is the hydrologic cycle?\n",
    "Here is a typical diagram depicting the hydrologic cycle.  \n",
    "\n",
    "![](hydrologic_cycle.png)\n",
    "\n",
    "The driving force for the cycle (not shown) is solar energy that provides the energy to vaporize liquid water that then rises into clouds, moves onshore, and rains (or snow, sleet, $\\dots$.  and other forms of <strong>precipitation</strong>)\n",
    "A portion of the rain becomes runoff, another portion returns to the atmosphere as evaporation, another portion infiltrates into the ground and becomes groundwater.\n",
    "\n",
    "The surface water system would be the part of the diagram that lies above the plane defined by the ocean and infiltration line.\n",
    "The subsurface system is the part that is below this plane.\n",
    "\n",
    "Expressed as a simple system diagram it would be depicted in the figure below\n",
    "\n",
    "![](system_diagram.png)"
   ]
  },
  {
   "cell_type": "markdown",
   "metadata": {},
   "source": [
    "---\n",
    "## Hydrologic Balance \n",
    "\n",
    "### Water Budget\n",
    "The water budget, or <strong>hydrologic balance</strong> is simply the expression of the conservation of mass in hydrologic terms for a hydrologic system.  \n",
    "Generally it is expressed as a rate (or volume) balance.\n",
    "The hydrologic equation is the fundamental tool in hydrology to describe amounts of water in storage in different compartments at different scales.  \n",
    "\n",
    "The equation expressed in “words” is\n",
    "\n",
    "Rate of inflow - Rate of outflow =  Rate of change of storage + Rate of internal mass generation.\n",
    "\n",
    "Symbolically it is exrepssed as:\n",
    "\n",
    "$$ \\frac{dI}{dt} - \\frac{dO}{dt} = \\frac{dS}{dt} + \\frac{dG}{dt}$$\n",
    "\n",
    "where\n",
    "\n",
    "$I$ is inflow volume, $O$ is outflow volume, $S$ is storage volume (i.e. within a watershed), and $G$ is generated volume.\n",
    "$G$ is generally zero, but is included to be consistent with the balance equations you have learned elsewhere (i.e. environmental engineering, chemistry, $\\dots$)"
   ]
  },
  {
   "cell_type": "markdown",
   "metadata": {},
   "source": [
    "### Surface Hydrologic System\n",
    "\n",
    "Here is the surface water system broken into its own sub-system.\n",
    "\n",
    "![](surface_system_diagram.png)\n",
    "\n",
    "Notice the dashed line is the boundary – exactly like a control volume in fluids.\n",
    "\n",
    "### Surface Water Budget\n",
    "\n",
    "From the surface water system diagram, appropriate budget components are:\n",
    "\n",
    "- Inflows:  Rainfall; Surface water from outside boundary, recharge from Groundwater.\n",
    "- Outflows: Evapotranspiration; Surface water leaving boundary; Infiltration to groundwater.\n",
    "- Storage:  Water levels in lakes, rivers, ponds within the boundary; water stored on leaves and other surfaces."
   ]
  },
  {
   "cell_type": "markdown",
   "metadata": {},
   "source": [
    "### Sub-surface Hydrologic System\n",
    "\n",
    "Here is the sub-surface water system broken into its own sub-system.\n",
    "\n",
    "![](subsurface_system_diagram.png)\n",
    "\n",
    "Notice the dashed line is the boundary – exactly like a control volume in fluids.\n",
    "\n",
    "### Sub-surface Water Budget\n",
    "\n",
    "From the sub-surface water system diagram, appropriate budget components are:\n",
    "\n",
    "- Inflows:  Groundwater flow from outside boundary; Recharge from surface system (via infiltration)\n",
    "- Outflows: Groundwater flow out of the boundary; Discharge (pumping; springs) to surface system\n",
    "- Storage:  Water levels in aquifers within the boundary"
   ]
  },
  {
   "cell_type": "markdown",
   "metadata": {},
   "source": [
    "### Combined Hydrologic System\n",
    "Here are the two systems “combined.”\n",
    "Communication is by the two shaded paths on the figure. \n",
    "\n",
    "![](combined_system_diagram.png)\n",
    "\n",
    "Loss from the surface system becomes gain to the ground system.\n",
    "Loss from the ground system becomes gain to the surface system."
   ]
  }
 ],
 "metadata": {
  "kernelspec": {
   "display_name": "Python 3",
   "language": "python",
   "name": "python3"
  },
  "language_info": {
   "codemirror_mode": {
    "name": "ipython",
    "version": 3
   },
   "file_extension": ".py",
   "mimetype": "text/x-python",
   "name": "python",
   "nbconvert_exporter": "python",
   "pygments_lexer": "ipython3",
   "version": "3.8.10"
  }
 },
 "nbformat": 4,
 "nbformat_minor": 4
}