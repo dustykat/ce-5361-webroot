{
 "cells": [
  {
   "cell_type": "markdown",
   "metadata": {},
   "source": [
    "# <font color=darkblue>Exam 1 </font>\n",
    "\n",
    "**LAST NAME, FIRST NAME**\n",
    "\n",
    "**R00000000**\n",
    "\n",
    "___\n",
    "\n",
    "## Purpose : \n",
    "Demonstrate ability to apply hydrologic and problem solving principles with respect to water balance, watershed delineation and measurements, and precipitation and streamflow.\n"
   ]
  },
  {
   "cell_type": "markdown",
   "metadata": {},
   "source": [
    "---\n",
    "\n",
    "### Problem 1 Water Budget Concepts\n",
    "\n",
    "A river reach has an initial inflow of 350 cfs and an initial outflow of 285 cfs. The volume in storage is 10.8 acre-ft.  90 minutes later the inflow and outflow are 250 cfs and 200 cfs, respectively, and the volume in storage is 10.8 acre-ft. Determine:\n",
    "\n",
    "1. The change in storage over the 90 minute interval, and\n",
    "2. The initial storage volume"
   ]
  },
  {
   "cell_type": "code",
   "execution_count": 1,
   "metadata": {},
   "outputs": [],
   "source": [
    "# solution here"
   ]
  },
  {
   "cell_type": "markdown",
   "metadata": {},
   "source": [
    "---\n",
    "\n",
    "### Problem 2 Volume and Flow Concepts\n",
    "\n",
    "1. If water flows past an observation location at 1.0 cubic feet per second, for one hour, what incremental volume in cubic feet has passed the observation location?\n",
    "2. If a basin has a surface area of 1 acre, and water is uniformily ponded at a depth of 1 foot, what is the total volume of water in cubic feet?\n",
    "3. A reservoir with a constant surface area of 500 acres has an evaporation rate of 3.6 inches per day. The average outflow from the reservoir is 50 cubic feet per second, what is the change in water level in one day?"
   ]
  },
  {
   "cell_type": "code",
   "execution_count": 2,
   "metadata": {},
   "outputs": [],
   "source": [
    "# solution here"
   ]
  },
  {
   "cell_type": "markdown",
   "metadata": {},
   "source": [
    "---\n",
    "\n",
    "### Problem 3. Watershed Metrics\n",
    "\n",
    "Figure 1 is a topographic map of a small drainage basin. The drawn contour interval is\n",
    "20 feet. Many of the contours are labeled. A culvert structure is located on the Eastern\n",
    "portion of the basin, near the outlet shown on Figure 3. \n",
    "<figure align=\"center\">\n",
    "<!--<img src=\"./topoMap.png\" width=\"500\" > -->\n",
    "<img src=\"http://54.243.252.9/ce-3354-webroot/4-Exams/EX1/topoMap.png\" width=\"700\" >\n",
    "<figcaption>Figure 1. Topographic Map of a portion of the Earth. Elevations and linear distances are in\n",
    "f eet. North (by convention) is up. </figcaption>\n",
    "</figure>\n",
    "\n",
    "The red line is a highway alignment, beneath which the culvert structure is placed. Figure 2 is a photograph\n",
    "of the culvert system that is comprised of 4-parallel , 4-foot diameter, 100-foot long\n",
    "culverts. The lowest portion of the road near the culverts is at elevation 595 feet. The\n",
    "culverts are laid on a dimensionless slope of 0.02.\n",
    "<figure align=\"center\">\n",
    "<!--<img src=\"./culvert-system.png\" width=\"600\" > -->\n",
    "<img src=\"http://54.243.252.9/ce-3354-webroot/4-Exams/EX1/culvert-system.png\" width=\"600\" >\n",
    "<figcaption>Figure 2. Multiple-barrel outlet structure </figcaption>\n",
    "</figure>\n",
    "\n",
    "The watershed is delineated and the boundary is already drawn on the map.\n",
    "\n",
    "The water surface area when the culvert system (like a dam, with 4 holes in the wall) impounds water to a water surface elevation of $565~feet$ is zero. (Zero pool area when the WSE is at 565 feet).  Figure 3 is a schematic sketch (elevation view) of a culvert barrel.\n",
    "\n",
    "<figure align=\"center\">\n",
    "<!-- <img src=\"./CulvertSystemElevation.png\" width=\"600\" > -->\n",
    "<img src=\"http://54.243.252.9/ce-3354-webroot/4-Exams/EX1/CulvertSystemElevation.png\" width=\"700\" >\n",
    "<figcaption>Figure 3. Culvert system elevation view sketch </figcaption>\n",
    "</figure>\n",
    "   \n",
    "- Estimate the basin drainage area that drains to the culvert structure.  Report the results in\n",
    "  1. Square feet,\n",
    "  2. Acres, and\n",
    "  3. Square miles\n",
    "- Complete the elevation (side) view sketch of the road embankment and culvert system by indicating the missing elevations on the sketch of (show computations for the outlet elevation)\n",
    "  1. The roadway crest in feet, \n",
    "  2. The culvert outlet elevation in feet, and\n",
    "  3. The culvert barrel length in feet.\n",
    "- Estimate the water surface area (area of the pool on the upstream side of the road embankment) when the embankment impounds water to a water surface elevation of $590~feet$.  Show how you made the estimate.\n",
    "- Estimate the main channel length in feet. Show how you made the estimate.\n",
    "- Estimate the elevation at the most upstream portion of the main channel (where the main channel would intersect the watershed boundary), in feet.\n",
    "- Estimate the elevation of the outlet point of the watershed (the culvert invert elevations).\n",
    "- Using these two elevation values, estimate the average watershed slope along the main channel.   Express the result in\n",
    "   1. Dimensionless slope, and \n",
    "   2. Percent slope.\n"
   ]
  },
  {
   "cell_type": "code",
   "execution_count": 3,
   "metadata": {},
   "outputs": [],
   "source": [
    "# solution here"
   ]
  },
  {
   "cell_type": "markdown",
   "metadata": {},
   "source": [
    "---\n",
    "\n",
    "### Problem 4. Rainfall and Runoff Data Reduction\n",
    "\n",
    "A tabulation of an observed storm and associated runoff for the drainage area depicted by the map in Figure 1 is listed below.  The runoff was measured at the culvert system and indicated by the blue circle on the map.\n",
    "\n",
    "|Time (hrs)|Accumulated Rain (inches)|Observed Discharge (cfs)|Incremental Volume (ft$^3$)|Cumulative Volume (ft$^3$)|\n",
    "|---:|---:|---:|---:|---:|\n",
    "| 0|0.000|0.00|||\n",
    "|1|0.000|0.00|||\n",
    "|2|0.000|0.00|||\n",
    "|3|0.000|0.00|||\n",
    "|4|0.000|0.00|||\n",
    "|5|0.000|0.00|||\n",
    "|6|0.000|0.00|||\n",
    "|7|0.000|0.00|||\n",
    "|8|0.101|1.40|||\n",
    "|9|0.106|0.31|||\n",
    "|10|0.111|0.31|||\n",
    "|11|0.115|0.31|||\n",
    "|12|0.120|0.31|||\n",
    "|13|0.120|0.40|||\n",
    "|14|0.150|0.40|||\n",
    "|15|0.750|24.66|||\n",
    "|16|2.750|588.23|||\n",
    "|17|2.940|808.70|||\n",
    "|18|3.030|154.28|||\n",
    "|19|3.030|94.68|||\n",
    "|20|3.030|27.56|||\n",
    "|21|3.090|36.13|||\n",
    "|22|3.210|19.65|||\n",
    "|23|3.300|7.00|||\n",
    "|24|3.300|0.00|||\n",
    "\n",
    "\n",
    "\n",
    "Build a Jupyter Notebook (or use Excel) to:\n",
    "\n",
    "1. Complete the column labeled Incremental Volume (ft$^3$). \n",
    "2. Complete the column labeled Cumulative Volume (ft$^3$).\n",
    "3. Determine the total **volume** of runoff in cubic feet from the storm (e.g. the Cumulative Volume at hour 24) \n",
    "4. Convert the runoff volume from cubic feet into watershed feet (i.e divide by the watershed area), then from watershed feet into watershed inches.  \n",
    "5. Determine the fraction (percent) of rainfall that becomes runoff.\n",
    "6. Plot the cumulative precipitation in inches and the cumulative runoff in watershed inches on the same plot.  Use the time for the x-axis, and the respective cumulative depths for the y-axis.  Plot precipitation in BLUE and runoff in RED."
   ]
  },
  {
   "cell_type": "code",
   "execution_count": 4,
   "metadata": {},
   "outputs": [],
   "source": [
    "# solution here"
   ]
  }
 ],
 "metadata": {
  "kernelspec": {
   "display_name": "Python 3",
   "language": "python",
   "name": "python3"
  },
  "language_info": {
   "codemirror_mode": {
    "name": "ipython",
    "version": 3
   },
   "file_extension": ".py",
   "mimetype": "text/x-python",
   "name": "python",
   "nbconvert_exporter": "python",
   "pygments_lexer": "ipython3",
   "version": "3.8.10"
  }
 },
 "nbformat": 4,
 "nbformat_minor": 4
}