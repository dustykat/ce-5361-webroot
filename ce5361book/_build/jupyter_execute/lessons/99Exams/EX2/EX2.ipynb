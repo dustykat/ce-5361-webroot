{
 "cells": [
  {
   "cell_type": "markdown",
   "metadata": {},
   "source": [
    "# <font color=darkblue>Exam 2 </font>\n",
    "\n",
    "**LAST NAME, FIRST NAME**\n",
    "\n",
    "**R00000000**\n",
    "\n",
    "___\n",
    "\n",
    "## Purpose : \n",
    "Demonstrate ability to apply hydrologic and problem solving principles with respect to hydrologic abstractions, specific loss models, and hydrograph timing parameters.\n"
   ]
  },
  {
   "cell_type": "markdown",
   "metadata": {},
   "source": [
    "---\n",
    "\n",
    "### Problem 1 Time of Concentration\n",
    "\n",
    "Figure 1 is a watershed. \n",
    "\n",
    "![](figure1.png)\n",
    "\n",
    "The forest portion has a flow path length of 360 feet, at an average slope of 0.01 (1%) until it reaches the residential portion whose path length is 430 feet, at an average slope of 0.005 (0.5%). \n",
    "\n",
    "Estimate the time of concentration using the [NRCS-Upland](http://54.243.252.9/ce-3354-webroot/5-Spreadsheets/NRCS-Upland.xls) method."
   ]
  },
  {
   "cell_type": "code",
   "execution_count": 1,
   "metadata": {},
   "outputs": [],
   "source": [
    "# solution here"
   ]
  },
  {
   "cell_type": "markdown",
   "metadata": {},
   "source": [
    "---\n",
    "\n",
    "### Problem 2 Time of Concentration for Hardin Creek Watershed(s)\n",
    "\n",
    "Figure 2 below is the Hardin Creek study area, already delineated with three sub-basins identified.\n",
    "\n",
    "![](basinmaphere.png)\n",
    "\n",
    "Estimate the time of concentration using the [NRCS-Upland](http://54.243.252.9/ce-3354-webroot/5-Spreadsheets/NRCS-Upland.xls) method for the Harden Creek watersheds (each sub-basin to reservoir riser pipe, and the portion downstream of the reservoirs directly to the study point of interest).\n",
    "\n",
    "Summarize your results in the table below:\n",
    "\n",
    "|Sub-Basin|Area (sq. mi.)|Time of Concentration (minutes)|\n",
    "|---|---:|---:|\n",
    "|North Basin|???|???|\n",
    "|West Basin|???|???|\n",
    "|Eden Basin|???|???|\n"
   ]
  },
  {
   "cell_type": "code",
   "execution_count": 2,
   "metadata": {},
   "outputs": [],
   "source": [
    "# solution here"
   ]
  },
  {
   "cell_type": "markdown",
   "metadata": {},
   "source": [
    "---\n",
    "\n",
    "### Problem 3. Loss Models\n",
    "\n",
    "A tabulation of an observed storm and associated runoff for the drainage area are listed below.  The runoff was measured at the culvert system and indicated by the blue circle on the map.\n",
    "\n",
    "<figure align=\"center\">\n",
    "<!--<img src=\"./topoMap.png\" width=\"500\" > -->\n",
    "<img src=\"http://54.243.252.9/ce-3354-webroot/4-Exams/EX1/topoMap.png\" width=\"700\" >\n",
    "<figcaption>Figure 3. Topographic Map of a portion of the Earth. Elevations and linear distances are in\n",
    "f eet. North (by convention) is up. </figcaption>\n",
    "</figure>\n",
    "\n",
    "|Time (hrs)|Accumulated Rain (inches)|Observed Discharge (cfs)|Incremental Volume (ft$^3$)|Cumulative Volume (ft$^3$)|\n",
    "|---:|---:|---:|---:|---:|\n",
    "| 0|0.000|0.00|||\n",
    "|1|0.000|0.00|||\n",
    "|2|0.000|0.00|||\n",
    "|3|0.000|0.00|||\n",
    "|4|0.000|0.00|||\n",
    "|5|0.000|0.00|||\n",
    "|6|0.000|0.00|||\n",
    "|7|0.000|0.00|||\n",
    "|8|0.101|1.40|||\n",
    "|9|0.106|0.31|||\n",
    "|10|0.111|0.31|||\n",
    "|11|0.115|0.31|||\n",
    "|12|0.120|0.31|||\n",
    "|13|0.120|0.40|||\n",
    "|14|0.150|0.40|||\n",
    "|15|0.750|24.66|||\n",
    "|16|2.750|588.23|||\n",
    "|17|2.940|808.70|||\n",
    "|18|3.030|154.28|||\n",
    "|19|3.030|94.68|||\n",
    "|20|3.030|27.56|||\n",
    "|21|3.090|36.13|||\n",
    "|22|3.210|19.65|||\n",
    "|23|3.300|7.00|||\n",
    "|24|3.300|0.00|||\n",
    "\n",
    "\n",
    "\n",
    "Determine\n",
    "\n",
    "- The loss from the raw precipitation input to the watershed.\n",
    "- An appropriate CN for the watershed supported by the tabulated data.\n",
    "- The maximum retention S for the watershed supported by the tabulated data."
   ]
  },
  {
   "cell_type": "code",
   "execution_count": 3,
   "metadata": {},
   "outputs": [],
   "source": [
    "# solution here"
   ]
  },
  {
   "cell_type": "markdown",
   "metadata": {},
   "source": [
    "---\n",
    "\n",
    "### Problem 4. Evapotranspiration Models\n",
    "Estimate the monthly evapotranspiration depths for the Corpus Christi (Nueces County) area using the [Thornwaithe](http://54.243.252.9/ce-3354-webroot/5-Spreadsheets/Thornwaithe.xls) method.\n",
    "\n",
    "Repeat the process using the [Blaney-Criddle](http://54.243.252.9/ce-3354-webroot/5-Spreadsheets/BlaneyCriddle.xlsx) method for the same geographic area.\n",
    "\n",
    "Compare the results to the values reported at [https://waterdatafortexas.org/lake-evaporation-rainfall](https://waterdatafortexas.org/lake-evaporation-rainfall).  Corpus Christi is in Cell 911 and Cell 1010 in the map shown at this website, choose either cell for your comparison."
   ]
  },
  {
   "cell_type": "code",
   "execution_count": 4,
   "metadata": {},
   "outputs": [],
   "source": [
    "# solution here"
   ]
  }
 ],
 "metadata": {
  "kernelspec": {
   "display_name": "Python 3",
   "language": "python",
   "name": "python3"
  },
  "language_info": {
   "codemirror_mode": {
    "name": "ipython",
    "version": 3
   },
   "file_extension": ".py",
   "mimetype": "text/x-python",
   "name": "python",
   "nbconvert_exporter": "python",
   "pygments_lexer": "ipython3",
   "version": "3.8.10"
  }
 },
 "nbformat": 4,
 "nbformat_minor": 4
}