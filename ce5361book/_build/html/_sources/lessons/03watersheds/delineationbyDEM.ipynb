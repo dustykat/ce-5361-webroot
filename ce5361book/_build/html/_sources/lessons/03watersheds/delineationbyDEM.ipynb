{
 "cells": [
  {
   "cell_type": "markdown",
   "metadata": {},
   "source": [
    "# Delineation (Homebrew DEM)\n",
    "\n",
    "This method really refers to making your own DEM form a contour map then running python scripts to help identify the boundary."
   ]
  },
  {
   "cell_type": "markdown",
   "metadata": {},
   "source": [
    "## Example using Florida Training Watershed\n",
    "\n",
    "Consider the image below, the point of interest is the blue dot.\n",
    "\n",
    "![](Florida-Training-Watershed.png)\n",
    "\n",
    "To find the watershed boundary we can digitize the contours, then use a particle tracking algorithm to find points that drain to the blue dot (or close to the blue dot).\n",
    "\n",
    "Digitize using [G3DATA](https://alternativeto.net/software/g3data/?platform=windows) or something similar to get XY coordinates of the level sets (contours)  Here is the graphic loaded into G3DATA.\n",
    "\n",
    "![](g3data-florida-training.png)\n",
    "\n",
    "Next digitize some of the contours (should do all, but that takes too much time to illustrate).\n",
    "\n",
    "Here is the manual digitize of the 160 contour line:\n",
    "\n",
    "![](g3data-florida-training-160.png)"
   ]
  },
  {
   "cell_type": "markdown",
   "metadata": {},
   "source": [
    "### Collect the Data"
   ]
  },
  {
   "cell_type": "code",
   "execution_count": null,
   "metadata": {},
   "outputs": [],
   "source": []
  },
  {
   "cell_type": "code",
   "execution_count": null,
   "metadata": {},
   "outputs": [],
   "source": []
  }
 ],
 "metadata": {
  "kernelspec": {
   "display_name": "Python 3",
   "language": "python",
   "name": "python3"
  },
  "language_info": {
   "codemirror_mode": {
    "name": "ipython",
    "version": 3
   },
   "file_extension": ".py",
   "mimetype": "text/x-python",
   "name": "python",
   "nbconvert_exporter": "python",
   "pygments_lexer": "ipython3",
   "version": "3.8.10"
  }
 },
 "nbformat": 4,
 "nbformat_minor": 4
}
