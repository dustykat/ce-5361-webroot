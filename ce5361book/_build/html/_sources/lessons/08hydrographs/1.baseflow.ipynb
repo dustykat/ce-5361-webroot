{
 "cells": [
  {
   "cell_type": "markdown",
   "metadata": {},
   "source": [
    "# 8.1 Baseflow Separation\n",
    "\n",
    "Baseflow separation is a first step in analysis – several methods\n",
    "\n",
    "### Constant discharge method\n",
    "\n",
    "![](constantdischarge.png)\n",
    "\n",
    "- When rising limb starts – declare that value to constant rate during the event, rejoin as recession limb.\n",
    "- All flow above the value is declared storm flow\n",
    "\n",
    "### Constant slope method\n",
    "\n",
    "![](constantslope.png)\n",
    "\n",
    "- When rising limb starts – draw a segment from that value to the inflection point on the recession limb\n",
    "- All flow above the value is\n",
    "declared storm flow\n",
    "- Hard to implement for multiple peak hydrographs (real hydrographs may exhibit many peaks)\n",
    "\n",
    "### Concave method\n",
    "\n",
    "![](concave.png)\n",
    "\n",
    "- When rising limb starts – draw a segment from that value following the recession curve to a point beneath the peak flow.\n",
    "- Then draw a segment from the point above to the inflection point\n",
    "- All flow above the segments are declared storm flow\n",
    "- Hard to implement for multiple peak hydrographs (real hydrographs exhibit many peaks)\n",
    "\n",
    "There are a few more ways to accomplish baseflow separation\n",
    "- The master-depletion curve method is outlined in the readings\n",
    "- For many practical cases with multiple peaked hydrographs the constant discharge method is probably the most straightforward to apply (or use continuous simulation techniques – outside scope this course)\n",
    "\n",
    "\n"
   ]
  },
  {
   "cell_type": "markdown",
   "metadata": {},
   "source": [
    "\n",
    "\n",
    "## Summary concepts\n",
    "\n",
    "- Base-flow separation isolates the total discharge from the storm-induced discharge"
   ]
  },
  {
   "cell_type": "markdown",
   "metadata": {},
   "source": [
    "## References\n",
    "\n",
    "cite pages of textbook\n",
    "\n",
    "\n",
    "2. [Cleveland, T. G. (2015) *Surface Water Hydrology Notes (Unit-Hydrographs Analysis) to accompany CE-3354*, Department of Civil, Environmental, and Construction Engineering, Whitacre College of Engineering.](http://54.243.252.9/ce-3354-webroot/1-Lectures-2017/Lecture13.pdf)\n",
    "\n",
    "3. [Cleveland, T. G. (2017) *Surface Water Hydrology Notes (Unit-Hydrographs in HEC-HMS) to accompany CE-3354*, Department of Civil, Environmental, and Construction Engineering, Whitacre College of Engineering.](http://54.243.252.9/ce-3354-webroot/1-Lectures-2017/Lecture14.pdf)\n",
    "\n",
    "4. [FHWA-NHI-02-001 Highway Hydrology Chapter 6, Section 6.1](http://54.243.252.9/ce-3354-webroot/3-Readings/FHWAHighwayHydrology/FHWA-NHI-02-001.pdf)\n",
    "\n",
    "## Spreadsheets\n",
    "\n",
    "Listed below are spreadsheets that implement simple UH examples.  They are Excel (circa 2009) spreadsheets, that work in current Excel, LibreOffice, and Numbers environments\n",
    "1. [ExampleUH_BackSub1.xls](http://54.243.252.9/ce-3354-webroot/5-Spreadsheets/ExampleUH_BackSub1.xls)\n",
    "2. [ExampleUH_BackSub2.xls](http://54.243.252.9/ce-3354-webroot/5-Spreadsheets/ExampleUH_BackSub2.xls)\n",
    "3. [ExampleUH_LeastSquares.xls](http://54.243.252.9/ce-3354-webroot/5-Spreadsheets/ExampleUH_LeastSquares.xls)\n",
    "4. [ExampleUH_TransferFn.xls](http://54.243.252.9/ce-3354-webroot/5-Spreadsheets/ExampleUH_TransferFn.xls)\n",
    "5. [ExtendedBase_DifferentStorm.xls](http://54.243.252.9/ce-3354-webroot/5-Spreadsheets/ExtendedBase_DifferentStorm.xls)\n",
    "6. [ExtendedBase.xls](http://54.243.252.9/ce-3354-webroot/5-Spreadsheets/ExtendedBase.xls)\n"
   ]
  },
  {
   "cell_type": "markdown",
   "metadata": {},
   "source": []
  },
  {
   "cell_type": "markdown",
   "metadata": {},
   "source": []
  },
  {
   "cell_type": "markdown",
   "metadata": {},
   "source": []
  },
  {
   "cell_type": "markdown",
   "metadata": {},
   "source": []
  }
 ],
 "metadata": {
  "kernelspec": {
   "display_name": "Python 3",
   "language": "python",
   "name": "python3"
  },
  "language_info": {
   "codemirror_mode": {
    "name": "ipython",
    "version": 3
   },
   "file_extension": ".py",
   "mimetype": "text/x-python",
   "name": "python",
   "nbconvert_exporter": "python",
   "pygments_lexer": "ipython3",
   "version": "3.8.10"
  }
 },
 "nbformat": 4,
 "nbformat_minor": 4
}
