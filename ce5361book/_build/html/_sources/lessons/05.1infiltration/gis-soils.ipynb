{
 "cells": [
  {
   "cell_type": "markdown",
   "metadata": {},
   "source": [
    "# GIS Soils Properties\n",
    "\n",
    "From the discussion regarding infiltration, it should be apparent that soil properties are important.  There \n"
   ]
  },
  {
   "cell_type": "markdown",
   "metadata": {},
   "source": [
    "## Paper-Based Maps\n",
    "\n",
    "Well just kidding, the old soils maps (of my generation) are archived at [USDA Soil Surveys](https://archive.org/details/usda-soil-surveys)\n",
    "\n",
    "Our study watershed is in Briscoe Co. Texas\n",
    "\n",
    "Here is the soils map [Briscoe Co. Tx Soils Maps (with text)](http://54.243.252.9/ce-5361-webroot/ce5361book/lessons/05.1infiltration/briscoeTX1977.pdf)\n",
    "\n",
    "Our study location is Map sheet 51 in the document.\n",
    "\n",
    "The main mapped soils are QBG,BeB, and BeC.  In the same document are tables that reference these codes back to soil descriptions.\n",
    "\n",
    "From the tables we obtain various estimates as:\n",
    "\n",
    "|Soil|$K_{sat}$(in/hr)|$\\approx~n$ (from AWC value)|$\\approx~D_{50}$ (from sieve data)(mm)|\n",
    "|---|---|---|---|\n",
    "|QBG|2.0-6.0|0.10-0.20|0.074|\n",
    "|BeB|0.6-2.0|0.14-0.17|0.42-0.074|\n",
    "|BeC|0.6-2.0|0.14-0.17|0.42-0.074|\n",
    "\n",
    "As you will see in the in-class demonstration; the process to find these values is a bit slow - one can imagine the difficulties over larger areas, however it does provide meaningful values to parameterize one of the various infiltration models.  We still need some way to approximate soil suction (or mean pore size) we can certainly use a guess of $D_{50}$ we can estimate from the soils map as a surogate for pore size to estimate a suction value.\n",
    "\n",
    "Now we recall from our Fluids class something like:\n",
    "\n",
    "![](CE5361-capillary.png)\n",
    "\n",
    "So with some guess of the $D_{50}$ we can estimate the suction from a capillary rise approximation.  \n",
    "\n",
    "$h_c = \\frac{4 \\sigma}{\\gamma d}$"
   ]
  },
  {
   "cell_type": "code",
   "execution_count": 4,
   "metadata": {},
   "outputs": [
    {
     "name": "stdout",
     "output_type": "stream",
     "text": [
      "  Surface Tension  0.073  N/m\n",
      "  Specific Weight (of liquid)  9790  N/cu.m.\n",
      "  Mean Pore Diameter  0.074  mm\n",
      " \n",
      "Capillary Rise  0.402  m\n"
     ]
    }
   ],
   "source": [
    "surface_tension = 0.0728 # N/m\n",
    "sp_weight = 9790 #N/cu.m.\n",
    "diameter = 0.074e-3 #meters\n",
    "capillary_rise = (4*surface_tension)/(sp_weight*diameter)\n",
    "print(\"  Surface Tension \",round(surface_tension,3),\" N/m\")\n",
    "print(\"  Specific Weight (of liquid) \",round(sp_weight,3),\" N/cu.m.\")\n",
    "print(\"  Mean Pore Diameter \",round(1000*diameter,3),\" mm\\n \")\n",
    "print(\"Capillary Rise \",round(capillary_rise,3),\" m\")"
   ]
  },
  {
   "cell_type": "markdown",
   "metadata": {},
   "source": [
    "This capillary rise is a useful surrogate for the suction pressure in the infiltration models.  For instance a Green-Ampt model for these soils would be something like:\n",
    "\n",
    "$I(t)=K_{sat}t + (H+h_c)ln(1+\\frac{I(t)}{(H+h_c)n})$\n",
    "\n",
    "In our case $h_c\\approx 15~in.$; $K_{sat} \\approx 2.0~\\frac{in.}{hr}$; and $n \\approx 0.20$ or something to this effect.  So later on we can use this to estimate loss (and potential runoff)."
   ]
  },
  {
   "cell_type": "markdown",
   "metadata": {},
   "source": [
    "## GIS Data\n",
    "\n",
    "There is a soil survey geographic database at [USDA Soils Data Gateway](https://gdg.sc.egov.usda.gov/)\n",
    "\n",
    "You can also access from WSS in the navigation column [USDA Web Soil Survey](https://websoilsurvey.nrcs.usda.gov/app/)\n",
    "\n",
    "An alternative is to use CN Generator Plug-In\n",
    "\n",
    "![](SA-001.png)\n",
    "\n",
    "![](SA-002.png)\n",
    "\n",
    "![](SA-003.png)\n",
    "\n",
    "![](SA-004.png)"
   ]
  },
  {
   "cell_type": "code",
   "execution_count": null,
   "metadata": {},
   "outputs": [],
   "source": []
  }
 ],
 "metadata": {
  "kernelspec": {
   "display_name": "Python 3",
   "language": "python",
   "name": "python3"
  },
  "language_info": {
   "codemirror_mode": {
    "name": "ipython",
    "version": 3
   },
   "file_extension": ".py",
   "mimetype": "text/x-python",
   "name": "python",
   "nbconvert_exporter": "python",
   "pygments_lexer": "ipython3",
   "version": "3.8.10"
  }
 },
 "nbformat": 4,
 "nbformat_minor": 4
}
