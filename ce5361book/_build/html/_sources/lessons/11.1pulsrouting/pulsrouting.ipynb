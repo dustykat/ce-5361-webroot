{
 "cells": [
  {
   "cell_type": "markdown",
   "metadata": {},
   "source": [
    "# 11.1 Channel Routing\n",
    "\n",
    "Go through presentation below:\n",
    "\n",
    "1. [Cleveland, T. G. (2017) *Surface Water Hydrology Notes (Channel Routing) to accompany CE-3354*, Department of Civil, Environmental, and Construction Engineering, Whitacre College of Engineering.](http://54.243.252.9/ce-3354-webroot/1-Lectures-2017/Lecture18.pdf)\n",
    "\n",
    "Google Search\n",
    "\n",
    "- streamflow rating\n",
    "- what is a rating equation (rating curve)\n"
   ]
  },
  {
   "cell_type": "markdown",
   "metadata": {},
   "source": [
    "## Spreadsheets\n",
    "\n",
    "1. [Stream_Storage_Routing.xls (Uses MACROS, must open using Excel for example to work)](http://54.243.252.9/ce-3354-webroot/ce3354book/lessons/lesson12/Stream_Storage_Routing.xls)\n",
    "\n",
    "## HEC-HMS Files\n",
    "\n",
    "1. [Puls Routing in a Stream.zip (zip file of entire HEC-HMS project)](http://54.243.252.9/ce-3354-webroot/ce3354book/lessons/lesson12/PulsRoutingInAStream.zip)"
   ]
  },
  {
   "cell_type": "markdown",
   "metadata": {},
   "source": []
  }
 ],
 "metadata": {
  "kernelspec": {
   "display_name": "Python 3",
   "language": "python",
   "name": "python3"
  },
  "language_info": {
   "codemirror_mode": {
    "name": "ipython",
    "version": 3
   },
   "file_extension": ".py",
   "mimetype": "text/x-python",
   "name": "python",
   "nbconvert_exporter": "python",
   "pygments_lexer": "ipython3",
   "version": "3.8.10"
  }
 },
 "nbformat": 4,
 "nbformat_minor": 4
}
