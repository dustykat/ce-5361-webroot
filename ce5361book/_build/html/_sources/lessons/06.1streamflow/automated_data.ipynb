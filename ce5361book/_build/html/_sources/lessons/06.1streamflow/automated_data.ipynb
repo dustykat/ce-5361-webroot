{
 "cells": [
  {
   "cell_type": "markdown",
   "metadata": {},
   "source": [
    "# Automated Data Retreival\n",
    "\n",
    "The semi-automatic retrieval of data is valuable for documenting and reconstructing work related to hydrology.  What follows is scripting by a colleague that can be used for future efforts.\n",
    "\n",
    ":::{note}\n",
    "I have modified his original work to render on my web server - main changes are to suppress interactive behavior, and to split the code up a bit.  Otherwise it is Moise's original Thesis work unchanged!\n",
    ":::"
   ]
  },
  {
   "cell_type": "markdown",
   "metadata": {},
   "source": [
    "## A Hydrological Data Analysis and Visualization Toolkit\n",
    "\n",
    "- *Author*: Moise Baraka, Ph.D. Student in CECE Water Resources, Texas Tech University\n",
    "- *Date*: 02/21/2024\n",
    "- *Supervised by* Theodore Cleveland, Ph.D. CECE Water Resources, Associate Professor, Texas Tech University\n",
    "- *class of* spring 2024 in Surface Water Hydrology\n",
    "\n",
    "- Description:\n",
    "*This toolkit provides a collection of functions for retrieving, processing, analyzing, and visualizing hydrological data from the USGS web server. It includes modules for retrieving rating curve data, fitting it, computing statistical measures, generating histograms, and plotting various hydrological data attributes. The program allows users to input station codes to retrieve specific data and provides visualizations for any station monitored by the USGS program.*\n",
    "---\n",
    "\n",
    "### STREAMFLOW DATA RETRIEVAL\n",
    "\n",
    "- **Step 1: Input Collection**\n",
    "\n",
    "The script prompts the user to input the USGS station ID, start date, and end date.\n",
    "\n",
    "- **Step 2: Directory Selection**\n",
    "\n",
    "The user is prompted to input the directory where the data will be saved. If no directory is provided, it defaults to a predefined directory, which must have been defined in the script.\n",
    "\n",
    "- **Step 3: URL Construction**\n",
    "\n",
    "The script constructs a URL using the provided station ID, start date, and end date. This URL is used to retrieve the data from the USGS website.\n",
    "\n",
    "- **Step 4: Data Retrieval**\n",
    "\n",
    "The script downloads the data from the constructed URL. During the download process, it displays a progress bar or percentage showing the download progress.\n",
    "\n",
    "- **Step 5: Data Saving**\n",
    "\n",
    "The downloaded data is saved to the specified directory with a filename indicating the station code and data type."
   ]
  },
  {
   "cell_type": "markdown",
   "metadata": {},
   "source": [
    ":::{note}\n",
    "Here we load required modules\n",
    ":::"
   ]
  },
  {
   "cell_type": "code",
   "execution_count": 1,
   "metadata": {},
   "outputs": [],
   "source": [
    "import re\n",
    "import urllib.request\n",
    "import tqdm\n",
    "import time\n",
    "import os"
   ]
  },
  {
   "cell_type": "markdown",
   "metadata": {},
   "source": [
    ":::{note}\n",
    "Date parser function.  \n",
    ":::"
   ]
  },
  {
   "cell_type": "code",
   "execution_count": 2,
   "metadata": {},
   "outputs": [],
   "source": [
    "#------------------------------------------------------------------------\n",
    "def get_date_input(prompt):\n",
    "    while True:\n",
    "        date_input = input(prompt)\n",
    "        # Validate date format\n",
    "        if re.match(r'^\\d{4}-\\d{2}-\\d{2}$', date_input):\n",
    "            return date_input\n",
    "        else:\n",
    "            print(\"Invalid date format. Please use yyyy-mm-dd format.\")"
   ]
  },
  {
   "cell_type": "markdown",
   "metadata": {},
   "source": [
    ":::{note}\n",
    "Directory selector function\n",
    ":::"
   ]
  },
  {
   "cell_type": "code",
   "execution_count": 3,
   "metadata": {},
   "outputs": [],
   "source": [
    "#------------------------------------------------------------------------\n",
    "def get_save_directory_input(default_directory):\n",
    "    while True:\n",
    "        save_directory = input(f\"Enter the directory to save the data (press Enter to use default directory {default_directory}): \")\n",
    "        if not save_directory:\n",
    "            return default_directory\n",
    "        # Validate directory exists\n",
    "        elif os.path.isdir(save_directory):\n",
    "            return save_directory\n",
    "        else:\n",
    "            print(\"Directory does not exist. Please enter a valid directory.\")"
   ]
  },
  {
   "cell_type": "markdown",
   "metadata": {},
   "source": [
    ":::{note}\n",
    "Here we build the URL to generate the request to USGS server(s)\n",
    ":::"
   ]
  },
  {
   "cell_type": "code",
   "execution_count": 4,
   "metadata": {},
   "outputs": [],
   "source": [
    "#------------------------------------------------------------------------\n",
    "def build_url1(station_code, start_date, end_date):\n",
    "    base_url = 'https://nwis.waterdata.usgs.gov/nwis/dv?referred_module=sw&search_site_no='\n",
    "    query_params = '&search_site_no_match_type=exact&site_tp_cd=OC&site_tp_cd=OC-CO&site_tp_cd=ES&site_tp_cd=' \\\n",
    "                   'LK&site_tp_cd=ST&site_tp_cd=ST-CA&site_tp_cd=ST-DCH&site_tp_cd=ST-TS&index_pmcode_00060=1' \\\n",
    "                   '&group_key=NONE&sitefile_output_format=html_table&column_name=agency_cd&column_name=site_no' \\\n",
    "                   '&column_name=station_nm&range_selection=date_range&begin_date=' + start_date + '&end_date=' + end_date + \\\n",
    "                   '&format=rdb&date_format=YYYY-MM-DD&rdb_compression=value&list_of_search_criteria=search_site_no%2Csite_tp_cd%2Crealtime_parameter_selection'\n",
    "\n",
    "    return base_url + station_code + query_params"
   ]
  },
  {
   "cell_type": "code",
   "execution_count": null,
   "metadata": {},
   "outputs": [],
   "source": []
  },
  {
   "cell_type": "markdown",
   "metadata": {},
   "source": [
    ":::{note}\n",
    "Now the retreival step.  Some output is suppressed for JupyterBook\n",
    ":::"
   ]
  },
  {
   "cell_type": "code",
   "execution_count": 5,
   "metadata": {},
   "outputs": [],
   "source": [
    "#------------------------------------------------------------------------\n",
    "# Retrieve and save data from a URL, and return the filename\n",
    "def retrieve_and_save_data(url, filename):\n",
    "    print(\"\\nDownloading data from:\", url , '\\n')\n",
    "    response = urllib.request.urlopen(url)\n",
    "    total_size = int(response.headers.get('content-length', 0))\n",
    "    downloaded = 0\n",
    "    chunk_size = 1024\n",
    "    start_time = time.time()  # Record start time\n",
    "    with open(filename, 'wb') as file:\n",
    "        while True:\n",
    "            chunk = response.read(chunk_size)\n",
    "            if not chunk:\n",
    "                break\n",
    "            file.write(chunk)\n",
    "            downloaded += len(chunk)\n",
    "            if total_size > 0:\n",
    "                progress = downloaded / total_size * 100\n",
    "            else:\n",
    "                # Assume 1.2 seconds download time if total_size is zero\n",
    "                elapsed_time = time.time() - start_time\n",
    "                progress = min(100, elapsed_time / 1.2 * 100)\n",
    "#            print(f\"Estimated downloading progress: {progress:.1f}%\\r\", end='') \n",
    "    print(\"\\nData saved to:\", filename)\n",
    "    return filename"
   ]
  },
  {
   "cell_type": "markdown",
   "metadata": {},
   "source": [
    ":::{note}\n",
    "Here is the batch request (deactivate for interactive)\n",
    ":::"
   ]
  },
  {
   "cell_type": "code",
   "execution_count": 6,
   "metadata": {},
   "outputs": [],
   "source": [
    "station_code = '07297910'\n",
    "start_date = '1936-01-01'\n",
    "end_date = '2024-02-01'\n",
    "save_directory = './' # suppress and actiovate above for interactive"
   ]
  },
  {
   "cell_type": "markdown",
   "metadata": {},
   "source": [
    ":::{note}\n",
    "Here is the interactive part (activate for interactive)\n",
    ":::"
   ]
  },
  {
   "cell_type": "markdown",
   "metadata": {},
   "source": [
    "```\n",
    "#--------------------------------------------------------------------------\n",
    "#                          Define the inputs\n",
    "#--------------------------------------------------------------------------\n",
    "print(\" ------------------------------------------\",\n",
    "        \"\\n Please provide the following information:\",\n",
    "        \"\\n ------------------------------------------\")\n",
    "\n",
    "\n",
    "# activate code below and suppress above 3 lines for interactive\n",
    "#station_code = input('- USGS station ID: ')\n",
    "#start_date = get_date_input('- Start Date (yyyy-mm-dd): ')\n",
    "#end_date = get_date_input('- End Date (yyyy-mm-dd): ')\n",
    "\n",
    "\n",
    "\n",
    "#--------- !!! Define the directory where the data will be saved !!! -----------\n",
    "default_directory = r\"C:\\Users\\mbaraka\\OneDrive - Texas Tech University\\Thesis file\"  # To be defined!\n",
    "\n",
    "save_directory = get_save_directory_input(default_directory)\n",
    "```"
   ]
  },
  {
   "cell_type": "markdown",
   "metadata": {},
   "source": [
    ":::{note}\n",
    "Here get the file from the remote\n",
    ":::"
   ]
  },
  {
   "cell_type": "code",
   "execution_count": 8,
   "metadata": {},
   "outputs": [
    {
     "name": "stdout",
     "output_type": "stream",
     "text": [
      "\n",
      "Downloading data from: https://nwis.waterdata.usgs.gov/nwis/dv?referred_module=sw&search_site_no=07297910&search_site_no_match_type=exact&site_tp_cd=OC&site_tp_cd=OC-CO&site_tp_cd=ES&site_tp_cd=LK&site_tp_cd=ST&site_tp_cd=ST-CA&site_tp_cd=ST-DCH&site_tp_cd=ST-TS&index_pmcode_00060=1&group_key=NONE&sitefile_output_format=html_table&column_name=agency_cd&column_name=site_no&column_name=station_nm&range_selection=date_range&begin_date=1936-01-01&end_date=2024-02-01&format=rdb&date_format=YYYY-MM-DD&rdb_compression=value&list_of_search_criteria=search_site_no%2Csite_tp_cd%2Crealtime_parameter_selection \n",
      "\n",
      "Estimated downloading progress: 100.0%\n",
      "Data saved to: ./USGS_Data_for_07297910.txt\n"
     ]
    }
   ],
   "source": [
    "#--------------------------------------------------------------------------\n",
    "#        Define the base URLs for data retrieval from Website 1\n",
    "#--------------------------------------------------------------------------\n",
    "url1 = build_url1(station_code, start_date, end_date)\n",
    "\n",
    "# Retrieve and save data from Website 1\n",
    "filename1 = retrieve_and_save_data(url1, os.path.join(save_directory, f'USGS_Data_for_{station_code}.txt'))"
   ]
  },
  {
   "cell_type": "markdown",
   "metadata": {},
   "source": [
    "**BUILD IN PROGRESS**"
   ]
  }
 ],
 "metadata": {
  "kernelspec": {
   "display_name": "Python 3",
   "language": "python",
   "name": "python3"
  },
  "language_info": {
   "codemirror_mode": {
    "name": "ipython",
    "version": 3
   },
   "file_extension": ".py",
   "mimetype": "text/x-python",
   "name": "python",
   "nbconvert_exporter": "python",
   "pygments_lexer": "ipython3",
   "version": "3.8.10"
  }
 },
 "nbformat": 4,
 "nbformat_minor": 4
}
