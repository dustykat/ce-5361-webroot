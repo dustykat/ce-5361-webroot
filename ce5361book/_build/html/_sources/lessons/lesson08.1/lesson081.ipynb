{
 "cells": [
  {
   "cell_type": "markdown",
   "metadata": {},
   "source": []
  },
  {
   "cell_type": "markdown",
   "metadata": {},
   "source": [
    "# On-Watershed Storage Models\n",
    "\n",
    "Storage on the watershed is distributed among depression and canopy storage, and explicit storage in things large enough to be treated as reservoirs.  In this section we are considering just the first two components."
   ]
  },
  {
   "cell_type": "markdown",
   "metadata": {},
   "source": [
    "Examination of various process models at\n",
    "\n",
    "[Cleveland, T. G. (2020) *Surface Water Hydrology Notes (Depression and Canopy Storage) to accompany CE-3354*, Department of Civil, Environmental, and Construction Engineering, Whitacre College of Engineering.](http://54.243.252.9/ce-3354-webroot/ce3354book/lessons/lesson08.1/Lesson08ug.pdf)\n",
    "\n",
    "## HEC-HMS Storage Models\n",
    "\n",
    ">A sub**basin** element conceptually represents infiltration, surface runoff, and\n",
    "subsurface processes interacting together, the actual infiltration calculations are\n",
    "performed by a loss method contained within the subbasin. A total of twelve different\n",
    "loss methods are provided. Some of the methods are designed primarily for\n",
    "simulating events while others are intended for continuous simulation. All of the\n",
    "methods conserve mass. That is, the sum of infiltration and precipitation left on the\n",
    "surface will always be equal to total incoming precipitation.\n",
    "\n",
    ">The inputs for each loss method are presented on a separate Component Editor\n",
    "from the subbasin element editor. The \"Loss\" editor is always shown next to the\n",
    "\"Subbasin\" editor. If the kinematic wave transform method is selected, there may be\n",
    "two loss editors, one for each runoff plane. The information shown on the loss editor\n",
    "will depend on which method is currently selected\n",
    "\n",
    "A fully provisioned Windows Implementation of HEC-HMS is located at:\n",
    "\n",
    "- server_name: **kittyinthewindow.ddns.net**\n",
    "- user_name: **texas-skew**\n",
    "- passwd: **peakfq73$hare**\n",
    "\n",
    "Users must access using Remote Desktop Protocol (Built into Windows, Apple Store has a free Mac application).\n",
    "\n",
    "- Use the Hardin Creek Project to explore different loss models.\n",
    "\n",
    "Recomended Loss models for semester project are CN model or Green-Ampt.  These are easiest to parameterize from available data sources for the project and should be adequate for the problem statement."
   ]
  },
  {
   "cell_type": "markdown",
   "metadata": {},
   "source": []
  },
  {
   "cell_type": "markdown",
   "metadata": {},
   "source": []
  },
  {
   "cell_type": "markdown",
   "metadata": {},
   "source": [
    "## References\n",
    "\n",
    "1. [Cleveland, T. G. (2020) *Surface Water Hydrology Notes (Infiltration) to accompany CE-5361*, Department of Civil, Environmental, and Construction Engineering, Whitacre College of Engineering.](http://54.243.252.9/ce-3354-webroot/1-Lectures-2020/lesson07/Lesson07.pdf)\n",
    "2. [Green-Ampt Spreadsheet (Excel)](http://54.243.252.9/ce-3354-webroot/1-Lectures-2020/lesson07/ce5361_green_ampt.xlsx) Right-Click \"Save As...\"\n",
    "3. Chow, V. T., 1964. Handbook of Applied Hydrology. McGraw Hill, New York. Sec. 14., 2pp.\n",
    "4. Fang, X., Asquith, W.H., Garcia , C.A., Cleveland, T.G., Thompson, D.B., Malla, R. 2004 Literature Review on Time Parameters for Hydrographs. Project Report 4696-1. Texas Department of Transportation.\n",
    "5. USDA National Engineering Handbook, Chapters 4,5, and 10.\n",
    "6. Wurbs and James, 2002. Water Resources Engineering. Prentice-Hall, New Jersey. Pp 462-483.\n",
    "7. Polubarinova-Kochina, 1962. Theory of Groundwater Movement, (Translated from Russian by R. De Wiest), Princeton University Press, New Jersey.\n",
    "8. [An Initial-Abstraction, Constant-Loss Model for Unit Hydrograph Modeling for Applicable Watersheds in Texas](http://54.243.252.9/ce-3354-webroot/3-Readings/USGS-Texas-IaCl/sir2007-5243.pdf)"
   ]
  },
  {
   "cell_type": "code",
   "execution_count": null,
   "metadata": {},
   "outputs": [],
   "source": []
  }
 ],
 "metadata": {
  "kernelspec": {
   "display_name": "Python 3",
   "language": "python",
   "name": "python3"
  },
  "language_info": {
   "codemirror_mode": {
    "name": "ipython",
    "version": 3
   },
   "file_extension": ".py",
   "mimetype": "text/x-python",
   "name": "python",
   "nbconvert_exporter": "python",
   "pygments_lexer": "ipython3",
   "version": "3.8.10"
  }
 },
 "nbformat": 4,
 "nbformat_minor": 4
}
