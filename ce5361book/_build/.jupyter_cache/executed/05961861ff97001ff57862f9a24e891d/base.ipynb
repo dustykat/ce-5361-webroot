{
 "cells": [
  {
   "cell_type": "code",
   "execution_count": 1,
   "metadata": {},
   "outputs": [],
   "source": [
    "import re\n",
    "import urllib.request\n",
    "import tqdm\n",
    "import time\n",
    "import os\n",
    "\n",
    "#------------------------------------------------------------------------\n",
    "def get_date_input(prompt):\n",
    "    while True:\n",
    "        date_input = input(prompt)\n",
    "        # Validate date format\n",
    "        if re.match(r'^\\d{4}-\\d{2}-\\d{2}$', date_input):\n",
    "            return date_input\n",
    "        else:\n",
    "            print(\"Invalid date format. Please use yyyy-mm-dd format.\")\n",
    "\n",
    "#------------------------------------------------------------------------\n",
    "def get_save_directory_input(default_directory):\n",
    "    while True:\n",
    "        save_directory = input(f\"Enter the directory to save the data (press Enter to use default directory {default_directory}): \")\n",
    "        if not save_directory:\n",
    "            return default_directory\n",
    "        # Validate directory exists\n",
    "        elif os.path.isdir(save_directory):\n",
    "            return save_directory\n",
    "        else:\n",
    "            print(\"Directory does not exist. Please enter a valid directory.\")\n",
    "\n",
    "#------------------------------------------------------------------------\n",
    "def build_url1(station_code, start_date, end_date):\n",
    "    base_url = 'https://nwis.waterdata.usgs.gov/nwis/dv?referred_module=sw&search_site_no='\n",
    "    query_params = '&search_site_no_match_type=exact&site_tp_cd=OC&site_tp_cd=OC-CO&site_tp_cd=ES&site_tp_cd=' \\\n",
    "                   'LK&site_tp_cd=ST&site_tp_cd=ST-CA&site_tp_cd=ST-DCH&site_tp_cd=ST-TS&index_pmcode_00060=1' \\\n",
    "                   '&group_key=NONE&sitefile_output_format=html_table&column_name=agency_cd&column_name=site_no' \\\n",
    "                   '&column_name=station_nm&range_selection=date_range&begin_date=' + start_date + '&end_date=' + end_date + \\\n",
    "                   '&format=rdb&date_format=YYYY-MM-DD&rdb_compression=value&list_of_search_criteria=search_site_no%2Csite_tp_cd%2Crealtime_parameter_selection'\n",
    "\n",
    "    return base_url + station_code + query_params\n",
    "\n",
    "#------------------------------------------------------------------------\n",
    "# Retrieve and save data from a URL, and return the filename\n",
    "def retrieve_and_save_data(url, filename):\n",
    "    #print(\"\\nDownloading data from:\", url , '\\n')\n",
    "    response = urllib.request.urlopen(url)\n",
    "    total_size = int(response.headers.get('content-length', 0))\n",
    "    downloaded = 0\n",
    "    chunk_size = 1024\n",
    "    start_time = time.time()  # Record start time\n",
    "    with open(filename, 'wb') as file:\n",
    "        while True:\n",
    "            chunk = response.read(chunk_size)\n",
    "            if not chunk:\n",
    "                break\n",
    "            file.write(chunk)\n",
    "            downloaded += len(chunk)\n",
    "            if total_size > 0:\n",
    "                progress = downloaded / total_size * 100\n",
    "            else:\n",
    "                # Assume 1.2 seconds download time if total_size is zero\n",
    "                elapsed_time = time.time() - start_time\n",
    "                progress = min(100, elapsed_time / 1.2 * 100)\n",
    "           # print(f\"Estimated downloading progress: {progress:.1f}%\\r\", end='')\n",
    "    #print(\"\\nData saved to:\", filename)\n",
    "    return filename"
   ]
  },
  {
   "cell_type": "code",
   "execution_count": 30,
   "metadata": {},
   "outputs": [],
   "source": []
  },
  {
   "cell_type": "code",
   "execution_count": null,
   "metadata": {},
   "outputs": [],
   "source": []
  }
 ],
 "metadata": {
  "kernelspec": {
   "display_name": "Python 3",
   "language": "python",
   "name": "python3"
  },
  "language_info": {
   "codemirror_mode": {
    "name": "ipython",
    "version": 3
   },
   "file_extension": ".py",
   "mimetype": "text/x-python",
   "name": "python",
   "nbconvert_exporter": "python",
   "pygments_lexer": "ipython3",
   "version": "3.8.10"
  },
  "widgets": {
   "application/vnd.jupyter.widget-state+json": {
    "state": {},
    "version_major": 2,
    "version_minor": 0
   }
  }
 },
 "nbformat": 4,
 "nbformat_minor": 5
}