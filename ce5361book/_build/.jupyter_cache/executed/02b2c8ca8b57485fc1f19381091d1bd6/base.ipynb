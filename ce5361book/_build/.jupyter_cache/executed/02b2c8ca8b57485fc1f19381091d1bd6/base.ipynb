{
 "cells": [
  {
   "cell_type": "code",
   "execution_count": 1,
   "metadata": {},
   "outputs": [
    {
     "name": "stdout",
     "output_type": "stream",
     "text": [
      "29.0 minutes\n"
     ]
    }
   ],
   "source": [
    "# solution here\n",
    "Lforest = 360\n",
    "Lresid = 430\n",
    "Vforest = 0.25\n",
    "Vresid = 1.423\n",
    "Tforest = Lforest/Vforest\n",
    "Tresid = Lresid/Vresid\n",
    "print(round((Tforest+Tresid)/60,1), \"minutes\")"
   ]
  },
  {
   "cell_type": "code",
   "execution_count": 2,
   "metadata": {},
   "outputs": [],
   "source": [
    "# solution here"
   ]
  },
  {
   "cell_type": "code",
   "execution_count": 3,
   "metadata": {},
   "outputs": [
    {
     "name": "stdout",
     "output_type": "stream",
     "text": [
      "Q_error  -0.0 \n",
      "\n",
      "Loss  2.441  watershed inches\n",
      "CN based on tabulated values  69.0\n",
      "Maximum Retention S  4.4\n"
     ]
    }
   ],
   "source": [
    "# solution here\n",
    "\n",
    "time = [0,\n",
    "1,\n",
    "2,\n",
    "3,\n",
    "4,\n",
    "5,\n",
    "6,\n",
    "7,\n",
    "8,\n",
    "9,\n",
    "10,\n",
    "11,\n",
    "12,\n",
    "13,\n",
    "14,\n",
    "15,\n",
    "16,\n",
    "17,\n",
    "18,\n",
    "19,\n",
    "20,\n",
    "21,\n",
    "22,\n",
    "23,\n",
    "24\n",
    "]\n",
    "acc_rain =[ 0,\n",
    "0,\n",
    "0,\n",
    "0,\n",
    "0,\n",
    "0,\n",
    "0,\n",
    "0,\n",
    "0.101,\n",
    "0.106,\n",
    "0.111,\n",
    "0.115,\n",
    "0.12,\n",
    "0.12,\n",
    "0.15,\n",
    "0.75,\n",
    "2.75,\n",
    "2.94,\n",
    "3.03,\n",
    "3.03,\n",
    "3.03,\n",
    "3.09,\n",
    "3.21,\n",
    "3.3,\n",
    "3.3\n",
    "]\n",
    "inc_disc =[ 0,\n",
    "0,\n",
    "0,\n",
    "0,\n",
    "0,\n",
    "0,\n",
    "0,\n",
    "0,\n",
    "1.4,\n",
    "0.31,\n",
    "0.31,\n",
    "0.31,\n",
    "0.31,\n",
    "0.4,\n",
    "0.4,\n",
    "24.66,\n",
    "588.23,\n",
    "808.7,\n",
    "154.28,\n",
    "94.68,\n",
    "27.56,\n",
    "36.13,\n",
    "19.65,\n",
    "7,\n",
    "0\n",
    "]\n",
    "\n",
    "acc_disc = [0 for i in range(len(inc_disc))]\n",
    "for i in range(1,len(inc_disc)):\n",
    "    acc_disc[i] =0.5*(inc_disc[i]+inc_disc[i-1])*3600 + acc_disc[i-1]\n",
    "\n",
    "Area = 88711200 #ft^2 From Exam 1 or redo the calculations\n",
    "P = acc_rain[len(acc_rain)-1]\n",
    "Q = 12*(acc_disc[len(acc_disc)-1]/Area) # wtaershed inches\n",
    "Loss = P - Q\n",
    "\n",
    "\n",
    "\n",
    "#trial and error to find S that agrees with observations\n",
    "\n",
    "S = 4.4  # trial and error this value\n",
    "Qscs = (P-0.2*S)**2/(P+0.8*S)\n",
    "\n",
    "print(\"Q_error \",round(Qscs-Q,3),\"\\n\")\n",
    "# now recover CN and report results\n",
    "\n",
    "CN = 1000/(S+10)\n",
    "\n",
    "print(\"Loss \",round(Loss,3),\" watershed inches\")\n",
    "print(\"CN based on tabulated values \",round(CN,0))\n",
    "print(\"Maximum Retention S \",round(S,3))"
   ]
  },
  {
   "cell_type": "code",
   "execution_count": 4,
   "metadata": {},
   "outputs": [],
   "source": [
    "# solution here"
   ]
  }
 ],
 "metadata": {
  "kernelspec": {
   "display_name": "Python 3",
   "language": "python",
   "name": "python3"
  },
  "language_info": {
   "codemirror_mode": {
    "name": "ipython",
    "version": 3
   },
   "file_extension": ".py",
   "mimetype": "text/x-python",
   "name": "python",
   "nbconvert_exporter": "python",
   "pygments_lexer": "ipython3",
   "version": "3.8.10"
  }
 },
 "nbformat": 4,
 "nbformat_minor": 4
}