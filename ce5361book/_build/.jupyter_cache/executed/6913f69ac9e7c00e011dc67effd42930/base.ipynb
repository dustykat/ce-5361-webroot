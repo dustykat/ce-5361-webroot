{
 "cells": [
  {
   "cell_type": "code",
   "execution_count": 1,
   "metadata": {},
   "outputs": [
    {
     "name": "stdout",
     "output_type": "stream",
     "text": [
      "Runoff =  149  watershed millimeters\n"
     ]
    }
   ],
   "source": [
    "# Water Budget Script - Example in WebBook\n",
    "P = 254 # millimeters of rainfall \n",
    "ET = 85 # millimeters of evapotranspiration\n",
    "I = 20 # millimeters of infiltration\n",
    "DeltaS = 0 # millimeters of storage change\n",
    "\n",
    "R = P - ET - I + DeltaS\n",
    "\n",
    "print(\"Runoff = \",round(R,3),' watershed millimeters')"
   ]
  },
  {
   "cell_type": "code",
   "execution_count": 2,
   "metadata": {},
   "outputs": [
    {
     "name": "stdout",
     "output_type": "stream",
     "text": [
      "Runoff =  9685000.0  cubic meters\n",
      "Runoff =  9685000000.0  liters\n"
     ]
    }
   ],
   "source": [
    "def mm2m(mm):\n",
    "    # convert mm into meters\n",
    "    mm2m = mm/1000.0 # mm should be a float\n",
    "    return(mm2m)\n",
    "\n",
    "def sqkm2sqm(sqkm):\n",
    "    # convert square kilometers into square meters\n",
    "    sqkm2sqm = sqkm * 1.0e06 # sqkm should be a float\n",
    "    return(sqkm2sqm)\n",
    "\n",
    "def cum2liter(cum):\n",
    "    # convert cubic meters into liters\n",
    "    cum2liter = cum*1000.0 # cum should be a float\n",
    "    return(cum2liter)\n",
    "\n",
    "# now express result in useful units\n",
    "area = 65 # area in sq. kilometers\n",
    "\n",
    "WholeWatershedRunoff = mm2m(R)*sqkm2sqm(area)\n",
    "\n",
    "print(\"Runoff = \",round(WholeWatershedRunoff,3),' cubic meters')\n",
    "\n",
    "print(\"Runoff = \",round(cum2liter(WholeWatershedRunoff),3),' liters')"
   ]
  },
  {
   "cell_type": "code",
   "execution_count": 3,
   "metadata": {},
   "outputs": [
    {
     "name": "stdout",
     "output_type": "stream",
     "text": [
      "Maximum Population =  1008854.1666666666  if rainfall is firm\n"
     ]
    }
   ],
   "source": [
    "# Population supported at 160 L/day\n",
    "litersPerDayPerPerson = 160\n",
    "litersPer2months = litersPerDayPerPerson*2*30\n",
    "# Assume all Runoff is Run through kidneys and colons\n",
    "maxPeople = cum2liter(WholeWatershedRunoff)/litersPer2months\n",
    "print(\"Maximum Population = \",maxPeople,\" if rainfall is firm\")"
   ]
  },
  {
   "cell_type": "code",
   "execution_count": 4,
   "metadata": {},
   "outputs": [
    {
     "name": "stdout",
     "output_type": "stream",
     "text": [
      "Begin Time 0  hours\n",
      "End Time 2  hours\n",
      "Inflow at Begin Time 375  cfs\n",
      "Inflow at End Time 600  cfs\n",
      "Outflow at Begin Time 563  cfs\n",
      "Outflow at End Time 675  cfs\n",
      "Storage at Begin Time 55.3  acre-feet\n",
      "Storage at End Time 33.56  acre-feet\n"
     ]
    }
   ],
   "source": [
    "# prototype function\n",
    "def newS(t0,t1,I0,I1,O0,O1,S0):\n",
    "    Ibar = 0.5*(I0 + I1)\n",
    "    Obar = 0.5*(O0 + O1)\n",
    "    dsdt = Ibar - Obar\n",
    "    dsdt = dsdt*3600/43560 # convert to correct units\n",
    "    deltat = t1-t0\n",
    "    DS   = dsdt*deltat\n",
    "    newS   = S0+DS\n",
    "    return(newS)\n",
    "# input values\n",
    "t0 = 0 # hrs\n",
    "t1 = 2 # hrs\n",
    "I0 = 375 # cfs\n",
    "I1 = 600 # cfs\n",
    "O0 = 563 # cfs\n",
    "O1 = 675 # cfs\n",
    "S0 = 55.3 # acre-ft\n",
    "# echo inputs\n",
    "print(\"Begin Time\",t0,\" hours\")\n",
    "print(\"End Time\",t1,\" hours\")\n",
    "print(\"Inflow at Begin Time\",I0,\" cfs\")\n",
    "print(\"Inflow at End Time\",I1,\" cfs\")\n",
    "print(\"Outflow at Begin Time\",O0,\" cfs\")\n",
    "print(\"Outflow at End Time\",O1,\" cfs\")\n",
    "print(\"Storage at Begin Time\",S0,\" acre-feet\")\n",
    "S1   = newS(t0,t1,I0,I1,O0,O1,S0) # get new storage\n",
    "# output results\n",
    "print(\"Storage at End Time\",round(S1,2),\" acre-feet\")"
   ]
  }
 ],
 "metadata": {
  "kernelspec": {
   "display_name": "Python 3",
   "language": "python",
   "name": "python3"
  },
  "language_info": {
   "codemirror_mode": {
    "name": "ipython",
    "version": 3
   },
   "file_extension": ".py",
   "mimetype": "text/x-python",
   "name": "python",
   "nbconvert_exporter": "python",
   "pygments_lexer": "ipython3",
   "version": "3.8.10"
  }
 },
 "nbformat": 4,
 "nbformat_minor": 4
}