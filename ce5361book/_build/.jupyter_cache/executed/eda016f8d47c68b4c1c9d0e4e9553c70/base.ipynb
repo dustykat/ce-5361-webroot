{
 "cells": [
  {
   "cell_type": "code",
   "execution_count": 1,
   "metadata": {},
   "outputs": [
    {
     "name": "stdout",
     "output_type": "stream",
     "text": [
      "  Surface Tension  0.073  N/m\n",
      "  Specific Weight (of liquid)  9790  N/cu.m.\n",
      "  Mean Pore Diameter  0.074  mm\n",
      " \n",
      "Capillary Rise  0.402  m\n"
     ]
    }
   ],
   "source": [
    "surface_tension = 0.0728 # N/m\n",
    "sp_weight = 9790 #N/cu.m.\n",
    "diameter = 0.074e-3 #meters\n",
    "capillary_rise = (4*surface_tension)/(sp_weight*diameter)\n",
    "print(\"  Surface Tension \",round(surface_tension,3),\" N/m\")\n",
    "print(\"  Specific Weight (of liquid) \",round(sp_weight,3),\" N/cu.m.\")\n",
    "print(\"  Mean Pore Diameter \",round(1000*diameter,3),\" mm\\n \")\n",
    "print(\"Capillary Rise \",round(capillary_rise,3),\" m\")"
   ]
  },
  {
   "cell_type": "code",
   "execution_count": null,
   "metadata": {},
   "outputs": [],
   "source": []
  }
 ],
 "metadata": {
  "kernelspec": {
   "display_name": "Python 3",
   "language": "python",
   "name": "python3"
  },
  "language_info": {
   "codemirror_mode": {
    "name": "ipython",
    "version": 3
   },
   "file_extension": ".py",
   "mimetype": "text/x-python",
   "name": "python",
   "nbconvert_exporter": "python",
   "pygments_lexer": "ipython3",
   "version": "3.8.10"
  }
 },
 "nbformat": 4,
 "nbformat_minor": 4
}