{
 "cells": [
  {
   "cell_type": "code",
   "execution_count": 4,
   "metadata": {},
   "outputs": [
    {
     "name": "stdout",
     "output_type": "stream",
     "text": [
      "['301493.230623291573', '3814195.86687662033', '0']\n"
     ]
    }
   ],
   "source": [
    "    filename = \"LakeTheo.xyz\"\n",
    "    ascii_xyz = []\n",
    "    externalfile = open(filename,'r') # create connection to file, set to read (r), file must exist\n",
    "    for line in externalfile:\n",
    "        if line[0] == '#' or line[0] == \"D\" : # skip comments and header row\n",
    "            continue\n",
    "        else:\n",
    "            ascii_xyz.append([str(n) for n in line.strip().split()])\n",
    "    externalfile.close()\n",
    "    ascii_xyz_len = len(ascii_xyz) # how many rows\n",
    "    print(ascii_xyz[0]) # print first row"
   ]
  },
  {
   "cell_type": "code",
   "execution_count": 40,
   "metadata": {},
   "outputs": [
    {
     "name": "stdout",
     "output_type": "stream",
     "text": [
      "Yay! Sizes match - proceede\n"
     ]
    }
   ],
   "source": [
    "nrows = 214\n",
    "ncols = 344\n",
    "nlay = nrows*ncols # a dummy dimension\n",
    "if(nrows*ncols == ascii_xyz_len):\n",
    "    print('Yay! Sizes match - proceede')"
   ]
  },
  {
   "cell_type": "code",
   "execution_count": 53,
   "metadata": {},
   "outputs": [],
   "source": [
    "ascii_RCZ = [[0 for i in range(ncols)] for j in range(nrows)] # prepopulate RC with zeros (will assign correct values below)\n",
    "index=0\n",
    "for irow in range(nrows):\n",
    "    for jcol in range(ncols): # process as if data are column-wise (probably are)\n",
    "        ascii_RCZ[irow][jcol] = float(ascii_xyz[index][2]) # put the correct elevation in place\n",
    "        index = index+1 # increment the counter\n",
    "\n",
    "# should now have the watershed in grid structure for the DTRM program, \n",
    "# not quite done yet as it needs to be written into proper format for FORTRAN program, but well along the way!"
   ]
  },
  {
   "cell_type": "code",
   "execution_count": 55,
   "metadata": {},
   "outputs": [
    {
     "name": "stdout",
     "output_type": "stream",
     "text": [
      "213 343 797.01318359375\n"
     ]
    }
   ],
   "source": [
    "# Find the outlet (assume lowest cell bigger than zero)\n",
    "lowElev = 99999 # start widda big number\n",
    "for irow in range(nrows):\n",
    "    for jcol in range(ncols):\n",
    "        if(ascii_RCZ[irow][jcol] > 0): \n",
    "            if(ascii_RCZ[irow][jcol] <= lowElev):\n",
    "                lowElev = ascii_RCZ[irow][jcol]\n",
    "                outrow = irow\n",
    "                outcol = jcol\n",
    "\n",
    "print(irow,jcol,lowElev) # this is our outlet information"
   ]
  },
  {
   "cell_type": "code",
   "execution_count": 58,
   "metadata": {},
   "outputs": [],
   "source": [
    "# Now build the mask grid to contain the boundary location\n",
    "# Mask value == 0 if no particle cell\n",
    "# Mask value = 1 if particle cell\n",
    "part_mask = [[0 for i in range(ncols)] for j in range(nrows)] # initialize the mask all zeros\n",
    "\n",
    "for irow in range(nrows):\n",
    "    for jcol in range(ncols): # process as if data are column-wise (probably are)\n",
    "         if (ascii_RCZ[irow][jcol] > 0.0):\n",
    "                part_mask[irow][jcol]=1\n",
    "                \n",
    "#print(part_mask[100]) #looks like the right structure"
   ]
  },
  {
   "cell_type": "code",
   "execution_count": 60,
   "metadata": {},
   "outputs": [],
   "source": [
    "# Now need to write an output file in FORTRAN structure\n",
    "filename = \"LakeTheo.mat.dat\"\n",
    "externalfile = open(filename,\"w\") # \"w\" clobbers content already there, consider if \"a\" is better choice!\n",
    "# try writing a single row\n",
    "for irow in range(100,101): # should be a single row\n",
    "    for jcol in range(ncols): # process as if data are column-wise (probably are)\n",
    "        message = '  '.join(map(repr, ascii_RCZ[irow][0:ncols])) + \"\\n\"\n",
    "    externalfile.write(message)\n",
    "externalfile.close()"
   ]
  },
  {
   "cell_type": "code",
   "execution_count": 42,
   "metadata": {},
   "outputs": [
    {
     "name": "stdout",
     "output_type": "stream",
     "text": [
      "[0, 0, 0]\n",
      "[0, 0, 0]\n",
      "[0, 0, 0]\n",
      "[0, 0, 0]\n",
      "[0, 0, 0]\n"
     ]
    }
   ],
   "source": [
    "cols = 3\n",
    "rows = 5\n",
    "arr = [[0 for i in range(cols)] for j in range(rows)]\n",
    "for i in range(rows):\n",
    "    print(arr[i])  # print entire row"
   ]
  },
  {
   "cell_type": "code",
   "execution_count": 52,
   "metadata": {},
   "outputs": [
    {
     "name": "stdout",
     "output_type": "stream",
     "text": [
      "[0.0, 0.0, 0.0, 0.0, 0.0, -99999.0, -99999.0, -99999.0, -99999.0, -99999.0, -99999.0, -99999.0, -99999.0, -99999.0, -99999.0, -99999.0, 979.0, 980.0, 979.0, 977.0, 976.038330078125, 976.03369140625, 976.029052734375, 977.0, 976.015869140625, 976.01123046875, 976.006591796875, 976.0, 976.0, 976.0, 976.0, 975.031005859375, 975.0263671875, 975.0244140625, 975.019775390625, 976.0, 975.006591796875, 975.0, 974.0, 973.07666015625, 973.072021484375, 973.0673828125, 973.062744140625, 973.05810546875, 973.053466796875, 973.048828125, 974.0, 974.0, 973.040283203125, 974.0, 977.0, 978.0, 978.0, 978.0, 976.0, 975.0, 973.0, 970.0, 965.0, 963.004638671875, 964.0, 965.0, 964.0, 961.0, 956.0, 954.0, 956.0, 950.0, 942.0, 938.0, 936.004638671875, 939.0, 942.0, 947.0, 954.0, 956.0, 950.0, 943.0, 942.0, 940.0, 939.0, 937.0, 932.0, 925.0, 919.0, 917.0, 916.006591796875, 916.0, 916.0, 916.0, 921.0, 929.0, 936.0, 936.0, 929.0, 919.0, 920.0, 929.0, 937.0, 948.0, 953.0, 958.0, 960.0, 961.0, 962.0, 961.0, 957.0, 956.0, 955.0, 955.0, 954.0, 950.0, 943.0, 934.0, 930.0, 926.0, 921.0, 921.0, 920.0, 918.0, 913.00927734375, 913.004638671875, 913.0, 911.006591796875, 912.0, 912.0, 910.0, 910.0, 910.0, 909.0, 905.0, 903.004638671875, 903.0, 901.0, 900.0, 898.0, 900.0, 901.0, 904.0, 906.0, 905.0, 901.0, 898.0, 897.0, 893.0, 890.0, 883.0, 879.013916015625, 879.00927734375, 879.004638671875, 879.0, 877.0, 877.0, 878.0, 880.0, 877.0, 869.0, 863.0, 858.038330078125, 858.03369140625, 858.029052734375, 858.0244140625, 860.0, 862.0, 867.0, 874.0, 878.0, 880.0, 884.0, 885.0, 883.0, 882.004638671875, 883.0, 883.0, 880.0, 878.0, 873.0, 879.0, 878.0, 874.0, 869.0, 866.0, 864.0, 865.0, 866.0, 869.0, 866.0, 861.0, 856.0, 855.01123046875, 855.006591796875, 855.0, 853.0, 852.0, 850.0, 851.0, 853.0, 850.0, 848.0, 845.0, 843.0, 842.0, 842.0, 842.0, 842.0, 841.0, 840.0, 839.0, 840.0, 840.0, 840.0, 840.0, 840.0, 838.0, 836.025146484375, 836.0205078125, 836.015869140625, 836.01123046875, 836.006591796875, 836.0, 836.0, 834.0, 833.046142578125, 833.044189453125, 833.042236328125, 833.040283203125, 833.038330078125, 835.0, 837.0, 838.0, 837.0, 837.0, 836.0, 835.0, 835.0, 833.0, 830.004638671875, 833.0, 835.0, 833.0, 829.0, 828.0, 831.0, 834.0, 837.0, 838.0, 839.0, 837.0, 832.0, 831.0, 832.0, 832.0, 834.0, 837.0, 837.0, 836.0, 835.0, 833.0, 831.0, 833.0, 836.0, 839.0, 841.0, 843.0, 844.0, 844.0, 843.0, 842.0, 843.0, 842.0, 840.0, -99999.0, -99999.0, -99999.0, -99999.0, -99999.0, -99999.0, -99999.0, -99999.0, -99999.0, -99999.0, -99999.0, -99999.0, -99999.0, -99999.0, -99999.0, -99999.0, -99999.0, -99999.0, -99999.0, -99999.0, -99999.0, -99999.0, -99999.0, -99999.0, -99999.0, -99999.0, -99999.0, -99999.0, -99999.0, -99999.0, -99999.0, -99999.0, -99999.0, -99999.0, -99999.0, -99999.0, -99999.0, -99999.0, -99999.0, -99999.0, -99999.0, -99999.0, -99999.0, -99999.0, -99999.0, -99999.0, -99999.0, -99999.0, -99999.0, -99999.0, -99999.0, -99999.0, -99999.0, -99999.0, -99999.0, -99999.0, -99999.0, -99999.0, -99999.0, -99999.0, -99999.0, -99999.0, -99999.0, -99999.0, -99999.0, -99999.0, -99999.0, -99999.0, -99999.0, -99999.0, -99999.0, 0.0, 0.0]\n"
     ]
    }
   ],
   "source": [
    "myrow = 100\n",
    "startCol = 0\n",
    "endCol = 10\n",
    "\n",
    "print(ascii_RCZ[myrow])"
   ]
  },
  {
   "cell_type": "code",
   "execution_count": 33,
   "metadata": {},
   "outputs": [
    {
     "data": {
      "text/plain": [
       "[0]"
      ]
     },
     "execution_count": 33,
     "metadata": {},
     "output_type": "execute_result"
    }
   ],
   "source": [
    "ascii_RCZ[0:4]"
   ]
  },
  {
   "cell_type": "code",
   "execution_count": 46,
   "metadata": {},
   "outputs": [
    {
     "data": {
      "text/plain": [
       "[['310609.881877947366', '3814195.86687662033', '0'],\n",
       " ['310636.538752960972', '3814195.86687662033', '0'],\n",
       " ['301493.230623291573', '3814169.21000160649', '0'],\n",
       " ['301519.887498305179', '3814169.21000160649', '0']]"
      ]
     },
     "execution_count": 46,
     "metadata": {},
     "output_type": "execute_result"
    }
   ],
   "source": [
    "ascii_xyz[742:346]"
   ]
  },
  {
   "cell_type": "code",
   "execution_count": 48,
   "metadata": {},
   "outputs": [
    {
     "data": {
      "text/plain": [
       "[0.0, 0.0]"
      ]
     },
     "execution_count": 48,
     "metadata": {},
     "output_type": "execute_result"
    }
   ],
   "source": [
    "ascii_RCZ[0][342]"
   ]
  },
  {
   "cell_type": "code",
   "execution_count": 49,
   "metadata": {},
   "outputs": [
    {
     "data": {
      "text/plain": [
       "0.0"
      ]
     },
     "execution_count": 49,
     "metadata": {},
     "output_type": "execute_result"
    }
   ],
   "source": [
    "ascii_RCZ[1][0]"
   ]
  },
  {
   "cell_type": "code",
   "execution_count": null,
   "metadata": {},
   "outputs": [],
   "source": [
    "  150.000      0.200      4.000      1.000    CMAN,FDEEP,NMAN,ALIFE \n",
    "   29.874      1.000   1440.000   1000.000     29.848     29.901     DX,DT,TMAX,D1,DXT,DYT\n",
    " 31775     100                NP,PRINT_N\n",
    "    mask\n",
    "      21    10    396.000       outlet loc and elev\n"
   ]
  }
 ],
 "metadata": {
  "kernelspec": {
   "display_name": "Python 3",
   "language": "python",
   "name": "python3"
  },
  "language_info": {
   "codemirror_mode": {
    "name": "ipython",
    "version": 3
   },
   "file_extension": ".py",
   "mimetype": "text/x-python",
   "name": "python",
   "nbconvert_exporter": "python",
   "pygments_lexer": "ipython3",
   "version": "3.8.10"
  }
 },
 "nbformat": 4,
 "nbformat_minor": 4
}
