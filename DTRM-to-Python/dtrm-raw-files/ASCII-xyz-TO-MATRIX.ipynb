{
 "cells": [
  {
   "cell_type": "code",
   "execution_count": 10,
   "metadata": {},
   "outputs": [
    {
     "name": "stdout",
     "output_type": "stream",
     "text": [
      "['301493.230623291573', '3814195.86687662033', '0']\n"
     ]
    }
   ],
   "source": [
    "    filename = \"LakeTheo.xyz\"\n",
    "    ascii_xyz = []\n",
    "    externalfile = open(filename,'r') # create connection to file, set to read (r), file must exist\n",
    "    for line in externalfile:\n",
    "        if line[0] == '#' or line[0] == \"D\" : # skip comments and header row\n",
    "            continue\n",
    "        else:\n",
    "            ascii_xyz.append([str(n) for n in line.strip().split()])\n",
    "    externalfile.close()\n",
    "    ascii_xyz_len = len(ascii_xyz) # how many rows\n",
    "    print(ascii_xyz[0]) # print first row"
   ]
  },
  {
   "cell_type": "code",
   "execution_count": 11,
   "metadata": {},
   "outputs": [
    {
     "name": "stdout",
     "output_type": "stream",
     "text": [
      "Yay! Sizes match - proceede\n"
     ]
    }
   ],
   "source": [
    "nrows = 214\n",
    "ncols = 344\n",
    "nlay = nrows*ncols # a dummy dimension\n",
    "if(nrows*ncols == ascii_xyz_len):\n",
    "    print('Yay! Sizes match - proceede')"
   ]
  },
  {
   "cell_type": "code",
   "execution_count": 12,
   "metadata": {},
   "outputs": [],
   "source": [
    "ascii_RCZ = [[0 for i in range(ncols)] for j in range(nrows)] # prepopulate RC with zeros (will assign correct values below)\n",
    "index=0\n",
    "for irow in range(nrows):\n",
    "    for jcol in range(ncols): # process as if data are column-wise (probably are)\n",
    "        ascii_RCZ[irow][jcol] = float(ascii_xyz[index][2]) # put the correct elevation in place\n",
    "        index = index+1 # increment the counter\n",
    "\n",
    "# should now have the watershed in grid structure for the DTRM program, \n",
    "# not quite done yet as it needs to be written into proper format for FORTRAN program, but well along the way!"
   ]
  },
  {
   "cell_type": "code",
   "execution_count": 13,
   "metadata": {},
   "outputs": [],
   "source": [
    "# Find the outlet (assume lowest cell bigger than zero)\n",
    "lowElev = 99999 # start widda big number\n",
    "for irow in range(nrows):\n",
    "    for jcol in range(ncols):\n",
    "        if(ascii_RCZ[irow][jcol] > 0): \n",
    "            if(ascii_RCZ[irow][jcol] <= lowElev):\n",
    "                lowElev = ascii_RCZ[irow][jcol]\n",
    "                outrow = irow\n",
    "                outcol = jcol\n",
    "\n",
    "#print(outrow,outcol,lowElev) # this is our outlet information"
   ]
  },
  {
   "cell_type": "code",
   "execution_count": 14,
   "metadata": {},
   "outputs": [],
   "source": [
    "# Find the high cell(s) values\n",
    "hiElev = -99999 # start widda little number\n",
    "for irow in range(nrows):\n",
    "    for jcol in range(ncols):\n",
    "        if(ascii_RCZ[irow][jcol] > 0): \n",
    "            if(ascii_RCZ[irow][jcol] >= hiElev):\n",
    "                hiElev = ascii_RCZ[irow][jcol]\n",
    "                hirow = irow\n",
    "                hicol = jcol\n",
    "\n",
    "#print(hirow,hicol,hiElev) # this is our high value information of last high cell visited"
   ]
  },
  {
   "cell_type": "code",
   "execution_count": 15,
   "metadata": {},
   "outputs": [],
   "source": [
    "# Now set all no-flows to hiElev\n",
    "for irow in range(nrows):\n",
    "    for jcol in range(ncols):\n",
    "        if(ascii_RCZ[irow][jcol] <= 0): \n",
    "            ascii_RCZ[irow][jcol] = hiElev"
   ]
  },
  {
   "cell_type": "code",
   "execution_count": 16,
   "metadata": {},
   "outputs": [],
   "source": [
    "# Now build the mask grid to contain the boundary location\n",
    "# Mask value == 0 if no particle cell\n",
    "# Mask value = 1 if particle cell\n",
    "part_mask = [[0 for i in range(ncols)] for j in range(nrows)] # initialize the mask all zeros\n",
    "np = 0\n",
    "for irow in range(nrows):\n",
    "    for jcol in range(ncols): # process as if data are column-wise (probably are)\n",
    "         if (ascii_RCZ[irow][jcol] < hiElev):\n",
    "                part_mask[irow][jcol]=1\n",
    "                np = np + 1\n",
    "                \n",
    "#print(part_mask[22]) #looks like the right structure"
   ]
  },
  {
   "cell_type": "code",
   "execution_count": null,
   "metadata": {},
   "outputs": [],
   "source": []
  },
  {
   "cell_type": "code",
   "execution_count": 164,
   "metadata": {},
   "outputs": [],
   "source": [
    "#recast the list into fields of {10}.{6} so FORTRAN program does not get messed up\n",
    "for irow in range(nrows):\n",
    "    for jcol in range(ncols):\n",
    "        ascii_RCZ[irow][jcol] = f\"{ascii_RCZ[irow][jcol]:{10}.{6}}\"  # builds a string with correct field width and precision (sig digits)"
   ]
  },
  {
   "cell_type": "code",
   "execution_count": 135,
   "metadata": {},
   "outputs": [
    {
     "name": "stdout",
     "output_type": "stream",
     "text": [
      "DIRECTIVE \n",
      "\n",
      "       214       344             NROW  NCOL \n",
      "\n"
     ]
    }
   ],
   "source": [
    "width = 10\n",
    "precision = 4\n",
    "value = float(\"12.34567\")\n",
    "f\"result: {value:{width}.{precision}}\"\n",
    "\n"
   ]
  },
  {
   "cell_type": "code",
   "execution_count": 17,
   "metadata": {},
   "outputs": [
    {
     "ename": "SyntaxError",
     "evalue": "invalid syntax (<ipython-input-17-331e61a5b08b>, line 29)",
     "output_type": "error",
     "traceback": [
      "\u001b[0;36m  File \u001b[0;32m\"<ipython-input-17-331e61a5b08b>\"\u001b[0;36m, line \u001b[0;32m29\u001b[0m\n\u001b[0;31m    externalfile.write(message)\u001b[0m\n\u001b[0m    ^\u001b[0m\n\u001b[0;31mSyntaxError\u001b[0m\u001b[0;31m:\u001b[0m invalid syntax\n"
     ]
    }
   ],
   "source": [
    "# Now need to write an output file in FORTRAN structure\n",
    "filename = \"LakeTheo.mat.dat\"\n",
    "externalfile = open(filename,\"w\") # \"w\" clobbers content already there, consider if \"a\" is better choice!\n",
    "blocks = int(ncols/11)+1\n",
    "#debug externalfile.write(\"Row Count    : \" + repr(int(nrows)) + \"\\n\")\n",
    "#debug externalfile.write(\"Column Count : \" + repr(int(ncols))+ \"\\n\")\n",
    "#debug externalfile.write(\"Block Count  : \" + repr(int(blocks))+ \"\\n\")\n",
    "########### BEGIN FRONT MATTER #################\n",
    "firstline = \"DIRECTIVE \\n\"  # Directive(s); TERSE, VERBOSE, or DIRECTIVE(do nothing)\n",
    "f1 = f\"{nrows:{10}}\"\n",
    "f2 = f\"{ncols:{10}}\"\n",
    "f3 = \"             NROW  NCOL \\n\"\n",
    "secondline =    f1 + f2 + f3\n",
    "#debug print(firstline)\n",
    "#debug print(secondline)\n",
    "externalfile.write(firstline)\n",
    "externalfile.write(secondline)\n",
    "########### END FRONT MATTER ###################\n",
    "########### BEGIN ELEVATION MATRIX #############\n",
    "for irow in range(nrows): # should be a single row\n",
    "#    for jcol in range(ncols): # process as if data are column-wise (probably are)\n",
    "    end=-1\n",
    "    for block in range(blocks):\n",
    "        begin=end+1\n",
    "        end = begin+10\n",
    "#debug        externalfile.write(\"row\" + repr(irow) + \" block\" + repr(block) + \" begin\" + repr(begin) + \" end\" + repr(end) + \" \")\n",
    "#        message = '  '.join(map(repr, f\"{ascii_RCZ[irow][begin:end]:{10}.{6}}\")) + \"\\n\"\n",
    "        message = '  '.join(map(repr, round(ascii_RCZ[irow][begin:end],3)) + \"\\n\"\n",
    "        externalfile.write(message)\n",
    "########### END ELEVATION MATRIX ################\n",
    "########### BEGIN SIMULATION CONTROLS ###########\n",
    "cman = 1.5   # scaling term\n",
    "fdeep = 0.200  # average overland flow depth (subjective 6-8 inches is upper support)\n",
    "nman = 0.04  # roughness term\n",
    "alife = 1.000  # survival probability for one time step as per bernoulli process\n",
    "cman = 100*cman\n",
    "nman = 100*nman\n",
    "f1 = f\"{cman:{10}.{6}}\"\n",
    "f2 = f\"{fdeep:{10}.{6}}\"\n",
    "f3 = f\"{nman:{10}.{6}}\"\n",
    "f4 = f\"{alife:{10}.{6}}\"\n",
    "f5 = \"   CMAN,FDEEP,NMAN,ALIFE \\n\"\n",
    "externalfile.write(f1 + f2 + f3 + f4 + f5)\n",
    "dx = 26.656 # cell size (meters)\n",
    "dt = 1.0 # minutes\n",
    "tmax = 1440.0 # minutes\n",
    "d1 = 1000.0 # huh?\n",
    "dxt = 26.656 # pixel size (meters)\n",
    "dyt = 26.656 # pixel size (meters)\n",
    "f7 = \"      DX,DT,TMAX,D1,DXT,DYT \\n\"\n",
    "f6 = f\"{dyt:{10}.{6}}\"\n",
    "f5 = f\"{dxt:{10}.{6}}\"\n",
    "f4 = f\"{d1:{10}.{6}}\" \n",
    "f3 = f\"{tmax:{10}.{6}}\"\n",
    "f2 = f\"{dt:{10}.{6}}\"\n",
    "f1 = f\"{dx:{10}.{6}}\"\n",
    "externalfile.write(f1 + f2 + f3 + f4 + f5 + f6 + f7)\n",
    "# compute the initial particle count \n",
    "f1 = f\"{np:{10}}\"\n",
    "nprint=100 # print output every nprint time steps\n",
    "f2 = f\"{nprint:{10}}\"\n",
    "f3 = \"            NP,PRINT_N \\n \"\n",
    "externalfile.write(f1 + f2 + f3)\n",
    "########### END SIMULATION CONTROLS #############\n",
    "########### BEGIN BOUNDARY MASK #################\n",
    "for irow in range(nrows): # should be a single row\n",
    "#    for jcol in range(ncols): # process as if data are column-wise (probably are)\n",
    "    end=-1\n",
    "    for block in range(blocks):\n",
    "        begin=end+1\n",
    "        end = begin+10\n",
    "#debug        externalfile.write(\"row\" + repr(irow) + \" block\" + repr(block) + \" begin\" + repr(begin) + \" end\" + repr(end) + \" \")\n",
    "        message = '  '.join(map(repr, part_mask[irow][begin:end])) + \"\\n\"\n",
    "        externalfile.write(message)\n",
    "########### END BOUNDARY MASK #################\n",
    "########### BEGIN BACK MATTER #################\n",
    "f1 = f\"{outrow:{10}}\"\n",
    "f2 = f\"{outcol:{10}}\"\n",
    "f3 = f\"{lowElev:{10}.{6}}\"\n",
    "f4 = \"  OUTLET LOCATION AND ELEVATION \\n\"\n",
    "externalfile.write(f1 + f2 + f3 + f4)\n",
    "########### END BACK MATTER #################\n",
    "externalfile.close()\n",
    "print(\"file for DTRM is built\")"
   ]
  },
  {
   "cell_type": "code",
   "execution_count": null,
   "metadata": {},
   "outputs": [],
   "source": []
  }
 ],
 "metadata": {
  "kernelspec": {
   "display_name": "Python 3",
   "language": "python",
   "name": "python3"
  },
  "language_info": {
   "codemirror_mode": {
    "name": "ipython",
    "version": 3
   },
   "file_extension": ".py",
   "mimetype": "text/x-python",
   "name": "python",
   "nbconvert_exporter": "python",
   "pygments_lexer": "ipython3",
   "version": "3.8.10"
  }
 },
 "nbformat": 4,
 "nbformat_minor": 4
}
