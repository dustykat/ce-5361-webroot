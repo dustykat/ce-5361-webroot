{
 "cells": [
  {
   "cell_type": "code",
   "execution_count": 61,
   "metadata": {},
   "outputs": [
    {
     "name": "stdout",
     "output_type": "stream",
     "text": [
      "['301493.230623291573', '3814195.86687662033', '0']\n"
     ]
    }
   ],
   "source": [
    "    filename = \"LakeTheo.xyz\"\n",
    "    ascii_xyz = []\n",
    "    externalfile = open(filename,'r') # create connection to file, set to read (r), file must exist\n",
    "    for line in externalfile:\n",
    "        if line[0] == '#' or line[0] == \"D\" : # skip comments and header row\n",
    "            continue\n",
    "        else:\n",
    "            ascii_xyz.append([str(n) for n in line.strip().split()])\n",
    "    externalfile.close()\n",
    "    ascii_xyz_len = len(ascii_xyz) # how many rows\n",
    "    print(ascii_xyz[0]) # print first row"
   ]
  },
  {
   "cell_type": "code",
   "execution_count": 62,
   "metadata": {},
   "outputs": [
    {
     "name": "stdout",
     "output_type": "stream",
     "text": [
      "Yay! Sizes match - proceede\n"
     ]
    }
   ],
   "source": [
    "nrows = 214\n",
    "ncols = 344\n",
    "nlay = nrows*ncols # a dummy dimension\n",
    "if(nrows*ncols == ascii_xyz_len):\n",
    "    print('Yay! Sizes match - proceede')"
   ]
  },
  {
   "cell_type": "code",
   "execution_count": 63,
   "metadata": {},
   "outputs": [],
   "source": [
    "ascii_RCZ = [[0 for i in range(ncols)] for j in range(nrows)] # prepopulate RC with zeros (will assign correct values below)\n",
    "index=0\n",
    "for irow in range(nrows):\n",
    "    for jcol in range(ncols): # process as if data are column-wise (probably are)\n",
    "        ascii_RCZ[irow][jcol] = float(ascii_xyz[index][2]) # put the correct elevation in place\n",
    "        index = index+1 # increment the counter\n",
    "\n",
    "# should now have the watershed in grid structure for the DTRM program, \n",
    "# not quite done yet as it needs to be written into proper format for FORTRAN program, but well along the way!"
   ]
  },
  {
   "cell_type": "code",
   "execution_count": 159,
   "metadata": {},
   "outputs": [
    {
     "name": "stdout",
     "output_type": "stream",
     "text": [
      "147 337 797.01318359375\n"
     ]
    }
   ],
   "source": [
    "# Find the outlet (assume lowest cell bigger than zero)\n",
    "lowElev = 99999 # start widda big number\n",
    "for irow in range(nrows):\n",
    "    for jcol in range(ncols):\n",
    "        if(ascii_RCZ[irow][jcol] > 0): \n",
    "            if(ascii_RCZ[irow][jcol] <= lowElev):\n",
    "                lowElev = ascii_RCZ[irow][jcol]\n",
    "                outrow = irow\n",
    "                outcol = jcol\n",
    "\n",
    "print(outrow,outcol,lowElev) # this is our outlet information"
   ]
  },
  {
   "cell_type": "code",
   "execution_count": 73,
   "metadata": {},
   "outputs": [
    {
     "name": "stdout",
     "output_type": "stream",
     "text": [
      "213 343 990.0\n"
     ]
    }
   ],
   "source": [
    "# Find the high cell(s) values\n",
    "hiElev = -99999 # start widda little number\n",
    "for irow in range(nrows):\n",
    "    for jcol in range(ncols):\n",
    "        if(ascii_RCZ[irow][jcol] > 0): \n",
    "            if(ascii_RCZ[irow][jcol] >= hiElev):\n",
    "                hiElev = ascii_RCZ[irow][jcol]\n",
    "                hirow = irow\n",
    "                hicol = jcol\n",
    "\n",
    "print(hirow,hicol,hiElev) # this is our high value information of last high cell visited"
   ]
  },
  {
   "cell_type": "code",
   "execution_count": 153,
   "metadata": {},
   "outputs": [
    {
     "name": "stdout",
     "output_type": "stream",
     "text": [
      "[0, 0, 0, 0, 0, 0, 0, 0, 0, 0, 0, 0, 0, 0, 0, 0, 0, 0, 0, 0, 0, 0, 0, 0, 0, 0, 0, 0, 0, 0, 0, 0, 0, 0, 1, 1, 1, 1, 1, 1, 1, 1, 1, 1, 1, 1, 1, 1, 1, 1, 0, 0, 0, 0, 0, 0, 0, 0, 0, 0, 0, 0, 0, 0, 0, 0, 1, 1, 1, 1, 1, 1, 1, 1, 1, 1, 1, 1, 1, 1, 1, 1, 1, 1, 1, 1, 1, 1, 1, 1, 1, 1, 1, 1, 1, 0, 0, 0, 0, 0, 0, 1, 1, 1, 1, 1, 1, 1, 1, 1, 1, 1, 1, 1, 1, 1, 1, 1, 1, 1, 1, 1, 1, 1, 1, 1, 1, 1, 1, 1, 1, 1, 1, 1, 1, 1, 1, 1, 1, 1, 1, 1, 1, 1, 1, 0, 0, 0, 0, 0, 0, 0, 0, 0, 0, 0, 0, 0, 0, 0, 0, 0, 0, 0, 0, 0, 0, 0, 0, 0, 0, 0, 0, 0, 0, 0, 0, 0, 0, 0, 0, 0, 0, 0, 0, 0, 0, 0, 0, 0, 0, 0, 0, 0, 0, 0, 0, 0, 0, 0, 0, 0, 0, 0, 0, 0, 0, 0, 0, 0, 0, 0, 0, 0, 0, 0, 0, 0, 0, 0, 0, 0, 0, 0, 0, 0, 0, 0, 0, 0, 0, 0, 0, 0, 0, 0, 0, 0, 0, 0, 0, 0, 0, 0, 0, 0, 0, 0, 0, 0, 0, 0, 0, 0, 0, 0, 0, 0, 0, 0, 0, 0, 0, 0, 0, 0, 0, 0, 0, 0, 0, 0, 0, 0, 0, 0, 0, 0, 0, 0, 0, 0, 0, 0, 0, 0, 0, 0, 0, 0, 0, 0, 0, 0, 0, 0, 0, 0, 0, 0, 0, 0, 0, 0, 0, 0, 0, 0, 0, 0, 0, 0, 0, 0, 0, 0, 0, 0, 0, 0, 0, 0, 0, 0, 0, 0, 0, 0, 0, 0, 0, 0, 0, 0, 0, 0, 0, 0, 0, 0, 0, 0, 0, 0]\n"
     ]
    }
   ],
   "source": [
    "# Now build the mask grid to contain the boundary location\n",
    "# Mask value == 0 if no particle cell\n",
    "# Mask value = 1 if particle cell\n",
    "part_mask = [[0 for i in range(ncols)] for j in range(nrows)] # initialize the mask all zeros\n",
    "np = 0\n",
    "for irow in range(nrows):\n",
    "    for jcol in range(ncols): # process as if data are column-wise (probably are)\n",
    "         if (ascii_RCZ[irow][jcol] < hiElev):\n",
    "                part_mask[irow][jcol]=1\n",
    "                np = np + 1\n",
    "                \n",
    "#print(part_mask[22]) #looks like the right structure"
   ]
  },
  {
   "cell_type": "code",
   "execution_count": 74,
   "metadata": {},
   "outputs": [],
   "source": [
    "for irow in range(nrows):\n",
    "    for jcol in range(ncols):\n",
    "        if(ascii_RCZ[irow][jcol] <= 0): \n",
    "            ascii_RCZ[irow][jcol] = hiElev"
   ]
  },
  {
   "cell_type": "code",
   "execution_count": 135,
   "metadata": {},
   "outputs": [
    {
     "name": "stdout",
     "output_type": "stream",
     "text": [
      "DIRECTIVE \n",
      "\n",
      "       214       344             NROW  NCOL \n",
      "\n"
     ]
    }
   ],
   "source": [
    "width = 10\n",
    "precision = 4\n",
    "value = float(\"12.34567\")\n",
    "f\"result: {value:{width}.{precision}}\"\n",
    "\n"
   ]
  },
  {
   "cell_type": "code",
   "execution_count": 161,
   "metadata": {},
   "outputs": [
    {
     "name": "stdout",
     "output_type": "stream",
     "text": [
      "file for DTRM is built\n"
     ]
    }
   ],
   "source": [
    "# Now need to write an output file in FORTRAN structure\n",
    "filename = \"LakeTheo.mat.dat\"\n",
    "externalfile = open(filename,\"w\") # \"w\" clobbers content already there, consider if \"a\" is better choice!\n",
    "blocks = int(ncols/11)+1\n",
    "#debug externalfile.write(\"Row Count    : \" + repr(int(nrows)) + \"\\n\")\n",
    "#debug externalfile.write(\"Column Count : \" + repr(int(ncols))+ \"\\n\")\n",
    "#debug externalfile.write(\"Block Count  : \" + repr(int(blocks))+ \"\\n\")\n",
    "########### BEGIN FRONT MATTER #################\n",
    "firstline = \"DIRECTIVE \\n\"  # Directive(s); TERSE, VERBOSE, or DIRECTIVE(do nothing)\n",
    "f1 = f\"{nrows:{10}}\"\n",
    "f2 = f\"{ncols:{10}}\"\n",
    "f3 = \"             NROW  NCOL \\n\"\n",
    "secondline =    f1 + f2 + f3\n",
    "#debug print(firstline)\n",
    "#debug print(secondline)\n",
    "externalfile.write(firstline)\n",
    "externalfile.write(secondline)\n",
    "########### END FRONT MATTER ###################\n",
    "########### BEGIN ELEVATION MATRIX #############\n",
    "for irow in range(nrows): # should be a single row\n",
    "#    for jcol in range(ncols): # process as if data are column-wise (probably are)\n",
    "    end=-1\n",
    "    for block in range(blocks):\n",
    "        begin=end+1\n",
    "        end = begin+10\n",
    "#debug        externalfile.write(\"row\" + repr(irow) + \" block\" + repr(block) + \" begin\" + repr(begin) + \" end\" + repr(end) + \" \")\n",
    "        message = '  '.join(map(repr, ascii_RCZ[irow][begin:end])) + \"\\n\"\n",
    "        externalfile.write(message)\n",
    "########### END ELEVATION MATRIX ################\n",
    "########### BEGIN SIMULATION CONTROLS ###########\n",
    "cman = 1.5   # scaling term\n",
    "fdeep = 0.200  # average overland flow depth (subjective 6-8 inches is upper support)\n",
    "nman = 0.04  # roughness term\n",
    "alife = 1.000  # survival probability for one time step as per bernoulli process\n",
    "cman = 100*cman\n",
    "nman = 100*nman\n",
    "f1 = f\"{cman:{10}.{6}}\"\n",
    "f2 = f\"{fdeep:{10}.{6}}\"\n",
    "f3 = f\"{nman:{10}.{6}}\"\n",
    "f4 = f\"{alife:{10}.{6}}\"\n",
    "f5 = \"   CMAN,FDEEP,NMAN,ALIFE \\n\"\n",
    "externalfile.write(f1 + f2 + f3 + f4 + f5)\n",
    "dx = 26.656 # cell size (meters)\n",
    "dt = 1.0 # minutes\n",
    "tmax = 1440.0 # minutes\n",
    "d1 = 1000.0 # huh?\n",
    "dxt = 26.656 # pixel size (meters)\n",
    "dyt = 26.656 # pixel size (meters)\n",
    "f7 = \"      DX,DT,TMAX,D1,DXT,DYT \\n\"\n",
    "f6 = f\"{dyt:{10}.{6}}\"\n",
    "f5 = f\"{dxt:{10}.{6}}\"\n",
    "f4 = f\"{d1:{10}.{6}}\" \n",
    "f3 = f\"{tmax:{10}.{6}}\"\n",
    "f2 = f\"{dt:{10}.{6}}\"\n",
    "f1 = f\"{dx:{10}.{6}}\"\n",
    "externalfile.write(f1 + f2 + f3 + f4 + f5 + f6 + f7)\n",
    "# compute the initial particle count \n",
    "f1 = f\"{np:{10}}\"\n",
    "nprint=100 # print output every nprint time steps\n",
    "f2 = f\"{nprint:{10}}\"\n",
    "f3 = \"            NP,PRINT_N \\n \"\n",
    "externalfile.write(f1 + f2 + f3)\n",
    "########### END SIMULATION CONTROLS #############\n",
    "########### BEGIN BOUNDARY MASK #################\n",
    "for irow in range(nrows): # should be a single row\n",
    "#    for jcol in range(ncols): # process as if data are column-wise (probably are)\n",
    "    end=-1\n",
    "    for block in range(blocks):\n",
    "        begin=end+1\n",
    "        end = begin+10\n",
    "#debug        externalfile.write(\"row\" + repr(irow) + \" block\" + repr(block) + \" begin\" + repr(begin) + \" end\" + repr(end) + \" \")\n",
    "        message = '  '.join(map(repr, part_mask[irow][begin:end])) + \"\\n\"\n",
    "        externalfile.write(message)\n",
    "########### END BOUNDARY MASK #################\n",
    "########### BEGIN BACK MATTER #################\n",
    "f1 = f\"{outrow:{10}}\"\n",
    "f2 = f\"{outcol:{10}}\"\n",
    "f3 = f\"{lowElev:{10}.{6}}\"\n",
    "f4 = \"  OUTLET LOCATION AND ELEVATION \\n\"\n",
    "externalfile.write(f1 + f2 + f3 + f4)\n",
    "########### END BACK MATTER #################\n",
    "externalfile.close()\n",
    "print(\"file for DTRM is built\")"
   ]
  },
  {
   "cell_type": "code",
   "execution_count": 42,
   "metadata": {},
   "outputs": [
    {
     "name": "stdout",
     "output_type": "stream",
     "text": [
      "[0, 0, 0]\n",
      "[0, 0, 0]\n",
      "[0, 0, 0]\n",
      "[0, 0, 0]\n",
      "[0, 0, 0]\n"
     ]
    }
   ],
   "source": [
    "cols = 3\n",
    "rows = 5\n",
    "arr = [[0 for i in range(cols)] for j in range(rows)]\n",
    "for i in range(rows):\n",
    "    print(arr[i])  # print entire row"
   ]
  },
  {
   "cell_type": "code",
   "execution_count": 52,
   "metadata": {},
   "outputs": [
    {
     "name": "stdout",
     "output_type": "stream",
     "text": [
      "[0.0, 0.0, 0.0, 0.0, 0.0, -99999.0, -99999.0, -99999.0, -99999.0, -99999.0, -99999.0, -99999.0, -99999.0, -99999.0, -99999.0, -99999.0, 979.0, 980.0, 979.0, 977.0, 976.038330078125, 976.03369140625, 976.029052734375, 977.0, 976.015869140625, 976.01123046875, 976.006591796875, 976.0, 976.0, 976.0, 976.0, 975.031005859375, 975.0263671875, 975.0244140625, 975.019775390625, 976.0, 975.006591796875, 975.0, 974.0, 973.07666015625, 973.072021484375, 973.0673828125, 973.062744140625, 973.05810546875, 973.053466796875, 973.048828125, 974.0, 974.0, 973.040283203125, 974.0, 977.0, 978.0, 978.0, 978.0, 976.0, 975.0, 973.0, 970.0, 965.0, 963.004638671875, 964.0, 965.0, 964.0, 961.0, 956.0, 954.0, 956.0, 950.0, 942.0, 938.0, 936.004638671875, 939.0, 942.0, 947.0, 954.0, 956.0, 950.0, 943.0, 942.0, 940.0, 939.0, 937.0, 932.0, 925.0, 919.0, 917.0, 916.006591796875, 916.0, 916.0, 916.0, 921.0, 929.0, 936.0, 936.0, 929.0, 919.0, 920.0, 929.0, 937.0, 948.0, 953.0, 958.0, 960.0, 961.0, 962.0, 961.0, 957.0, 956.0, 955.0, 955.0, 954.0, 950.0, 943.0, 934.0, 930.0, 926.0, 921.0, 921.0, 920.0, 918.0, 913.00927734375, 913.004638671875, 913.0, 911.006591796875, 912.0, 912.0, 910.0, 910.0, 910.0, 909.0, 905.0, 903.004638671875, 903.0, 901.0, 900.0, 898.0, 900.0, 901.0, 904.0, 906.0, 905.0, 901.0, 898.0, 897.0, 893.0, 890.0, 883.0, 879.013916015625, 879.00927734375, 879.004638671875, 879.0, 877.0, 877.0, 878.0, 880.0, 877.0, 869.0, 863.0, 858.038330078125, 858.03369140625, 858.029052734375, 858.0244140625, 860.0, 862.0, 867.0, 874.0, 878.0, 880.0, 884.0, 885.0, 883.0, 882.004638671875, 883.0, 883.0, 880.0, 878.0, 873.0, 879.0, 878.0, 874.0, 869.0, 866.0, 864.0, 865.0, 866.0, 869.0, 866.0, 861.0, 856.0, 855.01123046875, 855.006591796875, 855.0, 853.0, 852.0, 850.0, 851.0, 853.0, 850.0, 848.0, 845.0, 843.0, 842.0, 842.0, 842.0, 842.0, 841.0, 840.0, 839.0, 840.0, 840.0, 840.0, 840.0, 840.0, 838.0, 836.025146484375, 836.0205078125, 836.015869140625, 836.01123046875, 836.006591796875, 836.0, 836.0, 834.0, 833.046142578125, 833.044189453125, 833.042236328125, 833.040283203125, 833.038330078125, 835.0, 837.0, 838.0, 837.0, 837.0, 836.0, 835.0, 835.0, 833.0, 830.004638671875, 833.0, 835.0, 833.0, 829.0, 828.0, 831.0, 834.0, 837.0, 838.0, 839.0, 837.0, 832.0, 831.0, 832.0, 832.0, 834.0, 837.0, 837.0, 836.0, 835.0, 833.0, 831.0, 833.0, 836.0, 839.0, 841.0, 843.0, 844.0, 844.0, 843.0, 842.0, 843.0, 842.0, 840.0, -99999.0, -99999.0, -99999.0, -99999.0, -99999.0, -99999.0, -99999.0, -99999.0, -99999.0, -99999.0, -99999.0, -99999.0, -99999.0, -99999.0, -99999.0, -99999.0, -99999.0, -99999.0, -99999.0, -99999.0, -99999.0, -99999.0, -99999.0, -99999.0, -99999.0, -99999.0, -99999.0, -99999.0, -99999.0, -99999.0, -99999.0, -99999.0, -99999.0, -99999.0, -99999.0, -99999.0, -99999.0, -99999.0, -99999.0, -99999.0, -99999.0, -99999.0, -99999.0, -99999.0, -99999.0, -99999.0, -99999.0, -99999.0, -99999.0, -99999.0, -99999.0, -99999.0, -99999.0, -99999.0, -99999.0, -99999.0, -99999.0, -99999.0, -99999.0, -99999.0, -99999.0, -99999.0, -99999.0, -99999.0, -99999.0, -99999.0, -99999.0, -99999.0, -99999.0, -99999.0, -99999.0, 0.0, 0.0]\n"
     ]
    }
   ],
   "source": [
    "myrow = 100\n",
    "startCol = 0\n",
    "endCol = 10\n",
    "\n",
    "print(ascii_RCZ[myrow])"
   ]
  },
  {
   "cell_type": "code",
   "execution_count": 33,
   "metadata": {},
   "outputs": [
    {
     "data": {
      "text/plain": [
       "[0]"
      ]
     },
     "execution_count": 33,
     "metadata": {},
     "output_type": "execute_result"
    }
   ],
   "source": [
    "ascii_RCZ[0:4]"
   ]
  },
  {
   "cell_type": "code",
   "execution_count": 46,
   "metadata": {},
   "outputs": [
    {
     "data": {
      "text/plain": [
       "[['310609.881877947366', '3814195.86687662033', '0'],\n",
       " ['310636.538752960972', '3814195.86687662033', '0'],\n",
       " ['301493.230623291573', '3814169.21000160649', '0'],\n",
       " ['301519.887498305179', '3814169.21000160649', '0']]"
      ]
     },
     "execution_count": 46,
     "metadata": {},
     "output_type": "execute_result"
    }
   ],
   "source": [
    "ascii_xyz[742:346]"
   ]
  },
  {
   "cell_type": "code",
   "execution_count": 48,
   "metadata": {},
   "outputs": [
    {
     "data": {
      "text/plain": [
       "[0.0, 0.0]"
      ]
     },
     "execution_count": 48,
     "metadata": {},
     "output_type": "execute_result"
    }
   ],
   "source": [
    "ascii_RCZ[0][342]"
   ]
  },
  {
   "cell_type": "code",
   "execution_count": 49,
   "metadata": {},
   "outputs": [
    {
     "data": {
      "text/plain": [
       "0.0"
      ]
     },
     "execution_count": 49,
     "metadata": {},
     "output_type": "execute_result"
    }
   ],
   "source": [
    "ascii_RCZ[1][0]"
   ]
  },
  {
   "cell_type": "code",
   "execution_count": null,
   "metadata": {},
   "outputs": [],
   "source": [
    "  150.000      0.200      4.000      1.000    CMAN,FDEEP,NMAN,ALIFE \n",
    "   29.874      1.000   1440.000   1000.000     29.848     29.901     DX,DT,TMAX,D1,DXT,DYT\n",
    " 31775     100                NP,PRINT_N\n",
    "    mask\n",
    "      21    10    396.000       outlet loc and elev\n"
   ]
  }
 ],
 "metadata": {
  "kernelspec": {
   "display_name": "Python 3",
   "language": "python",
   "name": "python3"
  },
  "language_info": {
   "codemirror_mode": {
    "name": "ipython",
    "version": 3
   },
   "file_extension": ".py",
   "mimetype": "text/x-python",
   "name": "python",
   "nbconvert_exporter": "python",
   "pygments_lexer": "ipython3",
   "version": "3.8.10"
  }
 },
 "nbformat": 4,
 "nbformat_minor": 4
}
