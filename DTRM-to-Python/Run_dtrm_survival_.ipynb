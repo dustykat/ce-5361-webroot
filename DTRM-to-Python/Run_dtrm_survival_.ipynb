{
 "cells": [
  {
   "cell_type": "code",
   "execution_count": 4,
   "metadata": {},
   "outputs": [],
   "source": [
    "# Script to run FORTRAN implementation of DTRM_Survival program\n",
    "# The program must be pre-compiled and executible located in target directory"
   ]
  },
  {
   "cell_type": "code",
   "execution_count": 5,
   "metadata": {},
   "outputs": [],
   "source": [
    "input_file_path_and_name = \"dtrm-raw-files/LakeTheo.mat.dat\"\n",
    "output_file_path_and_name = \"LakeTheo.out.txt\""
   ]
  },
  {
   "cell_type": "code",
   "execution_count": 12,
   "metadata": {},
   "outputs": [],
   "source": [
    "! ./dtrm_survival.arm7.x < dtrm-raw-files/sta08055700_mat.dat > ./sta080557000S.outNEW.txt"
   ]
  },
  {
   "cell_type": "code",
   "execution_count": 3,
   "metadata": {},
   "outputs": [
    {
     "data": {
      "text/plain": [
       "'./dtrm-raw-files/sta08055700_mat.dat'"
      ]
     },
     "execution_count": 3,
     "metadata": {},
     "output_type": "execute_result"
    }
   ],
   "source": [
    "input_file_path_and_name"
   ]
  },
  {
   "cell_type": "code",
   "execution_count": 15,
   "metadata": {},
   "outputs": [
    {
     "name": "stdout",
     "output_type": "stream",
     "text": [
      "At line 105 of file /home/sensei/0-manuscripts-webroot/survival-hydrology/src/dtrm_survival.for (unit = 5, file = 'stdin')\n",
      "Fortran runtime error: Bad real number in item 1 of list input\n",
      "\n",
      "Error termination. Backtrace:\n",
      "#0  0xffff7fdb2eeb\n",
      "#1  0xffff7fdb3c33\n",
      "#2  0xffff7fdb47b3\n",
      "#3  0xffff7fea4b6f\n",
      "#4  0xffff7fea579f\n",
      "#5  0xffff7fea658f\n",
      "#6  0xaaaac81e72e7\n",
      "#7  0xaaaac81e993f\n",
      "#8  0xffff7fb98e0f\n",
      "#9  0xaaaac81e0cf3\n"
     ]
    }
   ],
   "source": [
    "! ./dtrm_survival.arm7.x < dtrm-raw-files/LakeTheo.mat.dat > ./LakeTheo.out.txt"
   ]
  },
  {
   "cell_type": "code",
   "execution_count": null,
   "metadata": {},
   "outputs": [],
   "source": []
  }
 ],
 "metadata": {
  "kernelspec": {
   "display_name": "Python 3",
   "language": "python",
   "name": "python3"
  },
  "language_info": {
   "codemirror_mode": {
    "name": "ipython",
    "version": 3
   },
   "file_extension": ".py",
   "mimetype": "text/x-python",
   "name": "python",
   "nbconvert_exporter": "python",
   "pygments_lexer": "ipython3",
   "version": "3.8.10"
  }
 },
 "nbformat": 4,
 "nbformat_minor": 4
}
