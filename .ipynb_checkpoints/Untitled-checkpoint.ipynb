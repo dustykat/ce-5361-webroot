{
 "cells": [
  {
   "cell_type": "markdown",
   "metadata": {},
   "source": [
    "Attendance QR Codes\n",
    "\n",
    "<img src=\"http://54.243.252.9/ce-5361-webroot/QRDistanceSection.png\" alt=\"drawing\" width=\"400\"/> <img src=\"http://54.243.252.9/ce-5361-webroot/QRLocalSection.png\" alt=\"drawing\" width=\"400\"/>\n",
    "\n",
    "<!-- ![](QRDistanceSection.png)\n",
    "\n",
    "![](QRLocalSection.png) -->"
   ]
  },
  {
   "cell_type": "code",
   "execution_count": null,
   "metadata": {},
   "outputs": [],
   "source": []
  }
 ],
 "metadata": {
  "kernelspec": {
   "display_name": "Python 3",
   "language": "python",
   "name": "python3"
  },
  "language_info": {
   "codemirror_mode": {
    "name": "ipython",
    "version": 3
   },
   "file_extension": ".py",
   "mimetype": "text/x-python",
   "name": "python",
   "nbconvert_exporter": "python",
   "pygments_lexer": "ipython3",
   "version": "3.8.10"
  }
 },
 "nbformat": 4,
 "nbformat_minor": 4
}
