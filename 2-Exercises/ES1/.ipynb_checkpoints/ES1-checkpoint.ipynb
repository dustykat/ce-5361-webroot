{
 "cells": [
  {
   "cell_type": "markdown",
   "metadata": {},
   "source": [
    "# <font color=darkblue>CE 5361 Surface Water Hydrology<br> Spring 2023 Exercise Set 1</font>\n",
    "\n",
    "**LAST NAME, FIRST NAME**\n",
    "\n",
    "**R00000000**\n",
    "\n",
    "___\n",
    "\n",
    "### Purpose : \n",
    "Apply definition of watershed to delineate (determine boundary and metrics) a watershed for subsequent examination.\n",
    "### Assessment Criteria : \n",
    "Completion, plausible solution, documentation of methods employed.\n",
    "### Notes:\n",
    "If you choose to use QGIS, here is a video on how to manually install SAGA 9.1.X [How to manual install SAGA 9.1 (YouTube) ](https://www.youtube.com/watch?v=VKdaripCups). \n",
    "\n",
    "___"
   ]
  },
  {
   "cell_type": "markdown",
   "metadata": {},
   "source": [
    "## Problem 1\n",
    "\n",
    "Determine the boundary (outline) of the catchment (watershed) that drains to the lake depicted in the image below.  The location is Caprock Canyon State Park in Texas.  About 90 miles from Lubbock.\n",
    "\n",
    "![](CE5361-StudyArea.png)\n",
    "\n",
    "Use appropriate tools (ArcGIS, QGIS, or manual with topographic map)"
   ]
  },
  {
   "cell_type": "markdown",
   "metadata": {},
   "source": [
    "## Problem 2\n",
    "\n",
    "Determine the catchment area in acres and hectares\n",
    "\n",
    "Use appropriate tools (ArcGIS, QGIS, or manual with topographic map)"
   ]
  },
  {
   "cell_type": "markdown",
   "metadata": {},
   "source": [
    "## Problem 3\n",
    "\n",
    "Determine the approximate main channel (or your best guess) and the length of the channel in feet, meters, and miles.  Also determine the elevation change along the main channel."
   ]
  },
  {
   "cell_type": "code",
   "execution_count": null,
   "metadata": {},
   "outputs": [],
   "source": []
  }
 ],
 "metadata": {
  "kernelspec": {
   "display_name": "Python 3",
   "language": "python",
   "name": "python3"
  },
  "language_info": {
   "codemirror_mode": {
    "name": "ipython",
    "version": 3
   },
   "file_extension": ".py",
   "mimetype": "text/x-python",
   "name": "python",
   "nbconvert_exporter": "python",
   "pygments_lexer": "ipython3",
   "version": "3.8.10"
  }
 },
 "nbformat": 4,
 "nbformat_minor": 4
}
